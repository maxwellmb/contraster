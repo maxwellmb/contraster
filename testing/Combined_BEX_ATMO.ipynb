{
 "cells": [
  {
   "cell_type": "code",
   "execution_count": null,
   "metadata": {},
   "outputs": [],
   "source": []
  }
 ],
 "metadata": {
  "kernelspec": {
   "display_name": "Python 3.7.13 ('base')",
   "language": "python",
   "name": "python3"
  },
  "language_info": {
   "name": "python",
   "version": "3.7.13"
  },
  "orig_nbformat": 4,
  "vscode": {
   "interpreter": {
    "hash": "0e7c2ea555855c9f57c4db6d48e17646d00561a8825fd834da410fe010272520"
   }
  }
 },
 "nbformat": 4,
 "nbformat_minor": 2
}
