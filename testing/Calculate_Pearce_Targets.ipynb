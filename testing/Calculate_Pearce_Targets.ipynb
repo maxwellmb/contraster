{
 "cells": [
  {
   "cell_type": "code",
   "execution_count": 1,
   "metadata": {},
   "outputs": [],
   "source": [
    "import pandas as pd\n",
    "from astroquery.simbad import Simbad\n",
    "from jwst import *\n",
    "\n",
    "%load_ext autoreload\n",
    "%autoreload 2\n",
    "Simbad.add_votable_fields('flux(K)','sp')\n",
    "\n",
    "max_bex_age = 1000 #This isn't the actually maximum age, but the maximum age above which there isn't much data. "
   ]
  },
  {
   "cell_type": "markdown",
   "metadata": {},
   "source": [
    "Directories to change depending on what computer you're on"
   ]
  },
  {
   "cell_type": "code",
   "execution_count": 2,
   "metadata": {},
   "outputs": [],
   "source": [
    "figure_base_directory = \"./Figures_F444W/\""
   ]
  },
  {
   "cell_type": "code",
   "execution_count": 3,
   "metadata": {},
   "outputs": [],
   "source": [
    "computer = 'max_laptop'\n",
    "connor = False\n",
    "maxmb = True\n",
    "\n",
    "if computer == 'connor':\n",
    "    base_model_dir=\"/Users/connorvancil/Desktop/AstroResearch/Data/models/evolutionary_tracks/ATMO_CEQ/\"\n",
    "    bex_file = None\n",
    "elif computer == 'max_laptop': \n",
    "    base_model_dir=\"/Users/maxwellmb/Data/models/ATMO_2020_models/evolutionary_tracks/ATMO_CEQ/\"\n",
    "    bex_file = '/Users/maxwellmb/Data/models/BEX/isochrones/BEX_evol_mags_-2_MH_0.00AC.dat'\n",
    "elif computer == 'max_desktop':\n",
    "    base_model_dir = \"TBD\"\n",
    "    bex_file = None"
   ]
  },
  {
   "cell_type": "markdown",
   "metadata": {},
   "source": [
    "Read in the Pearce Table"
   ]
  },
  {
   "cell_type": "code",
   "execution_count": 4,
   "metadata": {},
   "outputs": [],
   "source": [
    "df = pd.read_csv('../allDiscAnalysisResults.csv')\n",
    "data_arr = df[['Target','Distance_pc','Age_Myr','PearceMPlt_MJup', 'PearcePltApocentre_arcsec','DiscInnerEdgePeri_au','DiscOuterEdgeApo_au']].to_numpy()\n",
    "target_dict={}\n",
    "for row in data_arr:\n",
    "    target_dict[row[0]]=row[1:]"
   ]
  },
  {
   "cell_type": "markdown",
   "metadata": {},
   "source": [
    "Query all targets"
   ]
  },
  {
   "cell_type": "code",
   "execution_count": 5,
   "metadata": {},
   "outputs": [],
   "source": [
    "targets=df['Target'].to_numpy()\n",
    "queried_params=[];spts=[]\n",
    "for target in targets:\n",
    "    result_table = Simbad.query_object(target)\n",
    "    spts.append(result_table['SP_TYPE'][0])\n",
    "    queried_params.append([target,result_table['FLUX_K'][0]])"
   ]
  },
  {
   "cell_type": "markdown",
   "metadata": {},
   "source": [
    "Force Spectral Types to those in ck04models"
   ]
  },
  {
   "cell_type": "code",
   "execution_count": 6,
   "metadata": {},
   "outputs": [],
   "source": [
    "spts[40]='A5V'\n",
    "spts[103]='A1V'\n",
    "for i,spt in enumerate(spts):\n",
    "    if spt not in lookuptable: \n",
    "        spts[i] = match_spt(spt)\n",
    "[params.append(spts[i]) for i, params in  enumerate(queried_params)]\n",
    "\n",
    "#adding another dictionary to hold these queried paramters in a more useful format\n",
    "simbad_vals={}\n",
    "for star in queried_params:\n",
    "    simbad_vals[star[0]]=[star[1],star[2]]"
   ]
  },
  {
   "cell_type": "markdown",
   "metadata": {},
   "source": [
    "Set up some configuration info"
   ]
  },
  {
   "cell_type": "code",
   "execution_count": 7,
   "metadata": {},
   "outputs": [],
   "source": [
    "configs = {'f250m':  {'instrument':'nircam','instrument_mask':'mask335r'},\n",
    "            'f300m': {'instrument':'nircam','instrument_mask':'mask335r'}, \n",
    "            'f356w': {'instrument':'nircam','instrument_mask':'mask335r'},\n",
    "            'f410m': {'instrument':'nircam','instrument_mask':'mask335r'},\n",
    "            'f444w': {'instrument':'nircam','instrument_mask':'mask335r'},\n",
    "            'f1140c':{'instrument':'miri',  'instrument_mask':None},\n",
    "            'f1550c':{'instrument':'miri',  'instrument_mask':None},\n",
    "            }\n",
    "filter_list = list(configs.keys())\n",
    "filter_list = ['f444w'] #For now only doing this filter because the bex filters only have this filter."
   ]
  },
  {
   "cell_type": "code",
   "execution_count": 8,
   "metadata": {},
   "outputs": [
    {
     "name": "stdout",
     "output_type": "stream",
     "text": [
      "Target 0: HD113556, 15.0 Myr, 101 pc, kmag=7.2\n"
     ]
    },
    {
     "name": "stderr",
     "output_type": "stream",
     "text": [
      "/Users/maxwellmb/Dropbox (Personal)/Library/Python/contraster/testing/models.py:89: VisibleDeprecationWarning: Creating an ndarray from ragged nested sequences (which is a list-or-tuple of lists-or-tuples-or ndarrays with different lengths or shapes) is deprecated. If you meant to do this, you must specify 'dtype=object' when creating the ndarray.\n",
      "  return np.array(masses)[sorted_by_mass], np.array(age_list)[sorted_by_mass], np.array(mag_list)[sorted_by_mass]\n"
     ]
    },
    {
     "name": "stdout",
     "output_type": "stream",
     "text": [
      "\tCOMPANION DETECTED!\n",
      "Target 1: HD114082, 15.0 Myr, 95 pc, kmag=7.2\n",
      "\tCompanion separation for HD114082 is < 0.4 arcseconds, skipping\n",
      "Target 2: HD115617, 4000.0 Myr, 9 pc, kmag=3.0\n",
      "Target 3: HD115820, 15.0 Myr, 116 pc, kmag=7.3\n",
      "\tCompanion separation for HD115820 is < 0.4 arcseconds, skipping\n",
      "Target 4: HD115892, 200.0 Myr, 18 pc, kmag=2.7\n",
      "Target 5: HD120326, 15.5 Myr, 114 pc, kmag=7.5\n",
      "\tCompanion separation for HD120326 is < 0.4 arcseconds, skipping\n",
      "Target 6: HD121191, 15.5 Myr, 132 pc, kmag=7.7\n",
      "\tCompanion separation for HD121191 is < 0.4 arcseconds, skipping\n",
      "Target 7: HD121617, 15.5 Myr, 116 pc, kmag=7.2\n",
      "\tCompanion separation for HD121617 is < 0.4 arcseconds, skipping\n",
      "Target 8: HD123889, 16.0 Myr, 128 pc, kmag=7.7\n",
      "\tCompanion separation for HD123889 is < 0.4 arcseconds, skipping\n",
      "Target 9: HD125162, 300.0 Myr, 30 pc, kmag=3.9\n",
      "\tCompanion separation for HD125162 is < 0.4 arcseconds, skipping\n",
      "Target 10: HD125451, 1400.0 Myr, 26 pc, kmag=4.4\n",
      "Target 11: HD125541, 16.0 Myr, 160 pc, kmag=8.1\n",
      "\tCompanion separation for HD125541 is < 0.4 arcseconds, skipping\n",
      "Target 12: HD126062, 16.0 Myr, 132 pc, kmag=7.3\n",
      "\tCOMPANION DETECTED!\n",
      "Target 13: HD127762, 900.0 Myr, 27 pc, kmag=2.6\n",
      "Target 14: HD127821, 1300.0 Myr, 32 pc, kmag=5.0\n",
      "Target 15: HD128311, 500.0 Myr, 16 pc, kmag=5.1\n",
      "Target 16: HD131511, 1000.0 Myr, 11 pc, kmag=4.3\n",
      "Target 17: HD131835, 16.0 Myr, 133 pc, kmag=7.5\n",
      "\tCompanion separation for HD131835 is < 0.4 arcseconds, skipping\n",
      "Target 18: HD134888, 16.0 Myr, 112 pc, kmag=7.7\n",
      "\tCompanion separation for HD134888 is < 0.4 arcseconds, skipping\n",
      "Target 19: HD135379, 500.0 Myr, 28 pc, kmag=3.9\n",
      "Target 20: HD135599, 1200.0 Myr, 16 pc, kmag=5.0\n",
      "Target 21: HD135953, 16.0 Myr, 130 pc, kmag=8.2\n"
     ]
    }
   ],
   "source": [
    "full_detection_list = []\n",
    "\n",
    "for i, target in enumerate(targets):\n",
    "    \n",
    "    age = target_dict[target][1]\n",
    "    distance = target_dict[target][0]\n",
    "    comp_sep = target_dict[target][3] #Companion separation in arcseconds\n",
    "    comp_mass = target_dict[target][2] #Companions mass in M_Jup\n",
    "\n",
    "    disk_inner_edge = target_dict[target][4]/distance\n",
    "    disk_outer_edge = target_dict[target][5]/distance\n",
    "    \n",
    "    kmag,spt = simbad_vals[target]\n",
    "    \n",
    "    mass_limits_list = []\n",
    "    sep_list = []\n",
    "    target_detection_array = []\n",
    "    almost_detected_array = []\n",
    "\n",
    "    print(\"Target {}: {}, {} Myr, {:.0f} pc, kmag={:.1f}\".format(i,target,age,distance,kmag))\n",
    "\n",
    "    if comp_sep < 0.4:\n",
    "        print(\"\\tCompanion separation for {} is < 0.4 arcseconds, skipping\".format(target))\n",
    "        continue\n",
    "\n",
    "    for filter_name in filter_list:\n",
    "        \n",
    "        instrument = configs[filter_name]['instrument']\n",
    "        instrument_mask = configs[filter_name]['instrument_mask']\n",
    "\n",
    "        jwst_mag = get_jwst_mag(spt,kmag,instrument,filter_name,filter_dir=\"./\",jwst_mask=instrument_mask,\n",
    "                    norm_filter='bessel_k').value\n",
    "\n",
    "        contrast_curves=read_contrast_curves()\n",
    "        sep,companion_mags=companion_detection_limit(jwst_mag,filter_name,contrast_curves,plot=False);\n",
    "\n",
    "        if comp_sep < np.min(sep):\n",
    "            print(\"\\tCompanion of {:.2f} for {} is closer than the IWA in {}, skipping\".format(comp_sep,target,filter_name))\n",
    "            continue\n",
    "\n",
    "        model_dir = base_model_dir+model_instrument_directories.get(instrument.lower())\n",
    "        \n",
    "        if instrument.lower () == \"nircam\":\n",
    "            model_dir+=model_nircam_mask_directories.get(instrument_mask.lower())\n",
    "\n",
    "        if age < max_bex_age:\n",
    "            mass_limits = generate_mass_curve(age,distance,companion_mags,filter_name,sep,model_dir,bex_model_filename=bex_file,\n",
    "                            plot=True)\n",
    "        else: \n",
    "            mass_limits = generate_mass_curve(age,distance,companion_mags,filter_name,sep,model_dir,\n",
    "                            plot=False)\n",
    "\n",
    "        if len(mass_limits) < len(sep):\n",
    "            sep = sep[:len(mass_limits)]\n",
    "        detected = detect_companion(sep,mass_limits,comp_sep,comp_mass)\n",
    "        target_detection_array.append(detected)\n",
    "\n",
    "        #What if we got 2x deeper?\n",
    "        almost_detected = detect_companion(sep,mass_limits/2.,comp_sep,comp_mass)\n",
    "        almost_detected_array.append(almost_detected)\n",
    "\n",
    "        # print(\"Was the companion detected? {}\".format())\n",
    "        mass_limits_list.append(mass_limits)\n",
    "        sep_list.append(sep)\n",
    "\n",
    "    if np.any(target_detection_array):\n",
    "        print(\"\\tCOMPANION DETECTED!\")\n",
    "        full_detection_list.append(True)\n",
    "        figure_directory = figure_base_directory+\"/Detected/\"\n",
    "    elif np.any(almost_detected_array): \n",
    "        full_detection_list.append(False)\n",
    "        figure_directory = figure_base_directory+\"/Almost_Detected/\"\n",
    "    else: \n",
    "        full_detection_list.append(False)\n",
    "        figure_directory = figure_base_directory+\"/Non-Detected/\"\n",
    "    \n",
    "    fig,axis = plt.subplots(1,1,figsize=(12,5))\n",
    "    for i in range(len(mass_limits_list)):\n",
    "        plt.semilogy(sep_list[i],mass_limits_list[i],label=filter_list[i])\n",
    "    plt.title(\"{}, {} Myr, {} pc, kmag={:.1f}, Detected: {}\".format(target,age,distance,kmag,full_detection_list[-1]))\n",
    "    plt.scatter(comp_sep,comp_mass,label=\"Predicted Companion\")\n",
    "\n",
    "    ymin, ymax = axis.get_ylim()\n",
    "\n",
    "    plt.fill_between([disk_inner_edge,disk_outer_edge],[ymin],y2=[ymax],color='k',alpha=0.1)\n",
    "    plt.xlabel(\"Separation (arcseconds)\")\n",
    "    plt.ylabel(r\"Mass Limit ($M_{Jup}$)\")\n",
    "    plt.legend()\n",
    "    plt.savefig(figure_directory+target+\".png\",dpi=200)\n",
    "    plt.close()"
   ]
  },
  {
   "cell_type": "code",
   "execution_count": null,
   "metadata": {},
   "outputs": [
    {
     "data": {
      "text/plain": [
       "77"
      ]
     },
     "execution_count": 15,
     "metadata": {},
     "output_type": "execute_result"
    }
   ],
   "source": [
    "len(mass_limits)"
   ]
  },
  {
   "cell_type": "markdown",
   "metadata": {},
   "source": []
  }
 ],
 "metadata": {
  "kernelspec": {
   "display_name": "Python 3.7.13 ('base')",
   "language": "python",
   "name": "python3"
  },
  "language_info": {
   "codemirror_mode": {
    "name": "ipython",
    "version": 3
   },
   "file_extension": ".py",
   "mimetype": "text/x-python",
   "name": "python",
   "nbconvert_exporter": "python",
   "pygments_lexer": "ipython3",
   "version": "3.7.13"
  },
  "orig_nbformat": 4,
  "vscode": {
   "interpreter": {
    "hash": "0e7c2ea555855c9f57c4db6d48e17646d00561a8825fd834da410fe010272520"
   }
  }
 },
 "nbformat": 4,
 "nbformat_minor": 2
}
