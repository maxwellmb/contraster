{
 "cells": [
  {
   "cell_type": "code",
   "execution_count": 1,
   "metadata": {},
   "outputs": [
    {
     "name": "stderr",
     "output_type": "stream",
     "text": [
      "/opt/anaconda3/lib/python3.8/site-packages/scipy/__init__.py:138: UserWarning: A NumPy version >=1.16.5 and <1.23.0 is required for this version of SciPy (detected version 1.23.5)\n",
      "  warnings.warn(f\"A NumPy version >={np_minversion} and <{np_maxversion} is required for this version of \"\n"
     ]
    }
   ],
   "source": [
    "import pandas as pd\n",
    "from astroquery.simbad import Simbad\n",
    "from jwst import *\n",
    "\n",
    "%load_ext autoreload\n",
    "%autoreload 2\n",
    "\n",
    "\n",
    "#assumes your target is in Tim Pearce's CSV File\n",
    "target_name = 'HD61005'\n",
    "\n",
    "df = pd.read_csv('../allDiscAnalysisResults.csv')\n",
    "data_arr = df[['Target','Distance_pc','Age_Myr','PearceMPlt_MJup', 'PearcePltApocentre_arcsec','DiscInnerEdgePeri_au','DiscOuterEdgeApo_au']].to_numpy()\n",
    "target_dict={}\n",
    "for row in data_arr:\n",
    "    target_dict[row[0]]=row[1:]\n",
    "\n",
    "distance,age,planet_mass,separation,disk_inner_edge,disk_outer_edge = target_dict[target_name]"
   ]
  },
  {
   "cell_type": "markdown",
   "metadata": {},
   "source": [
    "Query Simbad for Spectral type and K-mag"
   ]
  },
  {
   "cell_type": "code",
   "execution_count": 2,
   "metadata": {},
   "outputs": [],
   "source": [
    "Simbad.add_votable_fields('flux(K)','sp')\n",
    "result_table = Simbad.query_object(target_name)\n",
    "kmag,spt = result_table['FLUX_K'][0], result_table['SP_TYPE'][0]"
   ]
  },
  {
   "cell_type": "markdown",
   "metadata": {},
   "source": [
    "Query all targets to and force spectral types"
   ]
  },
  {
   "cell_type": "code",
   "execution_count": 3,
   "metadata": {},
   "outputs": [],
   "source": [
    "targets=df['Target'].to_numpy()\n",
    "queried_params=[];spts=[]\n",
    "for target in targets:\n",
    "    result_table = Simbad.query_object(target)\n",
    "    spts.append(result_table['SP_TYPE'][0])\n",
    "    queried_params.append([target,result_table['FLUX_K'][0]])"
   ]
  },
  {
   "cell_type": "code",
   "execution_count": 4,
   "metadata": {},
   "outputs": [],
   "source": [
    "def match_spt(spt,lookuptable=lookuptable):\n",
    "    available_keys=list(lookuptable.keys())\n",
    "    matches=[];diffs=[]\n",
    "    for key in available_keys:\n",
    "        if spt[0]==key[0]:\n",
    "            matches.append(key)\n",
    "    for match in matches:\n",
    "        diffs.append(np.abs(int(spt[1])-int(match[1])))\n",
    "    forced_spt= spt[0] + str(matches[np.where(diffs==np.min(diffs))[0][0]])[1]+'V'\n",
    "    return forced_spt\n",
    "\n",
    "spts[40]='A5V'\n",
    "spts[103]='A1V'\n",
    "for i,spt in enumerate(spts):\n",
    "    if spt not in lookuptable: \n",
    "        spts[i] = match_spt(spt)\n",
    "[params.append(spts[i]) for i, params in  enumerate(queried_params)]\n",
    "\n",
    "#adding another dictionary to hold these queried paramters in a more useful format\n",
    "simbad_vals={}\n",
    "for star in queried_params:\n",
    "    simbad_vals[star[0]]=[star[1],star[2]]\n"
   ]
  },
  {
   "cell_type": "code",
   "execution_count": 6,
   "metadata": {},
   "outputs": [
    {
     "name": "stdout",
     "output_type": "stream",
     "text": [
      "6.4592444324903 VEGAMAG\n"
     ]
    }
   ],
   "source": [
    "os.environ['PYSYN_CDBS']='/Users/connorvancil/Desktop/AstroResearch/Data/trds/'\n",
    "\n",
    "instrument='nircam'\n",
    "instrument_mask = 'mask335r'\n",
    "jwst_filt = 'f444w'\n",
    "\n",
    "kmag,spt = simbad_vals[target_name]\n",
    "\n",
    "tst = get_jwst_mag(spt,kmag,instrument,jwst_filt,filter_dir=\"./\",jwst_mask=instrument_mask,\n",
    "                norm_filter='bessel_k')\n",
    "print(tst)"
   ]
  },
  {
   "cell_type": "code",
   "execution_count": 7,
   "metadata": {},
   "outputs": [],
   "source": [
    "filter_list = ['f250m','f300m','f356w','f410m','f444w','f1140c','f1550c']\n",
    "instrument='nircam'\n",
    "instrument_mask = 'mask335r'\n",
    "jwst_filt = 'f444w'\n",
    "\n",
    "\n",
    "configs = {'f250m':  {'instrument':'nircam','instrument_mask':'mask335r'},\n",
    "            'f300m': {'instrument':'nircam','instrument_mask':'mask335r'}, \n",
    "            'f356w': {'instrument':'nircam','instrument_mask':'mask335r'},\n",
    "            'f410m': {'instrument':'nircam','instrument_mask':'mask335r'},\n",
    "            'f444w': {'instrument':'nircam','instrument_mask':'mask335r'},\n",
    "            'f1140c':{'instrument':'miri',  'instrument_mask':None},\n",
    "            'f1550c':{'instrument':'miri',  'instrument_mask':None},\n",
    "            }\n",
    "filter_list = list(configs.keys())"
   ]
  },
  {
   "cell_type": "code",
   "execution_count": 9,
   "metadata": {},
   "outputs": [
    {
     "name": "stdout",
     "output_type": "stream",
     "text": [
      "Target: CD-522472, 50.0 Myr, 152.58 pc, kmag=8.7\n",
      "\tCompanion separation for CD-522472 is < 0.3 arcseconds, skipping\n",
      "Target: CPD-722713, 24.0 Myr, 36.62 pc, kmag=6.9\n"
     ]
    },
    {
     "name": "stderr",
     "output_type": "stream",
     "text": [
      "/Users/connorvancil/Desktop/AstroResearch/contraster/testing/models.py:46: VisibleDeprecationWarning: Creating an ndarray from ragged nested sequences (which is a list-or-tuple of lists-or-tuples-or ndarrays with different lengths or shapes) is deprecated. If you meant to do this, you must specify 'dtype=object' when creating the ndarray.\n",
      "  return np.array(masses)[sorted_by_mass], np.array(age_list)[sorted_by_mass], np.array(mag_list)[sorted_by_mass]\n"
     ]
    },
    {
     "name": "stdout",
     "output_type": "stream",
     "text": [
      "\tCOMPANION DETECTED!\n",
      "Target: GJ581, 5000.0 Myr, 6.3 pc, kmag=5.8\n"
     ]
    },
    {
     "name": "stderr",
     "output_type": "stream",
     "text": [
      "/Users/connorvancil/Desktop/AstroResearch/contraster/testing/models.py:46: VisibleDeprecationWarning: Creating an ndarray from ragged nested sequences (which is a list-or-tuple of lists-or-tuples-or ndarrays with different lengths or shapes) is deprecated. If you meant to do this, you must specify 'dtype=object' when creating the ndarray.\n",
      "  return np.array(masses)[sorted_by_mass], np.array(age_list)[sorted_by_mass], np.array(mag_list)[sorted_by_mass]\n"
     ]
    },
    {
     "name": "stdout",
     "output_type": "stream",
     "text": [
      "\tCOMPANION DETECTED!\n",
      "Target: GJ649, 4500.0 Myr, 10.38 pc, kmag=5.6\n"
     ]
    },
    {
     "name": "stderr",
     "output_type": "stream",
     "text": [
      "/Users/connorvancil/Desktop/AstroResearch/contraster/testing/models.py:46: VisibleDeprecationWarning: Creating an ndarray from ragged nested sequences (which is a list-or-tuple of lists-or-tuples-or ndarrays with different lengths or shapes) is deprecated. If you meant to do this, you must specify 'dtype=object' when creating the ndarray.\n",
      "  return np.array(masses)[sorted_by_mass], np.array(age_list)[sorted_by_mass], np.array(mag_list)[sorted_by_mass]\n"
     ]
    },
    {
     "name": "stdout",
     "output_type": "stream",
     "text": [
      "Target: HD166, 250.0 Myr, 13.77 pc, kmag=4.3\n"
     ]
    },
    {
     "name": "stderr",
     "output_type": "stream",
     "text": [
      "/Users/connorvancil/Desktop/AstroResearch/contraster/testing/models.py:46: VisibleDeprecationWarning: Creating an ndarray from ragged nested sequences (which is a list-or-tuple of lists-or-tuples-or ndarrays with different lengths or shapes) is deprecated. If you meant to do this, you must specify 'dtype=object' when creating the ndarray.\n",
      "  return np.array(masses)[sorted_by_mass], np.array(age_list)[sorted_by_mass], np.array(mag_list)[sorted_by_mass]\n"
     ]
    },
    {
     "name": "stdout",
     "output_type": "stream",
     "text": [
      "Target: HD203, 24.0 Myr, 39.91 pc, kmag=5.2\n"
     ]
    },
    {
     "name": "stderr",
     "output_type": "stream",
     "text": [
      "/Users/connorvancil/Desktop/AstroResearch/contraster/testing/models.py:46: VisibleDeprecationWarning: Creating an ndarray from ragged nested sequences (which is a list-or-tuple of lists-or-tuples-or ndarrays with different lengths or shapes) is deprecated. If you meant to do this, you must specify 'dtype=object' when creating the ndarray.\n",
      "  return np.array(masses)[sorted_by_mass], np.array(age_list)[sorted_by_mass], np.array(mag_list)[sorted_by_mass]\n"
     ]
    },
    {
     "name": "stdout",
     "output_type": "stream",
     "text": [
      "\tCompanion for HD203 is closer than the IWA in f1550c, skipping\n",
      "Target: HD377, 220.0 Myr, 38.48 pc, kmag=6.1\n"
     ]
    },
    {
     "name": "stderr",
     "output_type": "stream",
     "text": [
      "/Users/connorvancil/Desktop/AstroResearch/contraster/testing/models.py:46: VisibleDeprecationWarning: Creating an ndarray from ragged nested sequences (which is a list-or-tuple of lists-or-tuples-or ndarrays with different lengths or shapes) is deprecated. If you meant to do this, you must specify 'dtype=object' when creating the ndarray.\n",
      "  return np.array(masses)[sorted_by_mass], np.array(age_list)[sorted_by_mass], np.array(mag_list)[sorted_by_mass]\n"
     ]
    },
    {
     "name": "stdout",
     "output_type": "stream",
     "text": [
      "Target: HD870, 3000.0 Myr, 20.62 pc, kmag=5.4\n"
     ]
    },
    {
     "name": "stderr",
     "output_type": "stream",
     "text": [
      "/Users/connorvancil/Desktop/AstroResearch/contraster/testing/models.py:46: VisibleDeprecationWarning: Creating an ndarray from ragged nested sequences (which is a list-or-tuple of lists-or-tuples-or ndarrays with different lengths or shapes) is deprecated. If you meant to do this, you must specify 'dtype=object' when creating the ndarray.\n",
      "  return np.array(masses)[sorted_by_mass], np.array(age_list)[sorted_by_mass], np.array(mag_list)[sorted_by_mass]\n"
     ]
    },
    {
     "name": "stdout",
     "output_type": "stream",
     "text": [
      "Target: HD1404, 450.0 Myr, 42.03 pc, kmag=4.4\n"
     ]
    },
    {
     "name": "stderr",
     "output_type": "stream",
     "text": [
      "/Users/connorvancil/Desktop/AstroResearch/contraster/testing/models.py:46: VisibleDeprecationWarning: Creating an ndarray from ragged nested sequences (which is a list-or-tuple of lists-or-tuples-or ndarrays with different lengths or shapes) is deprecated. If you meant to do this, you must specify 'dtype=object' when creating the ndarray.\n",
      "  return np.array(masses)[sorted_by_mass], np.array(age_list)[sorted_by_mass], np.array(mag_list)[sorted_by_mass]\n"
     ]
    },
    {
     "name": "stdout",
     "output_type": "stream",
     "text": [
      "Target: HD1461, 6000.0 Myr, 23.45 pc, kmag=4.9\n"
     ]
    },
    {
     "name": "stderr",
     "output_type": "stream",
     "text": [
      "/Users/connorvancil/Desktop/AstroResearch/contraster/testing/models.py:46: VisibleDeprecationWarning: Creating an ndarray from ragged nested sequences (which is a list-or-tuple of lists-or-tuples-or ndarrays with different lengths or shapes) is deprecated. If you meant to do this, you must specify 'dtype=object' when creating the ndarray.\n",
      "  return np.array(masses)[sorted_by_mass], np.array(age_list)[sorted_by_mass], np.array(mag_list)[sorted_by_mass]\n"
     ]
    },
    {
     "name": "stdout",
     "output_type": "stream",
     "text": [
      "Target: HD1466, 45.0 Myr, 42.92 pc, kmag=6.1\n",
      "\tCompanion separation for HD1466 is < 0.3 arcseconds, skipping\n",
      "Target: HD2262, 650.0 Myr, 22.25 pc, kmag=3.5\n"
     ]
    },
    {
     "name": "stderr",
     "output_type": "stream",
     "text": [
      "/Users/connorvancil/Desktop/AstroResearch/contraster/testing/models.py:46: VisibleDeprecationWarning: Creating an ndarray from ragged nested sequences (which is a list-or-tuple of lists-or-tuples-or ndarrays with different lengths or shapes) is deprecated. If you meant to do this, you must specify 'dtype=object' when creating the ndarray.\n",
      "  return np.array(masses)[sorted_by_mass], np.array(age_list)[sorted_by_mass], np.array(mag_list)[sorted_by_mass]\n"
     ]
    },
    {
     "name": "stdout",
     "output_type": "stream",
     "text": [
      "Target: HD3003, 45.0 Myr, 45.84 pc, kmag=5.0\n"
     ]
    },
    {
     "name": "stderr",
     "output_type": "stream",
     "text": [
      "/Users/connorvancil/Desktop/AstroResearch/contraster/testing/models.py:46: VisibleDeprecationWarning: Creating an ndarray from ragged nested sequences (which is a list-or-tuple of lists-or-tuples-or ndarrays with different lengths or shapes) is deprecated. If you meant to do this, you must specify 'dtype=object' when creating the ndarray.\n",
      "  return np.array(masses)[sorted_by_mass], np.array(age_list)[sorted_by_mass], np.array(mag_list)[sorted_by_mass]\n"
     ]
    },
    {
     "name": "stdout",
     "output_type": "stream",
     "text": [
      "\tCompanion for HD3003 is closer than the IWA in f1140c, skipping\n",
      "\tCompanion for HD3003 is closer than the IWA in f1550c, skipping\n",
      "Target: HD3296, 1400.0 Myr, 44.85 pc, kmag=5.6\n"
     ]
    },
    {
     "name": "stderr",
     "output_type": "stream",
     "text": [
      "/Users/connorvancil/Desktop/AstroResearch/contraster/testing/models.py:46: VisibleDeprecationWarning: Creating an ndarray from ragged nested sequences (which is a list-or-tuple of lists-or-tuples-or ndarrays with different lengths or shapes) is deprecated. If you meant to do this, you must specify 'dtype=object' when creating the ndarray.\n",
      "  return np.array(masses)[sorted_by_mass], np.array(age_list)[sorted_by_mass], np.array(mag_list)[sorted_by_mass]\n"
     ]
    },
    {
     "name": "stdout",
     "output_type": "stream",
     "text": [
      "Target: HD3670, 42.0 Myr, 77.42 pc, kmag=7.1\n"
     ]
    },
    {
     "name": "stderr",
     "output_type": "stream",
     "text": [
      "/Users/connorvancil/Desktop/AstroResearch/contraster/testing/models.py:46: VisibleDeprecationWarning: Creating an ndarray from ragged nested sequences (which is a list-or-tuple of lists-or-tuples-or ndarrays with different lengths or shapes) is deprecated. If you meant to do this, you must specify 'dtype=object' when creating the ndarray.\n",
      "  return np.array(masses)[sorted_by_mass], np.array(age_list)[sorted_by_mass], np.array(mag_list)[sorted_by_mass]\n"
     ]
    },
    {
     "name": "stdout",
     "output_type": "stream",
     "text": [
      "\tCOMPANION DETECTED!\n",
      "Target: HD5133, 2500.0 Myr, 13.97 pc, kmag=4.9\n"
     ]
    },
    {
     "name": "stderr",
     "output_type": "stream",
     "text": [
      "/Users/connorvancil/Desktop/AstroResearch/contraster/testing/models.py:46: VisibleDeprecationWarning: Creating an ndarray from ragged nested sequences (which is a list-or-tuple of lists-or-tuples-or ndarrays with different lengths or shapes) is deprecated. If you meant to do this, you must specify 'dtype=object' when creating the ndarray.\n",
      "  return np.array(masses)[sorted_by_mass], np.array(age_list)[sorted_by_mass], np.array(mag_list)[sorted_by_mass]\n"
     ]
    },
    {
     "name": "stdout",
     "output_type": "stream",
     "text": [
      "Target: HD7570, 4000.0 Myr, 15.17 pc, kmag=3.7\n"
     ]
    },
    {
     "name": "stderr",
     "output_type": "stream",
     "text": [
      "/Users/connorvancil/Desktop/AstroResearch/contraster/testing/models.py:46: VisibleDeprecationWarning: Creating an ndarray from ragged nested sequences (which is a list-or-tuple of lists-or-tuples-or ndarrays with different lengths or shapes) is deprecated. If you meant to do this, you must specify 'dtype=object' when creating the ndarray.\n",
      "  return np.array(masses)[sorted_by_mass], np.array(age_list)[sorted_by_mass], np.array(mag_list)[sorted_by_mass]\n"
     ]
    },
    {
     "name": "stdout",
     "output_type": "stream",
     "text": [
      "Target: HD8907, 500.0 Myr, 33.19 pc, kmag=5.4\n"
     ]
    },
    {
     "name": "stderr",
     "output_type": "stream",
     "text": [
      "/Users/connorvancil/Desktop/AstroResearch/contraster/testing/models.py:46: VisibleDeprecationWarning: Creating an ndarray from ragged nested sequences (which is a list-or-tuple of lists-or-tuples-or ndarrays with different lengths or shapes) is deprecated. If you meant to do this, you must specify 'dtype=object' when creating the ndarray.\n",
      "  return np.array(masses)[sorted_by_mass], np.array(age_list)[sorted_by_mass], np.array(mag_list)[sorted_by_mass]\n"
     ]
    },
    {
     "name": "stdout",
     "output_type": "stream",
     "text": [
      "Target: HD9672, 45.0 Myr, 56.98 pc, kmag=5.5\n"
     ]
    },
    {
     "name": "stderr",
     "output_type": "stream",
     "text": [
      "/Users/connorvancil/Desktop/AstroResearch/contraster/testing/models.py:46: VisibleDeprecationWarning: Creating an ndarray from ragged nested sequences (which is a list-or-tuple of lists-or-tuples-or ndarrays with different lengths or shapes) is deprecated. If you meant to do this, you must specify 'dtype=object' when creating the ndarray.\n",
      "  return np.array(masses)[sorted_by_mass], np.array(age_list)[sorted_by_mass], np.array(mag_list)[sorted_by_mass]\n"
     ]
    },
    {
     "name": "stdout",
     "output_type": "stream",
     "text": [
      "Target: HD10008, 24.0 Myr, 24.03 pc, kmag=5.8\n"
     ]
    },
    {
     "name": "stderr",
     "output_type": "stream",
     "text": [
      "/Users/connorvancil/Desktop/AstroResearch/contraster/testing/models.py:46: VisibleDeprecationWarning: Creating an ndarray from ragged nested sequences (which is a list-or-tuple of lists-or-tuples-or ndarrays with different lengths or shapes) is deprecated. If you meant to do this, you must specify 'dtype=object' when creating the ndarray.\n",
      "  return np.array(masses)[sorted_by_mass], np.array(age_list)[sorted_by_mass], np.array(mag_list)[sorted_by_mass]\n"
     ]
    },
    {
     "name": "stdout",
     "output_type": "stream",
     "text": [
      "\tCOMPANION DETECTED!\n",
      "Target: HD10472, 42.0 Myr, 71.01 pc, kmag=6.6\n"
     ]
    },
    {
     "name": "stderr",
     "output_type": "stream",
     "text": [
      "/Users/connorvancil/Desktop/AstroResearch/contraster/testing/models.py:46: VisibleDeprecationWarning: Creating an ndarray from ragged nested sequences (which is a list-or-tuple of lists-or-tuples-or ndarrays with different lengths or shapes) is deprecated. If you meant to do this, you must specify 'dtype=object' when creating the ndarray.\n",
      "  return np.array(masses)[sorted_by_mass], np.array(age_list)[sorted_by_mass], np.array(mag_list)[sorted_by_mass]\n"
     ]
    },
    {
     "name": "stdout",
     "output_type": "stream",
     "text": [
      "\tCOMPANION DETECTED!\n",
      "Target: HD10647, 1700.0 Myr, 17.34 pc, kmag=4.3\n"
     ]
    },
    {
     "name": "stderr",
     "output_type": "stream",
     "text": [
      "/Users/connorvancil/Desktop/AstroResearch/contraster/testing/models.py:46: VisibleDeprecationWarning: Creating an ndarray from ragged nested sequences (which is a list-or-tuple of lists-or-tuples-or ndarrays with different lengths or shapes) is deprecated. If you meant to do this, you must specify 'dtype=object' when creating the ndarray.\n",
      "  return np.array(masses)[sorted_by_mass], np.array(age_list)[sorted_by_mass], np.array(mag_list)[sorted_by_mass]\n"
     ]
    },
    {
     "name": "stdout",
     "output_type": "stream",
     "text": [
      "Target: HD10700, 6000.0 Myr, 3.6 pc, kmag=1.7\n"
     ]
    },
    {
     "name": "stderr",
     "output_type": "stream",
     "text": [
      "/Users/connorvancil/Desktop/AstroResearch/contraster/testing/models.py:46: VisibleDeprecationWarning: Creating an ndarray from ragged nested sequences (which is a list-or-tuple of lists-or-tuples-or ndarrays with different lengths or shapes) is deprecated. If you meant to do this, you must specify 'dtype=object' when creating the ndarray.\n",
      "  return np.array(masses)[sorted_by_mass], np.array(age_list)[sorted_by_mass], np.array(mag_list)[sorted_by_mass]\n"
     ]
    },
    {
     "name": "stdout",
     "output_type": "stream",
     "text": [
      "Target: HD11171, 1000.0 Myr, 23.27 pc, kmag=3.9\n"
     ]
    },
    {
     "name": "stderr",
     "output_type": "stream",
     "text": [
      "/Users/connorvancil/Desktop/AstroResearch/contraster/testing/models.py:46: VisibleDeprecationWarning: Creating an ndarray from ragged nested sequences (which is a list-or-tuple of lists-or-tuples-or ndarrays with different lengths or shapes) is deprecated. If you meant to do this, you must specify 'dtype=object' when creating the ndarray.\n",
      "  return np.array(masses)[sorted_by_mass], np.array(age_list)[sorted_by_mass], np.array(mag_list)[sorted_by_mass]\n"
     ]
    },
    {
     "name": "stdout",
     "output_type": "stream",
     "text": [
      "Target: HD12039, 45.0 Myr, 41.36 pc, kmag=6.5\n"
     ]
    },
    {
     "name": "stderr",
     "output_type": "stream",
     "text": [
      "/Users/connorvancil/Desktop/AstroResearch/contraster/testing/models.py:46: VisibleDeprecationWarning: Creating an ndarray from ragged nested sequences (which is a list-or-tuple of lists-or-tuples-or ndarrays with different lengths or shapes) is deprecated. If you meant to do this, you must specify 'dtype=object' when creating the ndarray.\n",
      "  return np.array(masses)[sorted_by_mass], np.array(age_list)[sorted_by_mass], np.array(mag_list)[sorted_by_mass]\n"
     ]
    },
    {
     "name": "stdout",
     "output_type": "stream",
     "text": [
      "\tCompanion for HD12039 is closer than the IWA in f1140c, skipping\n",
      "\tCompanion for HD12039 is closer than the IWA in f1550c, skipping\n",
      "Target: HD13161, 780.0 Myr, 38.9 pc, kmag=2.7\n"
     ]
    },
    {
     "name": "stderr",
     "output_type": "stream",
     "text": [
      "/Users/connorvancil/Desktop/AstroResearch/contraster/testing/models.py:46: VisibleDeprecationWarning: Creating an ndarray from ragged nested sequences (which is a list-or-tuple of lists-or-tuples-or ndarrays with different lengths or shapes) is deprecated. If you meant to do this, you must specify 'dtype=object' when creating the ndarray.\n",
      "  return np.array(masses)[sorted_by_mass], np.array(age_list)[sorted_by_mass], np.array(mag_list)[sorted_by_mass]\n"
     ]
    },
    {
     "name": "stdout",
     "output_type": "stream",
     "text": [
      "\tCompanion for HD13161 is closer than the IWA in f1140c, skipping\n",
      "\tCompanion for HD13161 is closer than the IWA in f1550c, skipping\n",
      "Target: HD13246, 45.0 Myr, 45.55 pc, kmag=6.2\n"
     ]
    },
    {
     "name": "stderr",
     "output_type": "stream",
     "text": [
      "/Users/connorvancil/Desktop/AstroResearch/contraster/testing/models.py:46: VisibleDeprecationWarning: Creating an ndarray from ragged nested sequences (which is a list-or-tuple of lists-or-tuples-or ndarrays with different lengths or shapes) is deprecated. If you meant to do this, you must specify 'dtype=object' when creating the ndarray.\n",
      "  return np.array(masses)[sorted_by_mass], np.array(age_list)[sorted_by_mass], np.array(mag_list)[sorted_by_mass]\n"
     ]
    },
    {
     "name": "stdout",
     "output_type": "stream",
     "text": [
      "\tCOMPANION DETECTED!\n",
      "Target: HD15115, 45.0 Myr, 48.93 pc, kmag=5.8\n"
     ]
    },
    {
     "name": "stderr",
     "output_type": "stream",
     "text": [
      "/Users/connorvancil/Desktop/AstroResearch/contraster/testing/models.py:46: VisibleDeprecationWarning: Creating an ndarray from ragged nested sequences (which is a list-or-tuple of lists-or-tuples-or ndarrays with different lengths or shapes) is deprecated. If you meant to do this, you must specify 'dtype=object' when creating the ndarray.\n",
      "  return np.array(masses)[sorted_by_mass], np.array(age_list)[sorted_by_mass], np.array(mag_list)[sorted_by_mass]\n"
     ]
    },
    {
     "name": "stdout",
     "output_type": "stream",
     "text": [
      "Target: HD16743, 45.0 Myr, 57.84 pc, kmag=5.9\n"
     ]
    },
    {
     "name": "stderr",
     "output_type": "stream",
     "text": [
      "/Users/connorvancil/Desktop/AstroResearch/contraster/testing/models.py:46: VisibleDeprecationWarning: Creating an ndarray from ragged nested sequences (which is a list-or-tuple of lists-or-tuples-or ndarrays with different lengths or shapes) is deprecated. If you meant to do this, you must specify 'dtype=object' when creating the ndarray.\n",
      "  return np.array(masses)[sorted_by_mass], np.array(age_list)[sorted_by_mass], np.array(mag_list)[sorted_by_mass]\n"
     ]
    },
    {
     "name": "stdout",
     "output_type": "stream",
     "text": [
      "Target: HD17094, 1500.0 Myr, 26.488000000000003 pc, kmag=3.5\n"
     ]
    },
    {
     "name": "stderr",
     "output_type": "stream",
     "text": [
      "/Users/connorvancil/Desktop/AstroResearch/contraster/testing/models.py:46: VisibleDeprecationWarning: Creating an ndarray from ragged nested sequences (which is a list-or-tuple of lists-or-tuples-or ndarrays with different lengths or shapes) is deprecated. If you meant to do this, you must specify 'dtype=object' when creating the ndarray.\n",
      "  return np.array(masses)[sorted_by_mass], np.array(age_list)[sorted_by_mass], np.array(mag_list)[sorted_by_mass]\n"
     ]
    },
    {
     "name": "stdout",
     "output_type": "stream",
     "text": [
      "Target: HD17925, 200.0 Myr, 10.355 pc, kmag=4.1\n"
     ]
    },
    {
     "name": "stderr",
     "output_type": "stream",
     "text": [
      "/Users/connorvancil/Desktop/AstroResearch/contraster/testing/models.py:46: VisibleDeprecationWarning: Creating an ndarray from ragged nested sequences (which is a list-or-tuple of lists-or-tuples-or ndarrays with different lengths or shapes) is deprecated. If you meant to do this, you must specify 'dtype=object' when creating the ndarray.\n",
      "  return np.array(masses)[sorted_by_mass], np.array(age_list)[sorted_by_mass], np.array(mag_list)[sorted_by_mass]\n"
     ]
    },
    {
     "name": "stdout",
     "output_type": "stream",
     "text": [
      "\tCompanion for HD17925 is closer than the IWA in f1550c, skipping\n",
      "Target: HD19668, 149.0 Myr, 38.66 pc, kmag=6.7\n",
      "\tCompanion separation for HD19668 is < 0.3 arcseconds, skipping\n",
      "Target: HD21997, 42.0 Myr, 69.5 pc, kmag=6.1\n"
     ]
    },
    {
     "name": "stderr",
     "output_type": "stream",
     "text": [
      "/Users/connorvancil/Desktop/AstroResearch/contraster/testing/models.py:46: VisibleDeprecationWarning: Creating an ndarray from ragged nested sequences (which is a list-or-tuple of lists-or-tuples-or ndarrays with different lengths or shapes) is deprecated. If you meant to do this, you must specify 'dtype=object' when creating the ndarray.\n",
      "  return np.array(masses)[sorted_by_mass], np.array(age_list)[sorted_by_mass], np.array(mag_list)[sorted_by_mass]\n"
     ]
    },
    {
     "name": "stdout",
     "output_type": "stream",
     "text": [
      "Target: HD22049, 800.0 Myr, 3.2030000000000003 pc, kmag=1.7\n"
     ]
    },
    {
     "name": "stderr",
     "output_type": "stream",
     "text": [
      "/Users/connorvancil/Desktop/AstroResearch/contraster/testing/models.py:46: VisibleDeprecationWarning: Creating an ndarray from ragged nested sequences (which is a list-or-tuple of lists-or-tuples-or ndarrays with different lengths or shapes) is deprecated. If you meant to do this, you must specify 'dtype=object' when creating the ndarray.\n",
      "  return np.array(masses)[sorted_by_mass], np.array(age_list)[sorted_by_mass], np.array(mag_list)[sorted_by_mass]\n"
     ]
    },
    {
     "name": "stdout",
     "output_type": "stream",
     "text": [
      "\tCOMPANION DETECTED!\n",
      "Target: HD22484, 5000.0 Myr, 13.96 pc, kmag=2.9\n"
     ]
    },
    {
     "name": "stderr",
     "output_type": "stream",
     "text": [
      "/Users/connorvancil/Desktop/AstroResearch/contraster/testing/models.py:46: VisibleDeprecationWarning: Creating an ndarray from ragged nested sequences (which is a list-or-tuple of lists-or-tuples-or ndarrays with different lengths or shapes) is deprecated. If you meant to do this, you must specify 'dtype=object' when creating the ndarray.\n",
      "  return np.array(masses)[sorted_by_mass], np.array(age_list)[sorted_by_mass], np.array(mag_list)[sorted_by_mass]\n"
     ]
    },
    {
     "name": "stdout",
     "output_type": "stream",
     "text": [
      "\tCompanion for HD22484 is closer than the IWA in f1550c, skipping\n",
      "Target: HD23356, 1500.0 Myr, 13.949000000000002 pc, kmag=4.8\n"
     ]
    },
    {
     "name": "stderr",
     "output_type": "stream",
     "text": [
      "/Users/connorvancil/Desktop/AstroResearch/contraster/testing/models.py:46: VisibleDeprecationWarning: Creating an ndarray from ragged nested sequences (which is a list-or-tuple of lists-or-tuples-or ndarrays with different lengths or shapes) is deprecated. If you meant to do this, you must specify 'dtype=object' when creating the ndarray.\n",
      "  return np.array(masses)[sorted_by_mass], np.array(age_list)[sorted_by_mass], np.array(mag_list)[sorted_by_mass]\n"
     ]
    },
    {
     "name": "stdout",
     "output_type": "stream",
     "text": [
      "Target: HD23484, 3500.0 Myr, 16.162 pc, kmag=4.9\n"
     ]
    },
    {
     "name": "stderr",
     "output_type": "stream",
     "text": [
      "/Users/connorvancil/Desktop/AstroResearch/contraster/testing/models.py:46: VisibleDeprecationWarning: Creating an ndarray from ragged nested sequences (which is a list-or-tuple of lists-or-tuples-or ndarrays with different lengths or shapes) is deprecated. If you meant to do this, you must specify 'dtype=object' when creating the ndarray.\n",
      "  return np.array(masses)[sorted_by_mass], np.array(age_list)[sorted_by_mass], np.array(mag_list)[sorted_by_mass]\n"
     ]
    },
    {
     "name": "stdout",
     "output_type": "stream",
     "text": [
      "Target: HD25457, 149.0 Myr, 18.76 pc, kmag=4.2\n"
     ]
    },
    {
     "name": "stderr",
     "output_type": "stream",
     "text": [
      "/Users/connorvancil/Desktop/AstroResearch/contraster/testing/models.py:46: VisibleDeprecationWarning: Creating an ndarray from ragged nested sequences (which is a list-or-tuple of lists-or-tuples-or ndarrays with different lengths or shapes) is deprecated. If you meant to do this, you must specify 'dtype=object' when creating the ndarray.\n",
      "  return np.array(masses)[sorted_by_mass], np.array(age_list)[sorted_by_mass], np.array(mag_list)[sorted_by_mass]\n"
     ]
    },
    {
     "name": "stdout",
     "output_type": "stream",
     "text": [
      "Target: HD27045, 300.0 Myr, 29.289 pc, kmag=4.4\n"
     ]
    },
    {
     "name": "stderr",
     "output_type": "stream",
     "text": [
      "/Users/connorvancil/Desktop/AstroResearch/contraster/testing/models.py:46: VisibleDeprecationWarning: Creating an ndarray from ragged nested sequences (which is a list-or-tuple of lists-or-tuples-or ndarrays with different lengths or shapes) is deprecated. If you meant to do this, you must specify 'dtype=object' when creating the ndarray.\n",
      "  return np.array(masses)[sorted_by_mass], np.array(age_list)[sorted_by_mass], np.array(mag_list)[sorted_by_mass]\n"
     ]
    },
    {
     "name": "stdout",
     "output_type": "stream",
     "text": [
      "Target: HD27290, 1500.0 Myr, 20.44 pc, kmag=3.5\n"
     ]
    },
    {
     "name": "stderr",
     "output_type": "stream",
     "text": [
      "/Users/connorvancil/Desktop/AstroResearch/contraster/testing/models.py:46: VisibleDeprecationWarning: Creating an ndarray from ragged nested sequences (which is a list-or-tuple of lists-or-tuples-or ndarrays with different lengths or shapes) is deprecated. If you meant to do this, you must specify 'dtype=object' when creating the ndarray.\n",
      "  return np.array(masses)[sorted_by_mass], np.array(age_list)[sorted_by_mass], np.array(mag_list)[sorted_by_mass]\n"
     ]
    },
    {
     "name": "stdout",
     "output_type": "stream",
     "text": [
      "Target: HD28355, 750.0 Myr, 48.507 pc, kmag=4.5\n"
     ]
    },
    {
     "name": "stderr",
     "output_type": "stream",
     "text": [
      "/Users/connorvancil/Desktop/AstroResearch/contraster/testing/models.py:46: VisibleDeprecationWarning: Creating an ndarray from ragged nested sequences (which is a list-or-tuple of lists-or-tuples-or ndarrays with different lengths or shapes) is deprecated. If you meant to do this, you must specify 'dtype=object' when creating the ndarray.\n",
      "  return np.array(masses)[sorted_by_mass], np.array(age_list)[sorted_by_mass], np.array(mag_list)[sorted_by_mass]\n"
     ]
    },
    {
     "name": "stdout",
     "output_type": "stream",
     "text": [
      "\tCompanion for HD28355 is closer than the IWA in f1550c, skipping\n",
      "Target: HD29391, 700.0 Myr, 29.758000000000003 pc, kmag=4.5\n"
     ]
    },
    {
     "name": "stderr",
     "output_type": "stream",
     "text": [
      "/Users/connorvancil/Desktop/AstroResearch/contraster/testing/models.py:46: VisibleDeprecationWarning: Creating an ndarray from ragged nested sequences (which is a list-or-tuple of lists-or-tuples-or ndarrays with different lengths or shapes) is deprecated. If you meant to do this, you must specify 'dtype=object' when creating the ndarray.\n",
      "  return np.array(masses)[sorted_by_mass], np.array(age_list)[sorted_by_mass], np.array(mag_list)[sorted_by_mass]\n"
     ]
    },
    {
     "name": "stdout",
     "output_type": "stream",
     "text": [
      "Target: HD30422, 700.0 Myr, 57.38 pc, kmag=5.7\n"
     ]
    },
    {
     "name": "stderr",
     "output_type": "stream",
     "text": [
      "/Users/connorvancil/Desktop/AstroResearch/contraster/testing/models.py:46: VisibleDeprecationWarning: Creating an ndarray from ragged nested sequences (which is a list-or-tuple of lists-or-tuples-or ndarrays with different lengths or shapes) is deprecated. If you meant to do this, you must specify 'dtype=object' when creating the ndarray.\n",
      "  return np.array(masses)[sorted_by_mass], np.array(age_list)[sorted_by_mass], np.array(mag_list)[sorted_by_mass]\n"
     ]
    },
    {
     "name": "stdout",
     "output_type": "stream",
     "text": [
      "\tCompanion for HD30422 is closer than the IWA in f1550c, skipping\n",
      "Target: HD30447, 42.0 Myr, 80.35 pc, kmag=6.9\n"
     ]
    },
    {
     "name": "stderr",
     "output_type": "stream",
     "text": [
      "/Users/connorvancil/Desktop/AstroResearch/contraster/testing/models.py:46: VisibleDeprecationWarning: Creating an ndarray from ragged nested sequences (which is a list-or-tuple of lists-or-tuples-or ndarrays with different lengths or shapes) is deprecated. If you meant to do this, you must specify 'dtype=object' when creating the ndarray.\n",
      "  return np.array(masses)[sorted_by_mass], np.array(age_list)[sorted_by_mass], np.array(mag_list)[sorted_by_mass]\n"
     ]
    },
    {
     "name": "stdout",
     "output_type": "stream",
     "text": [
      "\tCOMPANION DETECTED!\n",
      "Target: HD30495, 45.0 Myr, 13.24 pc, kmag=4.0\n"
     ]
    },
    {
     "name": "stderr",
     "output_type": "stream",
     "text": [
      "/Users/connorvancil/Desktop/AstroResearch/contraster/testing/models.py:46: VisibleDeprecationWarning: Creating an ndarray from ragged nested sequences (which is a list-or-tuple of lists-or-tuples-or ndarrays with different lengths or shapes) is deprecated. If you meant to do this, you must specify 'dtype=object' when creating the ndarray.\n",
      "  return np.array(masses)[sorted_by_mass], np.array(age_list)[sorted_by_mass], np.array(mag_list)[sorted_by_mass]\n"
     ]
    },
    {
     "name": "stdout",
     "output_type": "stream",
     "text": [
      "Target: HD31295, 200.0 Myr, 34.224000000000004 pc, kmag=4.4\n"
     ]
    },
    {
     "name": "stderr",
     "output_type": "stream",
     "text": [
      "/Users/connorvancil/Desktop/AstroResearch/contraster/testing/models.py:46: VisibleDeprecationWarning: Creating an ndarray from ragged nested sequences (which is a list-or-tuple of lists-or-tuples-or ndarrays with different lengths or shapes) is deprecated. If you meant to do this, you must specify 'dtype=object' when creating the ndarray.\n",
      "  return np.array(masses)[sorted_by_mass], np.array(age_list)[sorted_by_mass], np.array(mag_list)[sorted_by_mass]\n"
     ]
    },
    {
     "name": "stdout",
     "output_type": "stream",
     "text": [
      "Target: HD32297, 100.0 Myr, 132.3 pc, kmag=7.6\n"
     ]
    },
    {
     "name": "stderr",
     "output_type": "stream",
     "text": [
      "/Users/connorvancil/Desktop/AstroResearch/contraster/testing/models.py:46: VisibleDeprecationWarning: Creating an ndarray from ragged nested sequences (which is a list-or-tuple of lists-or-tuples-or ndarrays with different lengths or shapes) is deprecated. If you meant to do this, you must specify 'dtype=object' when creating the ndarray.\n",
      "  return np.array(masses)[sorted_by_mass], np.array(age_list)[sorted_by_mass], np.array(mag_list)[sorted_by_mass]\n"
     ]
    },
    {
     "name": "stdout",
     "output_type": "stream",
     "text": [
      "\tCompanion for HD32297 is closer than the IWA in f1550c, skipping\n",
      "Target: HD32977, 350.0 Myr, 61.87 pc, kmag=5.0\n"
     ]
    },
    {
     "name": "stderr",
     "output_type": "stream",
     "text": [
      "/Users/connorvancil/Desktop/AstroResearch/contraster/testing/models.py:46: VisibleDeprecationWarning: Creating an ndarray from ragged nested sequences (which is a list-or-tuple of lists-or-tuples-or ndarrays with different lengths or shapes) is deprecated. If you meant to do this, you must specify 'dtype=object' when creating the ndarray.\n",
      "  return np.array(masses)[sorted_by_mass], np.array(age_list)[sorted_by_mass], np.array(mag_list)[sorted_by_mass]\n"
     ]
    },
    {
     "name": "stdout",
     "output_type": "stream",
     "text": [
      "\tCompanion for HD32977 is closer than the IWA in f1550c, skipping\n",
      "Target: HD35114, 40.0 Myr, 47.6 pc, kmag=6.1\n"
     ]
    },
    {
     "name": "stderr",
     "output_type": "stream",
     "text": [
      "/Users/connorvancil/Desktop/AstroResearch/contraster/testing/models.py:46: VisibleDeprecationWarning: Creating an ndarray from ragged nested sequences (which is a list-or-tuple of lists-or-tuples-or ndarrays with different lengths or shapes) is deprecated. If you meant to do this, you must specify 'dtype=object' when creating the ndarray.\n",
      "  return np.array(masses)[sorted_by_mass], np.array(age_list)[sorted_by_mass], np.array(mag_list)[sorted_by_mass]\n"
     ]
    },
    {
     "name": "stdout",
     "output_type": "stream",
     "text": [
      "\tCompanion for HD35114 is closer than the IWA in f1140c, skipping\n",
      "\tCompanion for HD35114 is closer than the IWA in f1550c, skipping\n",
      "Target: HD35850, 24.0 Myr, 26.86 pc, kmag=4.9\n"
     ]
    },
    {
     "name": "stderr",
     "output_type": "stream",
     "text": [
      "/Users/connorvancil/Desktop/AstroResearch/contraster/testing/models.py:46: VisibleDeprecationWarning: Creating an ndarray from ragged nested sequences (which is a list-or-tuple of lists-or-tuples-or ndarrays with different lengths or shapes) is deprecated. If you meant to do this, you must specify 'dtype=object' when creating the ndarray.\n",
      "  return np.array(masses)[sorted_by_mass], np.array(age_list)[sorted_by_mass], np.array(mag_list)[sorted_by_mass]\n"
     ]
    },
    {
     "name": "stdout",
     "output_type": "stream",
     "text": [
      "\tCOMPANION DETECTED!\n",
      "Target: HD36968, 35.0 Myr, 149.46 pc, kmag=8.1\n"
     ]
    },
    {
     "name": "stderr",
     "output_type": "stream",
     "text": [
      "/Users/connorvancil/Desktop/AstroResearch/contraster/testing/models.py:46: VisibleDeprecationWarning: Creating an ndarray from ragged nested sequences (which is a list-or-tuple of lists-or-tuples-or ndarrays with different lengths or shapes) is deprecated. If you meant to do this, you must specify 'dtype=object' when creating the ndarray.\n",
      "  return np.array(masses)[sorted_by_mass], np.array(age_list)[sorted_by_mass], np.array(mag_list)[sorted_by_mass]\n"
     ]
    },
    {
     "name": "stdout",
     "output_type": "stream",
     "text": [
      "\tCompanion for HD36968 is closer than the IWA in f1550c, skipping\n",
      "Target: HD37484, 42.0 Myr, 59.01 pc, kmag=6.3\n"
     ]
    },
    {
     "name": "stderr",
     "output_type": "stream",
     "text": [
      "/Users/connorvancil/Desktop/AstroResearch/contraster/testing/models.py:46: VisibleDeprecationWarning: Creating an ndarray from ragged nested sequences (which is a list-or-tuple of lists-or-tuples-or ndarrays with different lengths or shapes) is deprecated. If you meant to do this, you must specify 'dtype=object' when creating the ndarray.\n",
      "  return np.array(masses)[sorted_by_mass], np.array(age_list)[sorted_by_mass], np.array(mag_list)[sorted_by_mass]\n"
     ]
    },
    {
     "name": "stdout",
     "output_type": "stream",
     "text": [
      "Target: HD38206, 42.0 Myr, 71.26 pc, kmag=5.8\n"
     ]
    },
    {
     "name": "stderr",
     "output_type": "stream",
     "text": [
      "/Users/connorvancil/Desktop/AstroResearch/contraster/testing/models.py:46: VisibleDeprecationWarning: Creating an ndarray from ragged nested sequences (which is a list-or-tuple of lists-or-tuples-or ndarrays with different lengths or shapes) is deprecated. If you meant to do this, you must specify 'dtype=object' when creating the ndarray.\n",
      "  return np.array(masses)[sorted_by_mass], np.array(age_list)[sorted_by_mass], np.array(mag_list)[sorted_by_mass]\n"
     ]
    },
    {
     "name": "stdout",
     "output_type": "stream",
     "text": [
      "\tCOMPANION DETECTED!\n",
      "Target: HD38397, 42.0 Myr, 53.73 pc, kmag=6.8\n"
     ]
    },
    {
     "name": "stderr",
     "output_type": "stream",
     "text": [
      "/Users/connorvancil/Desktop/AstroResearch/contraster/testing/models.py:46: VisibleDeprecationWarning: Creating an ndarray from ragged nested sequences (which is a list-or-tuple of lists-or-tuples-or ndarrays with different lengths or shapes) is deprecated. If you meant to do this, you must specify 'dtype=object' when creating the ndarray.\n",
      "  return np.array(masses)[sorted_by_mass], np.array(age_list)[sorted_by_mass], np.array(mag_list)[sorted_by_mass]\n"
     ]
    },
    {
     "name": "stdout",
     "output_type": "stream",
     "text": [
      "\tCompanion for HD38397 is closer than the IWA in f1550c, skipping\n",
      "Target: HD38678, 300.0 Myr, 21.86 pc, kmag=3.3\n"
     ]
    },
    {
     "name": "stderr",
     "output_type": "stream",
     "text": [
      "/Users/connorvancil/Desktop/AstroResearch/contraster/testing/models.py:46: VisibleDeprecationWarning: Creating an ndarray from ragged nested sequences (which is a list-or-tuple of lists-or-tuples-or ndarrays with different lengths or shapes) is deprecated. If you meant to do this, you must specify 'dtype=object' when creating the ndarray.\n",
      "  return np.array(masses)[sorted_by_mass], np.array(age_list)[sorted_by_mass], np.array(mag_list)[sorted_by_mass]\n"
     ]
    },
    {
     "name": "stdout",
     "output_type": "stream",
     "text": [
      "Target: HD40136, 1500.0 Myr, 14.5 pc, kmag=2.9\n"
     ]
    },
    {
     "name": "stderr",
     "output_type": "stream",
     "text": [
      "/Users/connorvancil/Desktop/AstroResearch/contraster/testing/models.py:46: VisibleDeprecationWarning: Creating an ndarray from ragged nested sequences (which is a list-or-tuple of lists-or-tuples-or ndarrays with different lengths or shapes) is deprecated. If you meant to do this, you must specify 'dtype=object' when creating the ndarray.\n",
      "  return np.array(masses)[sorted_by_mass], np.array(age_list)[sorted_by_mass], np.array(mag_list)[sorted_by_mass]\n"
     ]
    },
    {
     "name": "stdout",
     "output_type": "stream",
     "text": [
      "Target: HD43989, 42.0 Myr, 51.93 pc, kmag=6.6\n",
      "\tCompanion separation for HD43989 is < 0.3 arcseconds, skipping\n",
      "Target: HD46190, 180.0 Myr, 84.31 pc, kmag=6.4\n",
      "\tCompanion separation for HD46190 is < 0.3 arcseconds, skipping\n",
      "Target: HD48370, 60.0 Myr, 36.03 pc, kmag=6.3\n"
     ]
    },
    {
     "name": "stderr",
     "output_type": "stream",
     "text": [
      "/Users/connorvancil/Desktop/AstroResearch/contraster/testing/models.py:46: VisibleDeprecationWarning: Creating an ndarray from ragged nested sequences (which is a list-or-tuple of lists-or-tuples-or ndarrays with different lengths or shapes) is deprecated. If you meant to do this, you must specify 'dtype=object' when creating the ndarray.\n",
      "  return np.array(masses)[sorted_by_mass], np.array(age_list)[sorted_by_mass], np.array(mag_list)[sorted_by_mass]\n"
     ]
    },
    {
     "name": "stdout",
     "output_type": "stream",
     "text": [
      "Target: HD48682, 4000.0 Myr, 16.64 pc, kmag=4.1\n"
     ]
    },
    {
     "name": "stderr",
     "output_type": "stream",
     "text": [
      "/Users/connorvancil/Desktop/AstroResearch/contraster/testing/models.py:46: VisibleDeprecationWarning: Creating an ndarray from ragged nested sequences (which is a list-or-tuple of lists-or-tuples-or ndarrays with different lengths or shapes) is deprecated. If you meant to do this, you must specify 'dtype=object' when creating the ndarray.\n",
      "  return np.array(masses)[sorted_by_mass], np.array(age_list)[sorted_by_mass], np.array(mag_list)[sorted_by_mass]\n"
     ]
    },
    {
     "name": "stdout",
     "output_type": "stream",
     "text": [
      "Target: HD50554, 4000.0 Myr, 31.166 pc, kmag=5.5\n"
     ]
    },
    {
     "name": "stderr",
     "output_type": "stream",
     "text": [
      "/Users/connorvancil/Desktop/AstroResearch/contraster/testing/models.py:46: VisibleDeprecationWarning: Creating an ndarray from ragged nested sequences (which is a list-or-tuple of lists-or-tuples-or ndarrays with different lengths or shapes) is deprecated. If you meant to do this, you must specify 'dtype=object' when creating the ndarray.\n",
      "  return np.array(masses)[sorted_by_mass], np.array(age_list)[sorted_by_mass], np.array(mag_list)[sorted_by_mass]\n"
     ]
    },
    {
     "name": "stdout",
     "output_type": "stream",
     "text": [
      "Target: HD53143, 1000.0 Myr, 18.35 pc, kmag=5.0\n"
     ]
    },
    {
     "name": "stderr",
     "output_type": "stream",
     "text": [
      "/Users/connorvancil/Desktop/AstroResearch/contraster/testing/models.py:46: VisibleDeprecationWarning: Creating an ndarray from ragged nested sequences (which is a list-or-tuple of lists-or-tuples-or ndarrays with different lengths or shapes) is deprecated. If you meant to do this, you must specify 'dtype=object' when creating the ndarray.\n",
      "  return np.array(masses)[sorted_by_mass], np.array(age_list)[sorted_by_mass], np.array(mag_list)[sorted_by_mass]\n"
     ]
    },
    {
     "name": "stdout",
     "output_type": "stream",
     "text": [
      "Target: HD58715, 215.0 Myr, 49.41 pc, kmag=3.0\n",
      "\tCompanion separation for HD58715 is < 0.3 arcseconds, skipping\n",
      "Target: HD59967, 450.0 Myr, 21.76 pc, kmag=5.1\n"
     ]
    },
    {
     "name": "stderr",
     "output_type": "stream",
     "text": [
      "/Users/connorvancil/Desktop/AstroResearch/contraster/testing/models.py:46: VisibleDeprecationWarning: Creating an ndarray from ragged nested sequences (which is a list-or-tuple of lists-or-tuples-or ndarrays with different lengths or shapes) is deprecated. If you meant to do this, you must specify 'dtype=object' when creating the ndarray.\n",
      "  return np.array(masses)[sorted_by_mass], np.array(age_list)[sorted_by_mass], np.array(mag_list)[sorted_by_mass]\n"
     ]
    },
    {
     "name": "stdout",
     "output_type": "stream",
     "text": [
      "Target: HD61005, 45.0 Myr, 36.45 pc, kmag=6.5\n"
     ]
    },
    {
     "name": "stderr",
     "output_type": "stream",
     "text": [
      "/Users/connorvancil/Desktop/AstroResearch/contraster/testing/models.py:46: VisibleDeprecationWarning: Creating an ndarray from ragged nested sequences (which is a list-or-tuple of lists-or-tuples-or ndarrays with different lengths or shapes) is deprecated. If you meant to do this, you must specify 'dtype=object' when creating the ndarray.\n",
      "  return np.array(masses)[sorted_by_mass], np.array(age_list)[sorted_by_mass], np.array(mag_list)[sorted_by_mass]\n"
     ]
    },
    {
     "name": "stdout",
     "output_type": "stream",
     "text": [
      "\tCOMPANION DETECTED!\n",
      "Target: HD69830, 6000.0 Myr, 12.559 pc, kmag=4.2\n",
      "\tCompanion separation for HD69830 is < 0.3 arcseconds, skipping\n",
      "Target: HD70313, 250.0 Myr, 52.02 pc, kmag=5.2\n"
     ]
    },
    {
     "name": "stderr",
     "output_type": "stream",
     "text": [
      "/Users/connorvancil/Desktop/AstroResearch/contraster/testing/models.py:46: VisibleDeprecationWarning: Creating an ndarray from ragged nested sequences (which is a list-or-tuple of lists-or-tuples-or ndarrays with different lengths or shapes) is deprecated. If you meant to do this, you must specify 'dtype=object' when creating the ndarray.\n",
      "  return np.array(masses)[sorted_by_mass], np.array(age_list)[sorted_by_mass], np.array(mag_list)[sorted_by_mass]\n"
     ]
    },
    {
     "name": "stdout",
     "output_type": "stream",
     "text": [
      "Target: HD71043, 45.0 Myr, 73.1 pc, kmag=5.9\n",
      "\tCompanion separation for HD71043 is < 0.3 arcseconds, skipping\n",
      "Target: HD71155, 250.0 Myr, 36.36 pc, kmag=3.9\n"
     ]
    },
    {
     "name": "stderr",
     "output_type": "stream",
     "text": [
      "/Users/connorvancil/Desktop/AstroResearch/contraster/testing/models.py:46: VisibleDeprecationWarning: Creating an ndarray from ragged nested sequences (which is a list-or-tuple of lists-or-tuples-or ndarrays with different lengths or shapes) is deprecated. If you meant to do this, you must specify 'dtype=object' when creating the ndarray.\n",
      "  return np.array(masses)[sorted_by_mass], np.array(age_list)[sorted_by_mass], np.array(mag_list)[sorted_by_mass]\n"
     ]
    },
    {
     "name": "stdout",
     "output_type": "stream",
     "text": [
      "Target: HD72905, 250.0 Myr, 14.445 pc, kmag=4.2\n"
     ]
    },
    {
     "name": "stderr",
     "output_type": "stream",
     "text": [
      "/Users/connorvancil/Desktop/AstroResearch/contraster/testing/models.py:46: VisibleDeprecationWarning: Creating an ndarray from ragged nested sequences (which is a list-or-tuple of lists-or-tuples-or ndarrays with different lengths or shapes) is deprecated. If you meant to do this, you must specify 'dtype=object' when creating the ndarray.\n",
      "  return np.array(masses)[sorted_by_mass], np.array(age_list)[sorted_by_mass], np.array(mag_list)[sorted_by_mass]\n"
     ]
    },
    {
     "name": "stdout",
     "output_type": "stream",
     "text": [
      "Target: HD75616, 1000.0 Myr, 35.787 pc, kmag=5.7\n"
     ]
    },
    {
     "name": "stderr",
     "output_type": "stream",
     "text": [
      "/Users/connorvancil/Desktop/AstroResearch/contraster/testing/models.py:46: VisibleDeprecationWarning: Creating an ndarray from ragged nested sequences (which is a list-or-tuple of lists-or-tuples-or ndarrays with different lengths or shapes) is deprecated. If you meant to do this, you must specify 'dtype=object' when creating the ndarray.\n",
      "  return np.array(masses)[sorted_by_mass], np.array(age_list)[sorted_by_mass], np.array(mag_list)[sorted_by_mass]\n"
     ]
    },
    {
     "name": "stdout",
     "output_type": "stream",
     "text": [
      "Target: HD76151, 2000.0 Myr, 16.84 pc, kmag=4.5\n"
     ]
    },
    {
     "name": "stderr",
     "output_type": "stream",
     "text": [
      "/Users/connorvancil/Desktop/AstroResearch/contraster/testing/models.py:46: VisibleDeprecationWarning: Creating an ndarray from ragged nested sequences (which is a list-or-tuple of lists-or-tuples-or ndarrays with different lengths or shapes) is deprecated. If you meant to do this, you must specify 'dtype=object' when creating the ndarray.\n",
      "  return np.array(masses)[sorted_by_mass], np.array(age_list)[sorted_by_mass], np.array(mag_list)[sorted_by_mass]\n"
     ]
    },
    {
     "name": "stdout",
     "output_type": "stream",
     "text": [
      "Target: HD85364, 800.0 Myr, 65.127 pc, kmag=5.6\n"
     ]
    },
    {
     "name": "stderr",
     "output_type": "stream",
     "text": [
      "/Users/connorvancil/Desktop/AstroResearch/contraster/testing/models.py:46: VisibleDeprecationWarning: Creating an ndarray from ragged nested sequences (which is a list-or-tuple of lists-or-tuples-or ndarrays with different lengths or shapes) is deprecated. If you meant to do this, you must specify 'dtype=object' when creating the ndarray.\n",
      "  return np.array(masses)[sorted_by_mass], np.array(age_list)[sorted_by_mass], np.array(mag_list)[sorted_by_mass]\n"
     ]
    },
    {
     "name": "stdout",
     "output_type": "stream",
     "text": [
      "Target: HD87696, 750.0 Myr, 26.985 pc, kmag=4.0\n"
     ]
    },
    {
     "name": "stderr",
     "output_type": "stream",
     "text": [
      "/Users/connorvancil/Desktop/AstroResearch/contraster/testing/models.py:46: VisibleDeprecationWarning: Creating an ndarray from ragged nested sequences (which is a list-or-tuple of lists-or-tuples-or ndarrays with different lengths or shapes) is deprecated. If you meant to do this, you must specify 'dtype=object' when creating the ndarray.\n",
      "  return np.array(masses)[sorted_by_mass], np.array(age_list)[sorted_by_mass], np.array(mag_list)[sorted_by_mass]\n"
     ]
    },
    {
     "name": "stdout",
     "output_type": "stream",
     "text": [
      "\tCompanion for HD87696 is closer than the IWA in f1550c, skipping\n",
      "Target: HD90905, 350.0 Myr, 31.01 pc, kmag=5.5\n"
     ]
    },
    {
     "name": "stderr",
     "output_type": "stream",
     "text": [
      "/Users/connorvancil/Desktop/AstroResearch/contraster/testing/models.py:46: VisibleDeprecationWarning: Creating an ndarray from ragged nested sequences (which is a list-or-tuple of lists-or-tuples-or ndarrays with different lengths or shapes) is deprecated. If you meant to do this, you must specify 'dtype=object' when creating the ndarray.\n",
      "  return np.array(masses)[sorted_by_mass], np.array(age_list)[sorted_by_mass], np.array(mag_list)[sorted_by_mass]\n"
     ]
    },
    {
     "name": "stdout",
     "output_type": "stream",
     "text": [
      "Target: HD92536, 46.0 Myr, 157.3 pc, kmag=6.5\n",
      "\tCompanion separation for HD92536 is < 0.3 arcseconds, skipping\n",
      "Target: HD92945, 250.0 Myr, 21.53 pc, kmag=5.7\n"
     ]
    },
    {
     "name": "stderr",
     "output_type": "stream",
     "text": [
      "/Users/connorvancil/Desktop/AstroResearch/contraster/testing/models.py:46: VisibleDeprecationWarning: Creating an ndarray from ragged nested sequences (which is a list-or-tuple of lists-or-tuples-or ndarrays with different lengths or shapes) is deprecated. If you meant to do this, you must specify 'dtype=object' when creating the ndarray.\n",
      "  return np.array(masses)[sorted_by_mass], np.array(age_list)[sorted_by_mass], np.array(mag_list)[sorted_by_mass]\n"
     ]
    },
    {
     "name": "stdout",
     "output_type": "stream",
     "text": [
      "Target: HD95418, 414.0 Myr, 29.61 pc, kmag=2.3\n"
     ]
    },
    {
     "name": "stderr",
     "output_type": "stream",
     "text": [
      "/Users/connorvancil/Desktop/AstroResearch/contraster/testing/models.py:46: VisibleDeprecationWarning: Creating an ndarray from ragged nested sequences (which is a list-or-tuple of lists-or-tuples-or ndarrays with different lengths or shapes) is deprecated. If you meant to do this, you must specify 'dtype=object' when creating the ndarray.\n",
      "  return np.array(masses)[sorted_by_mass], np.array(age_list)[sorted_by_mass], np.array(mag_list)[sorted_by_mass]\n"
     ]
    },
    {
     "name": "stdout",
     "output_type": "stream",
     "text": [
      "\tCompanion for HD95418 is closer than the IWA in f1550c, skipping\n",
      "Target: HD102458, 15.0 Myr, 113.03 pc, kmag=7.5\n",
      "\tCompanion separation for HD102458 is < 0.3 arcseconds, skipping\n",
      "Target: HD102647, 45.0 Myr, 11.0 pc, kmag=1.9\n"
     ]
    },
    {
     "name": "stderr",
     "output_type": "stream",
     "text": [
      "/Users/connorvancil/Desktop/AstroResearch/contraster/testing/models.py:46: VisibleDeprecationWarning: Creating an ndarray from ragged nested sequences (which is a list-or-tuple of lists-or-tuples-or ndarrays with different lengths or shapes) is deprecated. If you meant to do this, you must specify 'dtype=object' when creating the ndarray.\n",
      "  return np.array(masses)[sorted_by_mass], np.array(age_list)[sorted_by_mass], np.array(mag_list)[sorted_by_mass]\n"
     ]
    },
    {
     "name": "stdout",
     "output_type": "stream",
     "text": [
      "\tCompanion for HD102647 is closer than the IWA in f1550c, skipping\n",
      "Target: HD103234, 15.0 Myr, 101.83 pc, kmag=7.3\n",
      "\tCompanion separation for HD103234 is < 0.3 arcseconds, skipping\n",
      "Target: HD103703, 15.0 Myr, 107.1 pc, kmag=7.4\n",
      "\tCompanion separation for HD103703 is < 0.3 arcseconds, skipping\n",
      "Target: HD104231, 15.0 Myr, 102.43 pc, kmag=7.4\n",
      "\tCompanion separation for HD104231 is < 0.3 arcseconds, skipping\n",
      "Target: HD104860, 250.0 Myr, 45.142 pc, kmag=6.5\n"
     ]
    },
    {
     "name": "stderr",
     "output_type": "stream",
     "text": [
      "/Users/connorvancil/Desktop/AstroResearch/contraster/testing/models.py:46: VisibleDeprecationWarning: Creating an ndarray from ragged nested sequences (which is a list-or-tuple of lists-or-tuples-or ndarrays with different lengths or shapes) is deprecated. If you meant to do this, you must specify 'dtype=object' when creating the ndarray.\n",
      "  return np.array(masses)[sorted_by_mass], np.array(age_list)[sorted_by_mass], np.array(mag_list)[sorted_by_mass]\n"
     ]
    },
    {
     "name": "stdout",
     "output_type": "stream",
     "text": [
      "Target: HD105613, 15.0 Myr, 104.29 pc, kmag=7.0\n",
      "\tCompanion separation for HD105613 is < 0.3 arcseconds, skipping\n",
      "Target: HD107146, 150.0 Myr, 27.45 pc, kmag=5.5\n"
     ]
    },
    {
     "name": "stderr",
     "output_type": "stream",
     "text": [
      "/Users/connorvancil/Desktop/AstroResearch/contraster/testing/models.py:46: VisibleDeprecationWarning: Creating an ndarray from ragged nested sequences (which is a list-or-tuple of lists-or-tuples-or ndarrays with different lengths or shapes) is deprecated. If you meant to do this, you must specify 'dtype=object' when creating the ndarray.\n",
      "  return np.array(masses)[sorted_by_mass], np.array(age_list)[sorted_by_mass], np.array(mag_list)[sorted_by_mass]\n"
     ]
    },
    {
     "name": "stdout",
     "output_type": "stream",
     "text": [
      "Target: HD107649, 15.0 Myr, 107.99 pc, kmag=7.7\n",
      "\tCompanion separation for HD107649 is < 0.3 arcseconds, skipping\n",
      "Target: HD109085, 1500.0 Myr, 17.955 pc, kmag=3.4\n"
     ]
    },
    {
     "name": "stderr",
     "output_type": "stream",
     "text": [
      "/Users/connorvancil/Desktop/AstroResearch/contraster/testing/models.py:46: VisibleDeprecationWarning: Creating an ndarray from ragged nested sequences (which is a list-or-tuple of lists-or-tuples-or ndarrays with different lengths or shapes) is deprecated. If you meant to do this, you must specify 'dtype=object' when creating the ndarray.\n",
      "  return np.array(masses)[sorted_by_mass], np.array(age_list)[sorted_by_mass], np.array(mag_list)[sorted_by_mass]\n"
     ]
    },
    {
     "name": "stdout",
     "output_type": "stream",
     "text": [
      "Target: HD109832, 15.0 Myr, 107.98 pc, kmag=7.2\n"
     ]
    },
    {
     "name": "stderr",
     "output_type": "stream",
     "text": [
      "/Users/connorvancil/Desktop/AstroResearch/contraster/testing/models.py:46: VisibleDeprecationWarning: Creating an ndarray from ragged nested sequences (which is a list-or-tuple of lists-or-tuples-or ndarrays with different lengths or shapes) is deprecated. If you meant to do this, you must specify 'dtype=object' when creating the ndarray.\n",
      "  return np.array(masses)[sorted_by_mass], np.array(age_list)[sorted_by_mass], np.array(mag_list)[sorted_by_mass]\n"
     ]
    },
    {
     "name": "stdout",
     "output_type": "stream",
     "text": [
      "\tCompanion for HD109832 is closer than the IWA in f1550c, skipping\n",
      "Target: HD110058, 15.0 Myr, 129.52 pc, kmag=7.6\n",
      "\tCompanion separation for HD110058 is < 0.3 arcseconds, skipping\n",
      "Target: HD110411, 300.0 Myr, 38.13 pc, kmag=4.7\n"
     ]
    },
    {
     "name": "stderr",
     "output_type": "stream",
     "text": [
      "/Users/connorvancil/Desktop/AstroResearch/contraster/testing/models.py:46: VisibleDeprecationWarning: Creating an ndarray from ragged nested sequences (which is a list-or-tuple of lists-or-tuples-or ndarrays with different lengths or shapes) is deprecated. If you meant to do this, you must specify 'dtype=object' when creating the ndarray.\n",
      "  return np.array(masses)[sorted_by_mass], np.array(age_list)[sorted_by_mass], np.array(mag_list)[sorted_by_mass]\n"
     ]
    },
    {
     "name": "stdout",
     "output_type": "stream",
     "text": [
      "Target: HD110634, 15.0 Myr, 124.41 pc, kmag=7.7\n",
      "\tCompanion separation for HD110634 is < 0.3 arcseconds, skipping\n",
      "Target: HD110897, 6000.0 Myr, 17.555999999999997 pc, kmag=4.5\n"
     ]
    },
    {
     "name": "stderr",
     "output_type": "stream",
     "text": [
      "/Users/connorvancil/Desktop/AstroResearch/contraster/testing/models.py:46: VisibleDeprecationWarning: Creating an ndarray from ragged nested sequences (which is a list-or-tuple of lists-or-tuples-or ndarrays with different lengths or shapes) is deprecated. If you meant to do this, you must specify 'dtype=object' when creating the ndarray.\n",
      "  return np.array(masses)[sorted_by_mass], np.array(age_list)[sorted_by_mass], np.array(mag_list)[sorted_by_mass]\n"
     ]
    },
    {
     "name": "stdout",
     "output_type": "stream",
     "text": [
      "Target: HD111103, 15.0 Myr, 130.37 pc, kmag=8.1\n",
      "\tCompanion separation for HD111103 is < 0.3 arcseconds, skipping\n",
      "Target: HD111520, 15.0 Myr, 108.6 pc, kmag=7.7\n"
     ]
    },
    {
     "name": "stderr",
     "output_type": "stream",
     "text": [
      "/Users/connorvancil/Desktop/AstroResearch/contraster/testing/models.py:46: VisibleDeprecationWarning: Creating an ndarray from ragged nested sequences (which is a list-or-tuple of lists-or-tuples-or ndarrays with different lengths or shapes) is deprecated. If you meant to do this, you must specify 'dtype=object' when creating the ndarray.\n",
      "  return np.array(masses)[sorted_by_mass], np.array(age_list)[sorted_by_mass], np.array(mag_list)[sorted_by_mass]\n"
     ]
    },
    {
     "name": "stdout",
     "output_type": "stream",
     "text": [
      "\tCompanion for HD111520 is closer than the IWA in f1140c, skipping\n",
      "\tCompanion for HD111520 is closer than the IWA in f1550c, skipping\n",
      "Target: HD111631, 600.0 Myr, 10.65 pc, kmag=4.9\n"
     ]
    },
    {
     "name": "stderr",
     "output_type": "stream",
     "text": [
      "/Users/connorvancil/Desktop/AstroResearch/contraster/testing/models.py:46: VisibleDeprecationWarning: Creating an ndarray from ragged nested sequences (which is a list-or-tuple of lists-or-tuples-or ndarrays with different lengths or shapes) is deprecated. If you meant to do this, you must specify 'dtype=object' when creating the ndarray.\n",
      "  return np.array(masses)[sorted_by_mass], np.array(age_list)[sorted_by_mass], np.array(mag_list)[sorted_by_mass]\n"
     ]
    },
    {
     "name": "stdout",
     "output_type": "stream",
     "text": [
      "\tCOMPANION DETECTED!\n",
      "Target: HD112429, 1400.0 Myr, 29.363000000000003 pc, kmag=4.4\n"
     ]
    },
    {
     "name": "stderr",
     "output_type": "stream",
     "text": [
      "/Users/connorvancil/Desktop/AstroResearch/contraster/testing/models.py:46: VisibleDeprecationWarning: Creating an ndarray from ragged nested sequences (which is a list-or-tuple of lists-or-tuples-or ndarrays with different lengths or shapes) is deprecated. If you meant to do this, you must specify 'dtype=object' when creating the ndarray.\n",
      "  return np.array(masses)[sorted_by_mass], np.array(age_list)[sorted_by_mass], np.array(mag_list)[sorted_by_mass]\n"
     ]
    },
    {
     "name": "stdout",
     "output_type": "stream",
     "text": [
      "Target: HD113337, 1500.0 Myr, 36.18 pc, kmag=5.0\n"
     ]
    },
    {
     "name": "stderr",
     "output_type": "stream",
     "text": [
      "/Users/connorvancil/Desktop/AstroResearch/contraster/testing/models.py:46: VisibleDeprecationWarning: Creating an ndarray from ragged nested sequences (which is a list-or-tuple of lists-or-tuples-or ndarrays with different lengths or shapes) is deprecated. If you meant to do this, you must specify 'dtype=object' when creating the ndarray.\n",
      "  return np.array(masses)[sorted_by_mass], np.array(age_list)[sorted_by_mass], np.array(mag_list)[sorted_by_mass]\n"
     ]
    },
    {
     "name": "stdout",
     "output_type": "stream",
     "text": [
      "Target: HD113524, 15.0 Myr, 118.94 pc, kmag=7.9\n",
      "\tCompanion separation for HD113524 is < 0.3 arcseconds, skipping\n",
      "Target: HD113556, 15.0 Myr, 101.25 pc, kmag=7.2\n"
     ]
    },
    {
     "name": "stderr",
     "output_type": "stream",
     "text": [
      "/Users/connorvancil/Desktop/AstroResearch/contraster/testing/models.py:46: VisibleDeprecationWarning: Creating an ndarray from ragged nested sequences (which is a list-or-tuple of lists-or-tuples-or ndarrays with different lengths or shapes) is deprecated. If you meant to do this, you must specify 'dtype=object' when creating the ndarray.\n",
      "  return np.array(masses)[sorted_by_mass], np.array(age_list)[sorted_by_mass], np.array(mag_list)[sorted_by_mass]\n"
     ]
    },
    {
     "name": "stdout",
     "output_type": "stream",
     "text": [
      "\tCOMPANION DETECTED!\n",
      "Target: HD114082, 15.0 Myr, 95.39 pc, kmag=7.2\n",
      "\tCompanion separation for HD114082 is < 0.3 arcseconds, skipping\n",
      "Target: HD115617, 4000.0 Myr, 8.51 pc, kmag=3.0\n"
     ]
    },
    {
     "name": "stderr",
     "output_type": "stream",
     "text": [
      "/Users/connorvancil/Desktop/AstroResearch/contraster/testing/models.py:46: VisibleDeprecationWarning: Creating an ndarray from ragged nested sequences (which is a list-or-tuple of lists-or-tuples-or ndarrays with different lengths or shapes) is deprecated. If you meant to do this, you must specify 'dtype=object' when creating the ndarray.\n",
      "  return np.array(masses)[sorted_by_mass], np.array(age_list)[sorted_by_mass], np.array(mag_list)[sorted_by_mass]\n"
     ]
    },
    {
     "name": "stdout",
     "output_type": "stream",
     "text": [
      "Target: HD115820, 15.0 Myr, 115.52 pc, kmag=7.3\n",
      "\tCompanion separation for HD115820 is < 0.3 arcseconds, skipping\n",
      "Target: HD115892, 200.0 Myr, 17.84 pc, kmag=2.7\n"
     ]
    },
    {
     "name": "stderr",
     "output_type": "stream",
     "text": [
      "/Users/connorvancil/Desktop/AstroResearch/contraster/testing/models.py:46: VisibleDeprecationWarning: Creating an ndarray from ragged nested sequences (which is a list-or-tuple of lists-or-tuples-or ndarrays with different lengths or shapes) is deprecated. If you meant to do this, you must specify 'dtype=object' when creating the ndarray.\n",
      "  return np.array(masses)[sorted_by_mass], np.array(age_list)[sorted_by_mass], np.array(mag_list)[sorted_by_mass]\n"
     ]
    },
    {
     "name": "stdout",
     "output_type": "stream",
     "text": [
      "Target: HD120326, 15.5 Myr, 113.6 pc, kmag=7.5\n",
      "\tCompanion separation for HD120326 is < 0.3 arcseconds, skipping\n",
      "Target: HD121191, 15.5 Myr, 131.61 pc, kmag=7.7\n",
      "\tCompanion separation for HD121191 is < 0.3 arcseconds, skipping\n",
      "Target: HD121617, 15.5 Myr, 116.49 pc, kmag=7.2\n"
     ]
    },
    {
     "name": "stderr",
     "output_type": "stream",
     "text": [
      "/Users/connorvancil/Desktop/AstroResearch/contraster/testing/models.py:46: VisibleDeprecationWarning: Creating an ndarray from ragged nested sequences (which is a list-or-tuple of lists-or-tuples-or ndarrays with different lengths or shapes) is deprecated. If you meant to do this, you must specify 'dtype=object' when creating the ndarray.\n",
      "  return np.array(masses)[sorted_by_mass], np.array(age_list)[sorted_by_mass], np.array(mag_list)[sorted_by_mass]\n"
     ]
    },
    {
     "name": "stdout",
     "output_type": "stream",
     "text": [
      "\tCompanion for HD121617 is closer than the IWA in f1140c, skipping\n",
      "\tCompanion for HD121617 is closer than the IWA in f1550c, skipping\n",
      "Target: HD123889, 16.0 Myr, 127.96 pc, kmag=7.7\n",
      "\tCompanion separation for HD123889 is < 0.3 arcseconds, skipping\n",
      "Target: HD125162, 300.0 Myr, 30.314 pc, kmag=3.9\n",
      "\tCompanion separation for HD125162 is < 0.3 arcseconds, skipping\n",
      "Target: HD125451, 1400.0 Myr, 26.209 pc, kmag=4.4\n"
     ]
    },
    {
     "name": "stderr",
     "output_type": "stream",
     "text": [
      "/Users/connorvancil/Desktop/AstroResearch/contraster/testing/models.py:46: VisibleDeprecationWarning: Creating an ndarray from ragged nested sequences (which is a list-or-tuple of lists-or-tuples-or ndarrays with different lengths or shapes) is deprecated. If you meant to do this, you must specify 'dtype=object' when creating the ndarray.\n",
      "  return np.array(masses)[sorted_by_mass], np.array(age_list)[sorted_by_mass], np.array(mag_list)[sorted_by_mass]\n"
     ]
    },
    {
     "name": "stdout",
     "output_type": "stream",
     "text": [
      "Target: HD125541, 16.0 Myr, 159.83 pc, kmag=8.1\n",
      "\tCompanion separation for HD125541 is < 0.3 arcseconds, skipping\n",
      "Target: HD126062, 16.0 Myr, 132.0 pc, kmag=7.3\n"
     ]
    },
    {
     "name": "stderr",
     "output_type": "stream",
     "text": [
      "/Users/connorvancil/Desktop/AstroResearch/contraster/testing/models.py:46: VisibleDeprecationWarning: Creating an ndarray from ragged nested sequences (which is a list-or-tuple of lists-or-tuples-or ndarrays with different lengths or shapes) is deprecated. If you meant to do this, you must specify 'dtype=object' when creating the ndarray.\n",
      "  return np.array(masses)[sorted_by_mass], np.array(age_list)[sorted_by_mass], np.array(mag_list)[sorted_by_mass]\n"
     ]
    },
    {
     "name": "stdout",
     "output_type": "stream",
     "text": [
      "\tCOMPANION DETECTED!\n",
      "Target: HD127762, 900.0 Myr, 26.719 pc, kmag=2.6\n"
     ]
    },
    {
     "name": "stderr",
     "output_type": "stream",
     "text": [
      "/Users/connorvancil/Desktop/AstroResearch/contraster/testing/models.py:46: VisibleDeprecationWarning: Creating an ndarray from ragged nested sequences (which is a list-or-tuple of lists-or-tuples-or ndarrays with different lengths or shapes) is deprecated. If you meant to do this, you must specify 'dtype=object' when creating the ndarray.\n",
      "  return np.array(masses)[sorted_by_mass], np.array(age_list)[sorted_by_mass], np.array(mag_list)[sorted_by_mass]\n"
     ]
    },
    {
     "name": "stdout",
     "output_type": "stream",
     "text": [
      "Target: HD127821, 1300.0 Myr, 31.683000000000003 pc, kmag=5.0\n"
     ]
    },
    {
     "name": "stderr",
     "output_type": "stream",
     "text": [
      "/Users/connorvancil/Desktop/AstroResearch/contraster/testing/models.py:46: VisibleDeprecationWarning: Creating an ndarray from ragged nested sequences (which is a list-or-tuple of lists-or-tuples-or ndarrays with different lengths or shapes) is deprecated. If you meant to do this, you must specify 'dtype=object' when creating the ndarray.\n",
      "  return np.array(masses)[sorted_by_mass], np.array(age_list)[sorted_by_mass], np.array(mag_list)[sorted_by_mass]\n"
     ]
    },
    {
     "name": "stdout",
     "output_type": "stream",
     "text": [
      "Target: HD128311, 500.0 Myr, 16.329 pc, kmag=5.1\n"
     ]
    },
    {
     "name": "stderr",
     "output_type": "stream",
     "text": [
      "/Users/connorvancil/Desktop/AstroResearch/contraster/testing/models.py:46: VisibleDeprecationWarning: Creating an ndarray from ragged nested sequences (which is a list-or-tuple of lists-or-tuples-or ndarrays with different lengths or shapes) is deprecated. If you meant to do this, you must specify 'dtype=object' when creating the ndarray.\n",
      "  return np.array(masses)[sorted_by_mass], np.array(age_list)[sorted_by_mass], np.array(mag_list)[sorted_by_mass]\n"
     ]
    },
    {
     "name": "stdout",
     "output_type": "stream",
     "text": [
      "Target: HD131511, 1000.0 Myr, 11.37 pc, kmag=4.3\n"
     ]
    },
    {
     "name": "stderr",
     "output_type": "stream",
     "text": [
      "/Users/connorvancil/Desktop/AstroResearch/contraster/testing/models.py:46: VisibleDeprecationWarning: Creating an ndarray from ragged nested sequences (which is a list-or-tuple of lists-or-tuples-or ndarrays with different lengths or shapes) is deprecated. If you meant to do this, you must specify 'dtype=object' when creating the ndarray.\n",
      "  return np.array(masses)[sorted_by_mass], np.array(age_list)[sorted_by_mass], np.array(mag_list)[sorted_by_mass]\n"
     ]
    },
    {
     "name": "stdout",
     "output_type": "stream",
     "text": [
      "Target: HD131835, 16.0 Myr, 133.3 pc, kmag=7.5\n",
      "\tCompanion separation for HD131835 is < 0.3 arcseconds, skipping\n",
      "Target: HD134888, 16.0 Myr, 111.97 pc, kmag=7.7\n"
     ]
    },
    {
     "name": "stderr",
     "output_type": "stream",
     "text": [
      "/Users/connorvancil/Desktop/AstroResearch/contraster/testing/models.py:46: VisibleDeprecationWarning: Creating an ndarray from ragged nested sequences (which is a list-or-tuple of lists-or-tuples-or ndarrays with different lengths or shapes) is deprecated. If you meant to do this, you must specify 'dtype=object' when creating the ndarray.\n",
      "  return np.array(masses)[sorted_by_mass], np.array(age_list)[sorted_by_mass], np.array(mag_list)[sorted_by_mass]\n"
     ]
    },
    {
     "name": "stdout",
     "output_type": "stream",
     "text": [
      "\tCompanion for HD134888 is closer than the IWA in f1140c, skipping\n",
      "\tCompanion for HD134888 is closer than the IWA in f1550c, skipping\n",
      "Target: HD135379, 500.0 Myr, 28.415 pc, kmag=3.9\n"
     ]
    },
    {
     "name": "stderr",
     "output_type": "stream",
     "text": [
      "/Users/connorvancil/Desktop/AstroResearch/contraster/testing/models.py:46: VisibleDeprecationWarning: Creating an ndarray from ragged nested sequences (which is a list-or-tuple of lists-or-tuples-or ndarrays with different lengths or shapes) is deprecated. If you meant to do this, you must specify 'dtype=object' when creating the ndarray.\n",
      "  return np.array(masses)[sorted_by_mass], np.array(age_list)[sorted_by_mass], np.array(mag_list)[sorted_by_mass]\n"
     ]
    },
    {
     "name": "stdout",
     "output_type": "stream",
     "text": [
      "Target: HD135599, 1200.0 Myr, 15.808 pc, kmag=5.0\n"
     ]
    },
    {
     "name": "stderr",
     "output_type": "stream",
     "text": [
      "/Users/connorvancil/Desktop/AstroResearch/contraster/testing/models.py:46: VisibleDeprecationWarning: Creating an ndarray from ragged nested sequences (which is a list-or-tuple of lists-or-tuples-or ndarrays with different lengths or shapes) is deprecated. If you meant to do this, you must specify 'dtype=object' when creating the ndarray.\n",
      "  return np.array(masses)[sorted_by_mass], np.array(age_list)[sorted_by_mass], np.array(mag_list)[sorted_by_mass]\n"
     ]
    },
    {
     "name": "stdout",
     "output_type": "stream",
     "text": [
      "Target: HD135953, 16.0 Myr, 130.0 pc, kmag=8.2\n"
     ]
    },
    {
     "name": "stderr",
     "output_type": "stream",
     "text": [
      "/Users/connorvancil/Desktop/AstroResearch/contraster/testing/models.py:46: VisibleDeprecationWarning: Creating an ndarray from ragged nested sequences (which is a list-or-tuple of lists-or-tuples-or ndarrays with different lengths or shapes) is deprecated. If you meant to do this, you must specify 'dtype=object' when creating the ndarray.\n",
      "  return np.array(masses)[sorted_by_mass], np.array(age_list)[sorted_by_mass], np.array(mag_list)[sorted_by_mass]\n"
     ]
    },
    {
     "name": "stdout",
     "output_type": "stream",
     "text": [
      "\tCompanion for HD135953 is closer than the IWA in f1140c, skipping\n",
      "\tCompanion for HD135953 is closer than the IWA in f1550c, skipping\n",
      "Target: HD138813, 10.0 Myr, 136.9 pc, kmag=7.2\n",
      "\tCompanion separation for HD138813 is < 0.3 arcseconds, skipping\n",
      "Target: HD139006, 300.0 Myr, 23.67 pc, kmag=2.2\n",
      "\tCompanion separation for HD139006 is < 0.3 arcseconds, skipping\n",
      "Target: HD139664, 200.0 Myr, 17.38 pc, kmag=3.8\n"
     ]
    },
    {
     "name": "stderr",
     "output_type": "stream",
     "text": [
      "/Users/connorvancil/Desktop/AstroResearch/contraster/testing/models.py:46: VisibleDeprecationWarning: Creating an ndarray from ragged nested sequences (which is a list-or-tuple of lists-or-tuples-or ndarrays with different lengths or shapes) is deprecated. If you meant to do this, you must specify 'dtype=object' when creating the ndarray.\n",
      "  return np.array(masses)[sorted_by_mass], np.array(age_list)[sorted_by_mass], np.array(mag_list)[sorted_by_mass]\n"
     ]
    },
    {
     "name": "stdout",
     "output_type": "stream",
     "text": [
      "Target: HD141943, 16.0 Myr, 60.24 pc, kmag=6.3\n"
     ]
    },
    {
     "name": "stderr",
     "output_type": "stream",
     "text": [
      "/Users/connorvancil/Desktop/AstroResearch/contraster/testing/models.py:46: VisibleDeprecationWarning: Creating an ndarray from ragged nested sequences (which is a list-or-tuple of lists-or-tuples-or ndarrays with different lengths or shapes) is deprecated. If you meant to do this, you must specify 'dtype=object' when creating the ndarray.\n",
      "  return np.array(masses)[sorted_by_mass], np.array(age_list)[sorted_by_mass], np.array(mag_list)[sorted_by_mass]\n"
     ]
    },
    {
     "name": "stdout",
     "output_type": "stream",
     "text": [
      "\tCompanion for HD141943 is closer than the IWA in f1550c, skipping\n",
      "Target: HD143894, 500.0 Myr, 51.349 pc, kmag=4.6\n"
     ]
    },
    {
     "name": "stderr",
     "output_type": "stream",
     "text": [
      "/Users/connorvancil/Desktop/AstroResearch/contraster/testing/models.py:46: VisibleDeprecationWarning: Creating an ndarray from ragged nested sequences (which is a list-or-tuple of lists-or-tuples-or ndarrays with different lengths or shapes) is deprecated. If you meant to do this, you must specify 'dtype=object' when creating the ndarray.\n",
      "  return np.array(masses)[sorted_by_mass], np.array(age_list)[sorted_by_mass], np.array(mag_list)[sorted_by_mass]\n"
     ]
    },
    {
     "name": "stdout",
     "output_type": "stream",
     "text": [
      "Target: HD145689, 45.0 Myr, 55.47 pc, kmag=5.7\n",
      "\tCompanion separation for HD145689 is < 0.3 arcseconds, skipping\n",
      "Target: HD145964, 10.0 Myr, 111.92 pc, kmag=6.4\n"
     ]
    },
    {
     "name": "stderr",
     "output_type": "stream",
     "text": [
      "/Users/connorvancil/Desktop/AstroResearch/contraster/testing/models.py:46: VisibleDeprecationWarning: Creating an ndarray from ragged nested sequences (which is a list-or-tuple of lists-or-tuples-or ndarrays with different lengths or shapes) is deprecated. If you meant to do this, you must specify 'dtype=object' when creating the ndarray.\n",
      "  return np.array(masses)[sorted_by_mass], np.array(age_list)[sorted_by_mass], np.array(mag_list)[sorted_by_mass]\n"
     ]
    },
    {
     "name": "stdout",
     "output_type": "stream",
     "text": [
      "\tCOMPANION DETECTED!\n",
      "Target: HD145972, 16.0 Myr, 125.44 pc, kmag=7.6\n",
      "\tCompanion separation for HD145972 is < 0.3 arcseconds, skipping\n",
      "Target: HD146181, 16.0 Myr, 124.53 pc, kmag=8.1\n"
     ]
    },
    {
     "name": "stderr",
     "output_type": "stream",
     "text": [
      "/Users/connorvancil/Desktop/AstroResearch/contraster/testing/models.py:46: VisibleDeprecationWarning: Creating an ndarray from ragged nested sequences (which is a list-or-tuple of lists-or-tuples-or ndarrays with different lengths or shapes) is deprecated. If you meant to do this, you must specify 'dtype=object' when creating the ndarray.\n",
      "  return np.array(masses)[sorted_by_mass], np.array(age_list)[sorted_by_mass], np.array(mag_list)[sorted_by_mass]\n"
     ]
    },
    {
     "name": "stdout",
     "output_type": "stream",
     "text": [
      "\tCompanion for HD146181 is closer than the IWA in f1550c, skipping\n",
      "Target: HD146624, 250.0 Myr, 43.44 pc, kmag=4.7\n"
     ]
    },
    {
     "name": "stderr",
     "output_type": "stream",
     "text": [
      "/Users/connorvancil/Desktop/AstroResearch/contraster/testing/models.py:46: VisibleDeprecationWarning: Creating an ndarray from ragged nested sequences (which is a list-or-tuple of lists-or-tuples-or ndarrays with different lengths or shapes) is deprecated. If you meant to do this, you must specify 'dtype=object' when creating the ndarray.\n",
      "  return np.array(masses)[sorted_by_mass], np.array(age_list)[sorted_by_mass], np.array(mag_list)[sorted_by_mass]\n"
     ]
    },
    {
     "name": "stdout",
     "output_type": "stream",
     "text": [
      "\tCompanion for HD146624 is closer than the IWA in f1550c, skipping\n",
      "Target: HD146897, 10.0 Myr, 131.01 pc, kmag=7.8\n"
     ]
    },
    {
     "name": "stderr",
     "output_type": "stream",
     "text": [
      "/Users/connorvancil/Desktop/AstroResearch/contraster/testing/models.py:46: VisibleDeprecationWarning: Creating an ndarray from ragged nested sequences (which is a list-or-tuple of lists-or-tuples-or ndarrays with different lengths or shapes) is deprecated. If you meant to do this, you must specify 'dtype=object' when creating the ndarray.\n",
      "  return np.array(masses)[sorted_by_mass], np.array(age_list)[sorted_by_mass], np.array(mag_list)[sorted_by_mass]\n"
     ]
    },
    {
     "name": "stdout",
     "output_type": "stream",
     "text": [
      "\tCompanion for HD146897 is closer than the IWA in f1140c, skipping\n",
      "\tCompanion for HD146897 is closer than the IWA in f1550c, skipping\n",
      "Target: HD152598, 200.0 Myr, 29.646 pc, kmag=4.6\n"
     ]
    },
    {
     "name": "stderr",
     "output_type": "stream",
     "text": [
      "/Users/connorvancil/Desktop/AstroResearch/contraster/testing/models.py:46: VisibleDeprecationWarning: Creating an ndarray from ragged nested sequences (which is a list-or-tuple of lists-or-tuples-or ndarrays with different lengths or shapes) is deprecated. If you meant to do this, you must specify 'dtype=object' when creating the ndarray.\n",
      "  return np.array(masses)[sorted_by_mass], np.array(age_list)[sorted_by_mass], np.array(mag_list)[sorted_by_mass]\n"
     ]
    },
    {
     "name": "stdout",
     "output_type": "stream",
     "text": [
      "Target: HD156623, 16.0 Myr, 111.41 pc, kmag=7.0\n",
      "\tCompanion separation for HD156623 is < 0.3 arcseconds, skipping\n",
      "Target: HD161868, 300.0 Myr, 30.031 pc, kmag=3.7\n"
     ]
    },
    {
     "name": "stderr",
     "output_type": "stream",
     "text": [
      "/Users/connorvancil/Desktop/AstroResearch/contraster/testing/models.py:46: VisibleDeprecationWarning: Creating an ndarray from ragged nested sequences (which is a list-or-tuple of lists-or-tuples-or ndarrays with different lengths or shapes) is deprecated. If you meant to do this, you must specify 'dtype=object' when creating the ndarray.\n",
      "  return np.array(masses)[sorted_by_mass], np.array(age_list)[sorted_by_mass], np.array(mag_list)[sorted_by_mass]\n"
     ]
    },
    {
     "name": "stdout",
     "output_type": "stream",
     "text": [
      "Target: HD166348, 3500.0 Myr, 13.2 pc, kmag=5.2\n"
     ]
    },
    {
     "name": "stderr",
     "output_type": "stream",
     "text": [
      "/Users/connorvancil/Desktop/AstroResearch/contraster/testing/models.py:46: VisibleDeprecationWarning: Creating an ndarray from ragged nested sequences (which is a list-or-tuple of lists-or-tuples-or ndarrays with different lengths or shapes) is deprecated. If you meant to do this, you must specify 'dtype=object' when creating the ndarray.\n",
      "  return np.array(masses)[sorted_by_mass], np.array(age_list)[sorted_by_mass], np.array(mag_list)[sorted_by_mass]\n"
     ]
    },
    {
     "name": "stdout",
     "output_type": "stream",
     "text": [
      "Target: HD169022, 130.0 Myr, 43.94 pc, kmag=1.8\n"
     ]
    },
    {
     "name": "stderr",
     "output_type": "stream",
     "text": [
      "/Users/connorvancil/Desktop/AstroResearch/contraster/testing/models.py:46: VisibleDeprecationWarning: Creating an ndarray from ragged nested sequences (which is a list-or-tuple of lists-or-tuples-or ndarrays with different lengths or shapes) is deprecated. If you meant to do this, you must specify 'dtype=object' when creating the ndarray.\n",
      "  return np.array(masses)[sorted_by_mass], np.array(age_list)[sorted_by_mass], np.array(mag_list)[sorted_by_mass]\n"
     ]
    },
    {
     "name": "stdout",
     "output_type": "stream",
     "text": [
      "Target: HD172555, 24.0 Myr, 28.32 pc, kmag=4.3\n"
     ]
    },
    {
     "name": "stderr",
     "output_type": "stream",
     "text": [
      "/Users/connorvancil/Desktop/AstroResearch/contraster/testing/models.py:46: VisibleDeprecationWarning: Creating an ndarray from ragged nested sequences (which is a list-or-tuple of lists-or-tuples-or ndarrays with different lengths or shapes) is deprecated. If you meant to do this, you must specify 'dtype=object' when creating the ndarray.\n",
      "  return np.array(masses)[sorted_by_mass], np.array(age_list)[sorted_by_mass], np.array(mag_list)[sorted_by_mass]\n"
     ]
    },
    {
     "name": "stdout",
     "output_type": "stream",
     "text": [
      "\tCompanion for HD172555 is closer than the IWA in f1140c, skipping\n",
      "\tCompanion for HD172555 is closer than the IWA in f1550c, skipping\n",
      "Target: HD179520, 300.0 Myr, 58.58 pc, kmag=6.1\n",
      "\tCompanion separation for HD179520 is < 0.3 arcseconds, skipping\n",
      "Target: HD181296, 24.0 Myr, 47.3 pc, kmag=5.0\n"
     ]
    },
    {
     "name": "stderr",
     "output_type": "stream",
     "text": [
      "/Users/connorvancil/Desktop/AstroResearch/contraster/testing/models.py:46: VisibleDeprecationWarning: Creating an ndarray from ragged nested sequences (which is a list-or-tuple of lists-or-tuples-or ndarrays with different lengths or shapes) is deprecated. If you meant to do this, you must specify 'dtype=object' when creating the ndarray.\n",
      "  return np.array(masses)[sorted_by_mass], np.array(age_list)[sorted_by_mass], np.array(mag_list)[sorted_by_mass]\n"
     ]
    },
    {
     "name": "stdout",
     "output_type": "stream",
     "text": [
      "Target: HD181327, 24.0 Myr, 48.15 pc, kmag=5.9\n"
     ]
    },
    {
     "name": "stderr",
     "output_type": "stream",
     "text": [
      "/Users/connorvancil/Desktop/AstroResearch/contraster/testing/models.py:46: VisibleDeprecationWarning: Creating an ndarray from ragged nested sequences (which is a list-or-tuple of lists-or-tuples-or ndarrays with different lengths or shapes) is deprecated. If you meant to do this, you must specify 'dtype=object' when creating the ndarray.\n",
      "  return np.array(masses)[sorted_by_mass], np.array(age_list)[sorted_by_mass], np.array(mag_list)[sorted_by_mass]\n"
     ]
    },
    {
     "name": "stdout",
     "output_type": "stream",
     "text": [
      "\tCOMPANION DETECTED!\n",
      "Target: HD182919, 200.0 Myr, 71.839 pc, kmag=5.6\n",
      "\tCompanion separation for HD182919 is < 0.3 arcseconds, skipping\n",
      "Target: HD183324, 500.0 Myr, 60.574 pc, kmag=5.5\n"
     ]
    },
    {
     "name": "stderr",
     "output_type": "stream",
     "text": [
      "/Users/connorvancil/Desktop/AstroResearch/contraster/testing/models.py:46: VisibleDeprecationWarning: Creating an ndarray from ragged nested sequences (which is a list-or-tuple of lists-or-tuples-or ndarrays with different lengths or shapes) is deprecated. If you meant to do this, you must specify 'dtype=object' when creating the ndarray.\n",
      "  return np.array(masses)[sorted_by_mass], np.array(age_list)[sorted_by_mass], np.array(mag_list)[sorted_by_mass]\n"
     ]
    },
    {
     "name": "stdout",
     "output_type": "stream",
     "text": [
      "Target: HD188228, 45.0 Myr, 31.36 pc, kmag=3.8\n"
     ]
    },
    {
     "name": "stderr",
     "output_type": "stream",
     "text": [
      "/Users/connorvancil/Desktop/AstroResearch/contraster/testing/models.py:46: VisibleDeprecationWarning: Creating an ndarray from ragged nested sequences (which is a list-or-tuple of lists-or-tuples-or ndarrays with different lengths or shapes) is deprecated. If you meant to do this, you must specify 'dtype=object' when creating the ndarray.\n",
      "  return np.array(masses)[sorted_by_mass], np.array(age_list)[sorted_by_mass], np.array(mag_list)[sorted_by_mass]\n"
     ]
    },
    {
     "name": "stdout",
     "output_type": "stream",
     "text": [
      "Target: HD191089, 24.0 Myr, 50.06 pc, kmag=6.1\n"
     ]
    },
    {
     "name": "stderr",
     "output_type": "stream",
     "text": [
      "/Users/connorvancil/Desktop/AstroResearch/contraster/testing/models.py:46: VisibleDeprecationWarning: Creating an ndarray from ragged nested sequences (which is a list-or-tuple of lists-or-tuples-or ndarrays with different lengths or shapes) is deprecated. If you meant to do this, you must specify 'dtype=object' when creating the ndarray.\n",
      "  return np.array(masses)[sorted_by_mass], np.array(age_list)[sorted_by_mass], np.array(mag_list)[sorted_by_mass]\n"
     ]
    },
    {
     "name": "stdout",
     "output_type": "stream",
     "text": [
      "\tCompanion for HD191089 is closer than the IWA in f1550c, skipping\n",
      "Target: HD191174, 390.0 Myr, 83.368 pc, kmag=6.2\n"
     ]
    },
    {
     "name": "stderr",
     "output_type": "stream",
     "text": [
      "/Users/connorvancil/Desktop/AstroResearch/contraster/testing/models.py:46: VisibleDeprecationWarning: Creating an ndarray from ragged nested sequences (which is a list-or-tuple of lists-or-tuples-or ndarrays with different lengths or shapes) is deprecated. If you meant to do this, you must specify 'dtype=object' when creating the ndarray.\n",
      "  return np.array(masses)[sorted_by_mass], np.array(age_list)[sorted_by_mass], np.array(mag_list)[sorted_by_mass]\n"
     ]
    },
    {
     "name": "stdout",
     "output_type": "stream",
     "text": [
      "Target: HD191849, 900.0 Myr, 6.159 pc, kmag=4.3\n"
     ]
    },
    {
     "name": "stderr",
     "output_type": "stream",
     "text": [
      "/Users/connorvancil/Desktop/AstroResearch/contraster/testing/models.py:46: VisibleDeprecationWarning: Creating an ndarray from ragged nested sequences (which is a list-or-tuple of lists-or-tuples-or ndarrays with different lengths or shapes) is deprecated. If you meant to do this, you must specify 'dtype=object' when creating the ndarray.\n",
      "  return np.array(masses)[sorted_by_mass], np.array(age_list)[sorted_by_mass], np.array(mag_list)[sorted_by_mass]\n"
     ]
    },
    {
     "name": "stdout",
     "output_type": "stream",
     "text": [
      "\tCOMPANION DETECTED!\n",
      "Target: HD192425, 400.0 Myr, 47.913 pc, kmag=4.8\n"
     ]
    },
    {
     "name": "stderr",
     "output_type": "stream",
     "text": [
      "/Users/connorvancil/Desktop/AstroResearch/contraster/testing/models.py:46: VisibleDeprecationWarning: Creating an ndarray from ragged nested sequences (which is a list-or-tuple of lists-or-tuples-or ndarrays with different lengths or shapes) is deprecated. If you meant to do this, you must specify 'dtype=object' when creating the ndarray.\n",
      "  return np.array(masses)[sorted_by_mass], np.array(age_list)[sorted_by_mass], np.array(mag_list)[sorted_by_mass]\n"
     ]
    },
    {
     "name": "stdout",
     "output_type": "stream",
     "text": [
      "Target: HD192758, 45.0 Myr, 66.4 pc, kmag=6.2\n"
     ]
    },
    {
     "name": "stderr",
     "output_type": "stream",
     "text": [
      "/Users/connorvancil/Desktop/AstroResearch/contraster/testing/models.py:46: VisibleDeprecationWarning: Creating an ndarray from ragged nested sequences (which is a list-or-tuple of lists-or-tuples-or ndarrays with different lengths or shapes) is deprecated. If you meant to do this, you must specify 'dtype=object' when creating the ndarray.\n",
      "  return np.array(masses)[sorted_by_mass], np.array(age_list)[sorted_by_mass], np.array(mag_list)[sorted_by_mass]\n"
     ]
    },
    {
     "name": "stdout",
     "output_type": "stream",
     "text": [
      "\tCompanion for HD192758 is closer than the IWA in f1550c, skipping\n",
      "Target: HD193571, 205.0 Myr, 68.34 pc, kmag=5.6\n"
     ]
    },
    {
     "name": "stderr",
     "output_type": "stream",
     "text": [
      "/Users/connorvancil/Desktop/AstroResearch/contraster/testing/models.py:46: VisibleDeprecationWarning: Creating an ndarray from ragged nested sequences (which is a list-or-tuple of lists-or-tuples-or ndarrays with different lengths or shapes) is deprecated. If you meant to do this, you must specify 'dtype=object' when creating the ndarray.\n",
      "  return np.array(masses)[sorted_by_mass], np.array(age_list)[sorted_by_mass], np.array(mag_list)[sorted_by_mass]\n"
     ]
    },
    {
     "name": "stdout",
     "output_type": "stream",
     "text": [
      "Target: HD196544, 130.0 Myr, 59.37 pc, kmag=5.3\n"
     ]
    },
    {
     "name": "stderr",
     "output_type": "stream",
     "text": [
      "/Users/connorvancil/Desktop/AstroResearch/contraster/testing/models.py:46: VisibleDeprecationWarning: Creating an ndarray from ragged nested sequences (which is a list-or-tuple of lists-or-tuples-or ndarrays with different lengths or shapes) is deprecated. If you meant to do this, you must specify 'dtype=object' when creating the ndarray.\n",
      "  return np.array(masses)[sorted_by_mass], np.array(age_list)[sorted_by_mass], np.array(mag_list)[sorted_by_mass]\n"
     ]
    },
    {
     "name": "stdout",
     "output_type": "stream",
     "text": [
      "Target: HD197481, 24.0 Myr, 9.72 pc, kmag=4.5\n"
     ]
    },
    {
     "name": "stderr",
     "output_type": "stream",
     "text": [
      "/Users/connorvancil/Desktop/AstroResearch/contraster/testing/models.py:46: VisibleDeprecationWarning: Creating an ndarray from ragged nested sequences (which is a list-or-tuple of lists-or-tuples-or ndarrays with different lengths or shapes) is deprecated. If you meant to do this, you must specify 'dtype=object' when creating the ndarray.\n",
      "  return np.array(masses)[sorted_by_mass], np.array(age_list)[sorted_by_mass], np.array(mag_list)[sorted_by_mass]\n"
     ]
    },
    {
     "name": "stdout",
     "output_type": "stream",
     "text": [
      "\tCOMPANION DETECTED!\n",
      "Target: HD199260, 400.0 Myr, 21.27 pc, kmag=4.5\n"
     ]
    },
    {
     "name": "stderr",
     "output_type": "stream",
     "text": [
      "/Users/connorvancil/Desktop/AstroResearch/contraster/testing/models.py:46: VisibleDeprecationWarning: Creating an ndarray from ragged nested sequences (which is a list-or-tuple of lists-or-tuples-or ndarrays with different lengths or shapes) is deprecated. If you meant to do this, you must specify 'dtype=object' when creating the ndarray.\n",
      "  return np.array(masses)[sorted_by_mass], np.array(age_list)[sorted_by_mass], np.array(mag_list)[sorted_by_mass]\n"
     ]
    },
    {
     "name": "stdout",
     "output_type": "stream",
     "text": [
      "Target: HD202628, 1100.0 Myr, 23.81 pc, kmag=5.3\n"
     ]
    },
    {
     "name": "stderr",
     "output_type": "stream",
     "text": [
      "/Users/connorvancil/Desktop/AstroResearch/contraster/testing/models.py:46: VisibleDeprecationWarning: Creating an ndarray from ragged nested sequences (which is a list-or-tuple of lists-or-tuples-or ndarrays with different lengths or shapes) is deprecated. If you meant to do this, you must specify 'dtype=object' when creating the ndarray.\n",
      "  return np.array(masses)[sorted_by_mass], np.array(age_list)[sorted_by_mass], np.array(mag_list)[sorted_by_mass]\n"
     ]
    },
    {
     "name": "stdout",
     "output_type": "stream",
     "text": [
      "Target: HD205811, 380.0 Myr, 88.08 pc, kmag=6.1\n"
     ]
    },
    {
     "name": "stderr",
     "output_type": "stream",
     "text": [
      "/Users/connorvancil/Desktop/AstroResearch/contraster/testing/models.py:46: VisibleDeprecationWarning: Creating an ndarray from ragged nested sequences (which is a list-or-tuple of lists-or-tuples-or ndarrays with different lengths or shapes) is deprecated. If you meant to do this, you must specify 'dtype=object' when creating the ndarray.\n",
      "  return np.array(masses)[sorted_by_mass], np.array(age_list)[sorted_by_mass], np.array(mag_list)[sorted_by_mass]\n"
     ]
    },
    {
     "name": "stdout",
     "output_type": "stream",
     "text": [
      "\tCompanion for HD205811 is closer than the IWA in f1140c, skipping\n",
      "\tCompanion for HD205811 is closer than the IWA in f1550c, skipping\n",
      "Target: HD206860, 400.0 Myr, 18.119 pc, kmag=4.6\n"
     ]
    },
    {
     "name": "stderr",
     "output_type": "stream",
     "text": [
      "/Users/connorvancil/Desktop/AstroResearch/contraster/testing/models.py:46: VisibleDeprecationWarning: Creating an ndarray from ragged nested sequences (which is a list-or-tuple of lists-or-tuples-or ndarrays with different lengths or shapes) is deprecated. If you meant to do this, you must specify 'dtype=object' when creating the ndarray.\n",
      "  return np.array(masses)[sorted_by_mass], np.array(age_list)[sorted_by_mass], np.array(mag_list)[sorted_by_mass]\n"
     ]
    },
    {
     "name": "stdout",
     "output_type": "stream",
     "text": [
      "Target: HD207129, 3000.0 Myr, 15.55 pc, kmag=4.2\n"
     ]
    },
    {
     "name": "stderr",
     "output_type": "stream",
     "text": [
      "/Users/connorvancil/Desktop/AstroResearch/contraster/testing/models.py:46: VisibleDeprecationWarning: Creating an ndarray from ragged nested sequences (which is a list-or-tuple of lists-or-tuples-or ndarrays with different lengths or shapes) is deprecated. If you meant to do this, you must specify 'dtype=object' when creating the ndarray.\n",
      "  return np.array(masses)[sorted_by_mass], np.array(age_list)[sorted_by_mass], np.array(mag_list)[sorted_by_mass]\n"
     ]
    },
    {
     "name": "stdout",
     "output_type": "stream",
     "text": [
      "Target: HD209253, 600.0 Myr, 31.39 pc, kmag=5.4\n"
     ]
    },
    {
     "name": "stderr",
     "output_type": "stream",
     "text": [
      "/Users/connorvancil/Desktop/AstroResearch/contraster/testing/models.py:46: VisibleDeprecationWarning: Creating an ndarray from ragged nested sequences (which is a list-or-tuple of lists-or-tuples-or ndarrays with different lengths or shapes) is deprecated. If you meant to do this, you must specify 'dtype=object' when creating the ndarray.\n",
      "  return np.array(masses)[sorted_by_mass], np.array(age_list)[sorted_by_mass], np.array(mag_list)[sorted_by_mass]\n"
     ]
    },
    {
     "name": "stdout",
     "output_type": "stream",
     "text": [
      "Target: HD213398, 180.0 Myr, 43.13 pc, kmag=4.3\n"
     ]
    },
    {
     "name": "stderr",
     "output_type": "stream",
     "text": [
      "/Users/connorvancil/Desktop/AstroResearch/contraster/testing/models.py:46: VisibleDeprecationWarning: Creating an ndarray from ragged nested sequences (which is a list-or-tuple of lists-or-tuples-or ndarrays with different lengths or shapes) is deprecated. If you meant to do this, you must specify 'dtype=object' when creating the ndarray.\n",
      "  return np.array(masses)[sorted_by_mass], np.array(age_list)[sorted_by_mass], np.array(mag_list)[sorted_by_mass]\n"
     ]
    },
    {
     "name": "stdout",
     "output_type": "stream",
     "text": [
      "Target: HD213617, 700.0 Myr, 53.495 pc, kmag=5.6\n"
     ]
    },
    {
     "name": "stderr",
     "output_type": "stream",
     "text": [
      "/Users/connorvancil/Desktop/AstroResearch/contraster/testing/models.py:46: VisibleDeprecationWarning: Creating an ndarray from ragged nested sequences (which is a list-or-tuple of lists-or-tuples-or ndarrays with different lengths or shapes) is deprecated. If you meant to do this, you must specify 'dtype=object' when creating the ndarray.\n",
      "  return np.array(masses)[sorted_by_mass], np.array(age_list)[sorted_by_mass], np.array(mag_list)[sorted_by_mass]\n"
     ]
    },
    {
     "name": "stdout",
     "output_type": "stream",
     "text": [
      "Target: HD215766, 100.0 Myr, 108.57 pc, kmag=5.7\n"
     ]
    },
    {
     "name": "stderr",
     "output_type": "stream",
     "text": [
      "/Users/connorvancil/Desktop/AstroResearch/contraster/testing/models.py:46: VisibleDeprecationWarning: Creating an ndarray from ragged nested sequences (which is a list-or-tuple of lists-or-tuples-or ndarrays with different lengths or shapes) is deprecated. If you meant to do this, you must specify 'dtype=object' when creating the ndarray.\n",
      "  return np.array(masses)[sorted_by_mass], np.array(age_list)[sorted_by_mass], np.array(mag_list)[sorted_by_mass]\n"
     ]
    },
    {
     "name": "stdout",
     "output_type": "stream",
     "text": [
      "\tCompanion for HD215766 is closer than the IWA in f1140c, skipping\n",
      "\tCompanion for HD215766 is closer than the IWA in f1550c, skipping\n",
      "Target: HD216435, 5000.0 Myr, 32.98 pc, kmag=4.6\n"
     ]
    },
    {
     "name": "stderr",
     "output_type": "stream",
     "text": [
      "/Users/connorvancil/Desktop/AstroResearch/contraster/testing/models.py:46: VisibleDeprecationWarning: Creating an ndarray from ragged nested sequences (which is a list-or-tuple of lists-or-tuples-or ndarrays with different lengths or shapes) is deprecated. If you meant to do this, you must specify 'dtype=object' when creating the ndarray.\n",
      "  return np.array(masses)[sorted_by_mass], np.array(age_list)[sorted_by_mass], np.array(mag_list)[sorted_by_mass]\n"
     ]
    },
    {
     "name": "stdout",
     "output_type": "stream",
     "text": [
      "Target: HD218340, 1100.0 Myr, 56.09 pc, kmag=6.9\n"
     ]
    },
    {
     "name": "stderr",
     "output_type": "stream",
     "text": [
      "/Users/connorvancil/Desktop/AstroResearch/contraster/testing/models.py:46: VisibleDeprecationWarning: Creating an ndarray from ragged nested sequences (which is a list-or-tuple of lists-or-tuples-or ndarrays with different lengths or shapes) is deprecated. If you meant to do this, you must specify 'dtype=object' when creating the ndarray.\n",
      "  return np.array(masses)[sorted_by_mass], np.array(age_list)[sorted_by_mass], np.array(mag_list)[sorted_by_mass]\n"
     ]
    },
    {
     "name": "stdout",
     "output_type": "stream",
     "text": [
      "Target: HD218396, 42.0 Myr, 41.24 pc, kmag=5.2\n"
     ]
    },
    {
     "name": "stderr",
     "output_type": "stream",
     "text": [
      "/Users/connorvancil/Desktop/AstroResearch/contraster/testing/models.py:46: VisibleDeprecationWarning: Creating an ndarray from ragged nested sequences (which is a list-or-tuple of lists-or-tuples-or ndarrays with different lengths or shapes) is deprecated. If you meant to do this, you must specify 'dtype=object' when creating the ndarray.\n",
      "  return np.array(masses)[sorted_by_mass], np.array(age_list)[sorted_by_mass], np.array(mag_list)[sorted_by_mass]\n"
     ]
    },
    {
     "name": "stdout",
     "output_type": "stream",
     "text": [
      "\tCOMPANION DETECTED!\n",
      "Target: HD218511, 1000.0 Myr, 14.83 pc, kmag=5.3\n"
     ]
    },
    {
     "name": "stderr",
     "output_type": "stream",
     "text": [
      "/Users/connorvancil/Desktop/AstroResearch/contraster/testing/models.py:46: VisibleDeprecationWarning: Creating an ndarray from ragged nested sequences (which is a list-or-tuple of lists-or-tuples-or ndarrays with different lengths or shapes) is deprecated. If you meant to do this, you must specify 'dtype=object' when creating the ndarray.\n",
      "  return np.array(masses)[sorted_by_mass], np.array(age_list)[sorted_by_mass], np.array(mag_list)[sorted_by_mass]\n"
     ]
    },
    {
     "name": "stdout",
     "output_type": "stream",
     "text": [
      "Target: HD219482, 430.0 Myr, 20.45 pc, kmag=4.4\n"
     ]
    },
    {
     "name": "stderr",
     "output_type": "stream",
     "text": [
      "/Users/connorvancil/Desktop/AstroResearch/contraster/testing/models.py:46: VisibleDeprecationWarning: Creating an ndarray from ragged nested sequences (which is a list-or-tuple of lists-or-tuples-or ndarrays with different lengths or shapes) is deprecated. If you meant to do this, you must specify 'dtype=object' when creating the ndarray.\n",
      "  return np.array(masses)[sorted_by_mass], np.array(age_list)[sorted_by_mass], np.array(mag_list)[sorted_by_mass]\n"
     ]
    },
    {
     "name": "stdout",
     "output_type": "stream",
     "text": [
      "\tCompanion for HD219482 is closer than the IWA in f1140c, skipping\n",
      "\tCompanion for HD219482 is closer than the IWA in f1550c, skipping\n",
      "Target: HD219498, 300.0 Myr, 56.99 pc, kmag=7.4\n"
     ]
    },
    {
     "name": "stderr",
     "output_type": "stream",
     "text": [
      "/Users/connorvancil/Desktop/AstroResearch/contraster/testing/models.py:46: VisibleDeprecationWarning: Creating an ndarray from ragged nested sequences (which is a list-or-tuple of lists-or-tuples-or ndarrays with different lengths or shapes) is deprecated. If you meant to do this, you must specify 'dtype=object' when creating the ndarray.\n",
      "  return np.array(masses)[sorted_by_mass], np.array(age_list)[sorted_by_mass], np.array(mag_list)[sorted_by_mass]\n"
     ]
    },
    {
     "name": "stdout",
     "output_type": "stream",
     "text": [
      "\tCompanion for HD219498 is closer than the IWA in f1550c, skipping\n",
      "Target: HD220825, 149.0 Myr, 48.861 pc, kmag=5.0\n"
     ]
    },
    {
     "name": "stderr",
     "output_type": "stream",
     "text": [
      "/Users/connorvancil/Desktop/AstroResearch/contraster/testing/models.py:46: VisibleDeprecationWarning: Creating an ndarray from ragged nested sequences (which is a list-or-tuple of lists-or-tuples-or ndarrays with different lengths or shapes) is deprecated. If you meant to do this, you must specify 'dtype=object' when creating the ndarray.\n",
      "  return np.array(masses)[sorted_by_mass], np.array(age_list)[sorted_by_mass], np.array(mag_list)[sorted_by_mass]\n"
     ]
    },
    {
     "name": "stdout",
     "output_type": "stream",
     "text": [
      "\tCompanion for HD220825 is closer than the IWA in f1550c, skipping\n",
      "Target: HD221853, 100.0 Myr, 65.292 pc, kmag=6.4\n"
     ]
    },
    {
     "name": "stderr",
     "output_type": "stream",
     "text": [
      "/Users/connorvancil/Desktop/AstroResearch/contraster/testing/models.py:46: VisibleDeprecationWarning: Creating an ndarray from ragged nested sequences (which is a list-or-tuple of lists-or-tuples-or ndarrays with different lengths or shapes) is deprecated. If you meant to do this, you must specify 'dtype=object' when creating the ndarray.\n",
      "  return np.array(masses)[sorted_by_mass], np.array(age_list)[sorted_by_mass], np.array(mag_list)[sorted_by_mass]\n"
     ]
    },
    {
     "name": "stdout",
     "output_type": "stream",
     "text": [
      "Target: HD222368, 5000.0 Myr, 13.43 pc, kmag=2.8\n"
     ]
    },
    {
     "name": "stderr",
     "output_type": "stream",
     "text": [
      "/Users/connorvancil/Desktop/AstroResearch/contraster/testing/models.py:46: VisibleDeprecationWarning: Creating an ndarray from ragged nested sequences (which is a list-or-tuple of lists-or-tuples-or ndarrays with different lengths or shapes) is deprecated. If you meant to do this, you must specify 'dtype=object' when creating the ndarray.\n",
      "  return np.array(masses)[sorted_by_mass], np.array(age_list)[sorted_by_mass], np.array(mag_list)[sorted_by_mass]\n"
     ]
    },
    {
     "name": "stdout",
     "output_type": "stream",
     "text": [
      "Target: HD223340, 149.0 Myr, 44.18 pc, kmag=7.1\n"
     ]
    },
    {
     "name": "stderr",
     "output_type": "stream",
     "text": [
      "/Users/connorvancil/Desktop/AstroResearch/contraster/testing/models.py:46: VisibleDeprecationWarning: Creating an ndarray from ragged nested sequences (which is a list-or-tuple of lists-or-tuples-or ndarrays with different lengths or shapes) is deprecated. If you meant to do this, you must specify 'dtype=object' when creating the ndarray.\n",
      "  return np.array(masses)[sorted_by_mass], np.array(age_list)[sorted_by_mass], np.array(mag_list)[sorted_by_mass]\n"
     ]
    },
    {
     "name": "stdout",
     "output_type": "stream",
     "text": [
      "Target: HD223352, 149.0 Myr, 42.71 pc, kmag=4.5\n"
     ]
    },
    {
     "name": "stderr",
     "output_type": "stream",
     "text": [
      "/Users/connorvancil/Desktop/AstroResearch/contraster/testing/models.py:46: VisibleDeprecationWarning: Creating an ndarray from ragged nested sequences (which is a list-or-tuple of lists-or-tuples-or ndarrays with different lengths or shapes) is deprecated. If you meant to do this, you must specify 'dtype=object' when creating the ndarray.\n",
      "  return np.array(masses)[sorted_by_mass], np.array(age_list)[sorted_by_mass], np.array(mag_list)[sorted_by_mass]\n"
     ]
    },
    {
     "name": "stdout",
     "output_type": "stream",
     "text": [
      "\tCompanion for HD223352 is closer than the IWA in f1550c, skipping\n",
      "Target: HIP6276, 149.0 Myr, 35.296 pc, kmag=6.5\n"
     ]
    },
    {
     "name": "stderr",
     "output_type": "stream",
     "text": [
      "/Users/connorvancil/Desktop/AstroResearch/contraster/testing/models.py:46: VisibleDeprecationWarning: Creating an ndarray from ragged nested sequences (which is a list-or-tuple of lists-or-tuples-or ndarrays with different lengths or shapes) is deprecated. If you meant to do this, you must specify 'dtype=object' when creating the ndarray.\n",
      "  return np.array(masses)[sorted_by_mass], np.array(age_list)[sorted_by_mass], np.array(mag_list)[sorted_by_mass]\n"
     ]
    },
    {
     "name": "stdout",
     "output_type": "stream",
     "text": [
      "\tCompanion for HIP6276 is closer than the IWA in f1550c, skipping\n",
      "Target: MML8, 15.0 Myr, 112.92 pc, kmag=8.1\n",
      "\tCompanion separation for MML8 is < 0.3 arcseconds, skipping\n",
      "Target: MML28, 15.0 Myr, 117.46 pc, kmag=8.8\n",
      "\tCompanion separation for MML28 is < 0.3 arcseconds, skipping\n",
      "Target: MML36, 16.0 Myr, 99.51 pc, kmag=7.9\n",
      "\tCompanion separation for MML36 is < 0.3 arcseconds, skipping\n",
      "Target: NLTT54872, 440.0 Myr, 7.672999999999999 pc, kmag=7.2\n"
     ]
    },
    {
     "name": "stderr",
     "output_type": "stream",
     "text": [
      "/Users/connorvancil/Desktop/AstroResearch/contraster/testing/models.py:46: VisibleDeprecationWarning: Creating an ndarray from ragged nested sequences (which is a list-or-tuple of lists-or-tuples-or ndarrays with different lengths or shapes) is deprecated. If you meant to do this, you must specify 'dtype=object' when creating the ndarray.\n",
      "  return np.array(masses)[sorted_by_mass], np.array(age_list)[sorted_by_mass], np.array(mag_list)[sorted_by_mass]\n"
     ]
    },
    {
     "name": "stdout",
     "output_type": "stream",
     "text": [
      "\tCOMPANION DETECTED!\n",
      "Target: SAO150676, 42.0 Myr, 72.99 pc, kmag=7.5\n",
      "\tCompanion separation for SAO150676 is < 0.3 arcseconds, skipping\n"
     ]
    }
   ],
   "source": [
    "full_detection_list = []\n",
    "\n",
    "for i, target in enumerate(targets):\n",
    "    \n",
    "    age = target_dict[target][1]\n",
    "    distance = target_dict[target][0]\n",
    "    comp_sep = target_dict[target][3] #Companion separation in arcseconds\n",
    "    comp_mass = target_dict[target][2] #Companions mass in M_Jup\n",
    "\n",
    "    disk_inner_edge = target_dict[target][4]/distance\n",
    "    disk_outer_edge = target_dict[target][5]/distance\n",
    "    \n",
    "    kmag,spt = simbad_vals[target]\n",
    "    \n",
    "    mass_limits_list = []\n",
    "    sep_list = []\n",
    "    target_detection_array = []\n",
    "    almost_detected_array = []\n",
    "\n",
    "    print(\"Target: {}, {} Myr, {} pc, kmag={:.1f}\".format(target,age,distance,kmag))\n",
    "\n",
    "    if comp_sep < 0.3:\n",
    "        print(\"\\tCompanion separation for {} is < 0.3 arcseconds, skipping\".format(target))\n",
    "        continue\n",
    "\n",
    "    for filter_name in filter_list:\n",
    "        \n",
    "        instrument = configs[filter_name]['instrument']\n",
    "        instrument_mask = configs[filter_name]['instrument_mask']\n",
    "\n",
    "        jwst_mag = get_jwst_mag(spt,kmag,instrument,filter_name,filter_dir=\"./\",jwst_mask=instrument_mask,\n",
    "                    norm_filter='bessel_k').value\n",
    "\n",
    "        contrast_curves=read_contrast_curves()\n",
    "        sep,companion_mags=companion_detection_limit(jwst_mag,filter_name,contrast_curves,plot=False);\n",
    "\n",
    "        if comp_sep < np.min(sep):\n",
    "            print(\"\\tCompanion for {} is closer than the IWA in {}, skipping\".format(target,filter_name))\n",
    "            continue\n",
    "\n",
    "        model_dir=\"/Users/connorvancil/Desktop/AstroResearch/Data/models/evolutionary_tracks/ATMO_CEQ/\"\n",
    "        model_dir+=model_instrument_directories.get(instrument.lower())\n",
    "        \n",
    "        if instrument.lower () == \"nircam\":\n",
    "            model_dir+=model_nircam_mask_directories.get(instrument_mask.lower())\n",
    "\n",
    "\n",
    "        mass_limits = generate_mass_curve(age,distance,companion_mags,filter_name,sep,model_dir,plot=False)\n",
    "\n",
    "        detected = detect_companion(sep,mass_limits,comp_sep,comp_mass)\n",
    "        target_detection_array.append(detected)\n",
    "\n",
    "        #What if we got 2x deeper?\n",
    "        almost_detected = detect_companion(sep,mass_limits/2.,comp_sep,comp_mass)\n",
    "        almost_detected_array.append(almost_detected)\n",
    "\n",
    "        # print(\"Was the companion detected? {}\".format())\n",
    "        mass_limits_list.append(mass_limits)\n",
    "        sep_list.append(sep)\n",
    "\n",
    "    if np.any(target_detection_array):\n",
    "        print(\"\\tCOMPANION DETECTED!\")\n",
    "        full_detection_list.append(True)\n",
    "        figure_directory = \"./Figures/Detected/\"\n",
    "    elif np.any(almost_detected_array): \n",
    "        full_detection_list.append(False)\n",
    "        figure_directory = \"./Figures/Almost_Detected/\"\n",
    "    else: \n",
    "        full_detection_list.append(False)\n",
    "        figure_directory = \"./Figures/Non-Detected/\"\n",
    "    \n",
    "    fig,axis = plt.subplots(1,1,figsize=(12,5))\n",
    "    for i in range(len(mass_limits_list)):\n",
    "        plt.semilogy(sep_list[i],mass_limits_list[i],label=filter_list[i])\n",
    "    plt.title(\"{}, {} Myr, {} pc, kmag={:.1f}, Detected: {}\".format(target,age,distance,kmag,full_detection_list[-1]))\n",
    "    plt.scatter(comp_sep,comp_mass,label=\"Predicted Companion\")\n",
    "\n",
    "    ymin, ymax = axis.get_ylim()\n",
    "\n",
    "    plt.fill_between([disk_inner_edge,disk_outer_edge],[ymin],y2=[ymax],color='k',alpha=0.1)\n",
    "    plt.xlabel(\"Separation (arcseconds)\")\n",
    "    plt.ylabel(r\"Mass Limit ($M_{Jup}$)\")\n",
    "    plt.legend()\n",
    "    plt.savefig(figure_directory+target+\".png\",dpi=200)\n",
    "    plt.close()\n",
    "\n",
    "        "
   ]
  },
  {
   "cell_type": "code",
   "execution_count": 21,
   "metadata": {},
   "outputs": [
    {
     "data": {
      "text/plain": [
       "5.024576734025123"
      ]
     },
     "execution_count": 21,
     "metadata": {},
     "output_type": "execute_result"
    }
   ],
   "source": [
    "disk_outer_edge"
   ]
  },
  {
   "cell_type": "code",
   "execution_count": 26,
   "metadata": {},
   "outputs": [
    {
     "data": {
      "text/plain": [
       "<matplotlib.collections.PolyCollection at 0x7f7c45970670>"
      ]
     },
     "execution_count": 26,
     "metadata": {},
     "output_type": "execute_result"
    },
    {
     "data": {
      "image/png": "[encoded data removed]",
      "text/plain": [
       "<Figure size 640x480 with 1 Axes>"
      ]
     },
     "metadata": {},
     "output_type": "display_data"
    }
   ],
   "source": [
    "plt.fill_between([disk_inner_edge,disk_outer_edge],[ymin],y2=[ymax],color='k',alpha=0.3)"
   ]
  },
  {
   "cell_type": "code",
   "execution_count": 12,
   "metadata": {},
   "outputs": [
    {
     "data": {
      "text/plain": [
       "20"
      ]
     },
     "execution_count": 12,
     "metadata": {},
     "output_type": "execute_result"
    }
   ],
   "source": [
    "len(np.where(full_detection_list)[0])"
   ]
  },
  {
   "cell_type": "markdown",
   "metadata": {},
   "source": []
  },
  {
   "cell_type": "code",
   "execution_count": 53,
   "metadata": {},
   "outputs": [
    {
     "data": {
      "text/plain": [
       "['         6.0         5.0       0.717       5.649     178.326       1.881       39.91       37.79       42.48       24.10       19.45       42.73       40.37       28.56       19.75       17.75       14.81       40.16       38.13       42.81       32.30       26.39       20.01       22.62       20.58       20.40       18.58       16.23       15.52       14.98       14.67       19.33       18.25       43.32       40.02       37.70       42.26       48.86       38.15       36.00       42.31       41.80       43.54',\n",
       " '         6.1         5.0       0.703       5.155     175.915       1.897       40.24       38.07       42.98       24.27       19.58       42.88       40.55       28.78       19.88       17.85       14.89       40.49       38.40       43.31       32.47       26.60       20.15       22.80       20.71       20.59       18.73       16.32       15.60       15.06       14.75       19.46       18.38       43.74       40.36       37.98       42.74       49.26       38.49       36.27       42.70       42.29       43.91',\n",
       " '         6.2         5.0       0.689       4.651     173.253       1.915       40.64       38.40       43.54       24.46       19.73       43.07       40.75       29.04       20.03       17.96       14.97       40.90       38.73       43.86       32.66       26.83       20.30       23.00       20.86       20.81       18.91       16.41       15.69       15.14       14.83       19.62       18.52       44.23       40.76       38.30       43.29       49.71       38.89       36.60       43.14       42.84       44.34',\n",
       " '         6.3         5.0       0.673       4.150     170.353       1.935       41.11       38.78       44.15       24.70       19.91       43.28       40.99       29.34       20.21       18.08       15.07       41.37       39.11       44.48       32.88       27.10       20.47       23.22       21.03       21.06       19.11       16.52       15.78       15.24       14.93       19.79       18.69       44.79       41.23       38.68       43.89       50.21       39.36       36.98       43.65       43.43       44.82',\n",
       " '         6.4         5.0       0.656       3.662     167.247       1.957       41.66       39.22       44.82       24.96       20.11       43.53       41.26       29.69       20.41       18.22       15.18       41.93       39.55       45.14       33.12       27.41       20.67       23.49       21.23       21.35       19.35       16.63       15.89       15.35       15.04       19.99       18.87       45.43       41.79       39.13       44.53       50.77       39.91       37.42       44.23       44.08       45.36',\n",
       " '         6.5         5.0       0.638       3.200     163.971       1.982       42.32       39.74       45.53       25.27       20.33       43.82       41.58       30.10       20.64       18.36       15.30       42.58       40.07       45.85       33.38       27.77       20.90       23.78       21.44       21.67       19.62       16.76       16.01       15.47       15.16       20.21       19.08       46.14       42.43       39.64       45.22       51.39       40.56       37.94       44.86       44.76       45.95',\n",
       " '         6.6         5.0       0.619       2.771     160.572       2.008       43.07       40.32       46.26       25.61       20.58       44.15       41.93       30.57       20.89       18.51       15.43       43.33       40.65       46.58       33.67       28.16       21.15       24.11       21.69       22.04       19.93       16.88       16.13       15.60       15.29       20.46       19.30       46.93       43.17       40.23       45.94       52.05       41.29       38.52       45.56       45.47       46.60',\n",
       " '         6.7         5.0       0.599       2.380     157.085       2.036       43.93       40.99       47.02       26.00       20.86       44.53       42.33       31.10       21.17       18.66       15.57       44.19       41.31       47.34       33.98       28.60       21.43       24.47       21.95       22.44       20.27       17.02       16.26       15.74       15.44       20.73       19.55       47.79       44.01       40.89       46.68       52.76       42.13       39.18       46.32       46.20       47.31',\n",
       " '         6.8         5.0       0.580       2.030     153.525       2.065       44.91       41.73       47.80       26.43       21.16       44.95       42.78       31.70       21.48       18.82       15.73       45.15       42.06       48.12       34.31       29.08       21.74       24.87       22.24       22.88       20.66       17.16       16.40       15.89       15.60       21.02       19.82       48.74       44.95       41.64       47.44       53.51       43.08       39.93       47.14       46.94       48.09',\n",
       " '         6.9         5.0       0.559       1.719     149.896       2.096       46.02       42.57       48.58       26.90       21.50       45.44       43.29       32.36       21.83       18.99       15.90       46.25       42.90       48.91       34.68       29.62       22.08       25.30       22.56       23.36       21.09       17.31       16.55       16.06       15.77       21.34       20.11       49.77       46.03       42.47       48.21       54.31       44.15       40.76       48.01       47.69       48.93',\n",
       " '         7.0         5.0       0.539       1.445     146.204       2.128       47.28       43.51       49.38       27.43       21.86       45.98       43.86       33.11       22.20       19.16       16.08       47.47       43.83       49.71       35.06       30.20       22.46       25.78       22.91       23.89       21.57       17.46       16.70       16.23       15.96       21.69       20.42       50.89       47.23       43.41       48.99       55.17       45.36       41.70       48.95       48.45       49.84',\n",
       " '         7.1         5.0       0.519       1.207     142.422       2.160       48.69       44.55       50.19       28.01       22.26       46.60       44.50       33.94       22.61       19.34       16.27       48.85       44.87       50.52       35.48       30.85       22.86       26.30       23.28       24.47       22.10       17.62       16.86       16.41       16.16       22.07       20.76       52.12       48.58       44.45       49.78       56.07       46.71       42.74       49.96       49.22       50.84',\n",
       " '         7.2         5.0       0.500       1.000     138.506       2.194       50.28       45.71       51.01       28.65       22.70       47.29       45.22       34.86       23.05       19.52       16.47       50.38       46.04       51.36       35.93       31.55       23.31       26.87       23.69       25.10       22.68       17.78       17.03       16.61       16.38       22.48       21.12       53.47       50.09       45.61       50.60       57.05       48.22       43.90       51.05       50.00       51.93',\n",
       " '         7.3         5.0       0.481       0.821     134.394       2.227       52.06       47.01       51.87       29.36       23.17       48.08       46.03       35.89       23.54       19.71       16.69       52.09       47.34       52.23       36.42       32.32       23.80       27.49       24.13       25.79       23.33       17.95       17.21       16.82       16.62       22.92       21.51       54.96       51.78       46.91       51.45       58.12       49.93       45.20       52.23       50.82       53.14',\n",
       " '         7.4         5.0       0.463       0.668     130.114       2.260       54.03       48.45       52.76       30.13       23.68       48.96       46.93       37.02       24.07       19.91       16.92       53.99       48.77       53.13       36.95       33.17       24.33       28.17       24.61       26.54       24.03       18.12       17.39       17.04       16.87       23.40       21.93       56.58       53.66       48.35       52.33       59.26       51.81       46.64       53.49       51.67       54.46',\n",
       " '         7.5         5.0       0.445       0.540     125.762       2.294       56.15       49.98       53.65       30.95       24.23       49.90       47.90       38.22       24.63       20.11       17.16       56.00       50.30       54.05       37.50       34.06       24.89       28.88       25.11       27.33       24.78       18.30       17.58       17.26       17.13       23.91       22.38       58.30       55.68       49.88       53.23       60.47       53.83       48.17       54.80       52.53       55.87',\n",
       " '         7.6         5.0       0.429       0.438     121.615       2.326       58.26       51.50       54.51       31.76       24.76       50.85       48.86       39.41       25.19       20.30       17.40       58.01       51.82       54.93       38.04       34.94       25.45       29.58       25.60       28.11       25.52       18.47       17.77       17.49       17.38       24.40       22.81       59.99       57.68       51.40       54.10       61.65       55.84       49.70       56.08       53.35       57.26',\n",
       " '         7.7         5.0       0.413       0.356     117.639       2.359       60.35       53.01       55.34       32.57       25.29       51.79       49.82       40.59       25.74       20.50       17.63       59.98       53.33       55.78       38.58       35.81       26.00       30.27       26.09       28.88       26.26       18.65       17.95       17.71       17.64       24.89       23.24       61.65       59.68       52.90       54.93       62.82       57.85       51.20       57.32       54.15       58.65',\n",
       " '         7.8         5.0       0.398       0.288     113.595       2.390       62.53       54.58       56.18       33.40       25.84       52.78       50.83       41.82       26.31       20.69       17.87       62.04       54.90       56.64       39.13       36.71       26.56       30.99       26.59       29.67       27.02       18.82       18.14       17.93       17.90       25.40       23.68       63.38       61.77       54.47       55.79       64.04       59.94       52.78       58.60       54.96       60.09',\n",
       " '         7.9         5.0       0.385       0.229     109.197       2.421       64.96       56.32       57.09       34.31       26.44       53.88       51.95       43.17       26.92       20.89       18.12       64.32       56.64       57.58       39.72       37.70       27.18       31.78       27.13       30.54       27.85       19.00       18.34       18.17       18.18       25.95       24.16       65.29       64.09       56.21       56.72       65.38       62.27       54.52       59.99       55.85       61.69',\n",
       " '         8.0         5.0       0.372       0.178     104.384       2.451       67.64       58.25       58.08       35.31       27.09       55.10       53.20       44.66       27.60       21.11       18.39       66.83       58.57       58.61       40.37       38.79       27.86       32.64       27.73       31.49       28.77       19.19       18.54       18.42       18.47       26.54       24.67       67.41       66.66       58.14       57.74       66.87       64.85       56.45       61.52       56.83       63.47']"
      ]
     },
     "execution_count": 53,
     "metadata": {},
     "output_type": "execute_result"
    }
   ],
   "source": [
    "bex_dir = \"/Users/connorvancil/Desktop/AstroResearch/Data/models/cooling_curves/\"\n",
    "any_file = glob.glob(bex_dir+\"*.dat\")[19]\n",
    "with open(any_file, 'r') as f:\n",
    "        lines = f.read().splitlines()\n",
    "        header = lines[0:3]#.replace('#','').lower().split()\n",
    "        data = lines[3:]\n",
    "        []\n",
    "                \n",
    "header\n",
    "data"
   ]
  },
  {
   "cell_type": "code",
   "execution_count": 42,
   "metadata": {},
   "outputs": [
    {
     "data": {
      "text/plain": [
       "' #1:log(Age/yr), 2:Mass/Mearth, 3:Radius/Rjupiter, 4:Luminosity/Ljupiter, 5:Teff/K, 6:logg/cgs, 7:NACOJ, 8:NACOH, 9:NACOKs, 10:NACOLp, 11:NACOMp, 12:CousinsR, 13:CousinsI, 14:WISE1, 15:WISE2, 16:WISE3, 17:WISE4, 18:F115W, 19:F150W, 20:F200W, 21:F277W, 22:F356W, 23:F444W, 24:F560W, 25:F770W, 26:F1000W, 27:F1280W, 28:F1500W, 29:F1800W, 30:F2100W, 31:F2550W, 32:VISIRB87, 33:VISIRSiC, 34:SPHEREY, 35:SPHEREJ, 36:SPHEREH, 37:SPHEREKs, 38:SPHEREJ2, 39:SPHEREJ3, 40:SPHEREH2, 41:SPHEREH3, 42:SPHEREK1, 43:SPHEREK2\\n'"
      ]
     },
     "execution_count": 42,
     "metadata": {},
     "output_type": "execute_result"
    }
   ],
   "source": [
    "header[2]"
   ]
  },
  {
   "cell_type": "code",
   "execution_count": 48,
   "metadata": {},
   "outputs": [
    {
     "data": {
      "text/plain": [
       "['         6.0         5.0       0.717       5.649     178.326       1.881       39.91       37.79       42.48       24.10       19.45       42.73       40.37       28.56       19.75       17.75       14.81       40.16       38.13       42.81       32.30       26.39       20.01       22.62       20.58       20.40       18.58       16.23       15.52       14.98       14.67       19.33       18.25       43.32       40.02       37.70       42.26       48.86       38.15       36.00       42.31       41.80       43.54\\n',\n",
       " '         6.1         5.0       0.703       5.155     175.915       1.897       40.24       38.07       42.98       24.27       19.58       42.88       40.55       28.78       19.88       17.85       14.89       40.49       38.40       43.31       32.47       26.60       20.15       22.80       20.71       20.59       18.73       16.32       15.60       15.06       14.75       19.46       18.38       43.74       40.36       37.98       42.74       49.26       38.49       36.27       42.70       42.29       43.91\\n',\n",
       " '         6.2         5.0       0.689       4.651     173.253       1.915       40.64       38.40       43.54       24.46       19.73       43.07       40.75       29.04       20.03       17.96       14.97       40.90       38.73       43.86       32.66       26.83       20.30       23.00       20.86       20.81       18.91       16.41       15.69       15.14       14.83       19.62       18.52       44.23       40.76       38.30       43.29       49.71       38.89       36.60       43.14       42.84       44.34\\n',\n",
       " '         6.3         5.0       0.673       4.150     170.353       1.935       41.11       38.78       44.15       24.70       19.91       43.28       40.99       29.34       20.21       18.08       15.07       41.37       39.11       44.48       32.88       27.10       20.47       23.22       21.03       21.06       19.11       16.52       15.78       15.24       14.93       19.79       18.69       44.79       41.23       38.68       43.89       50.21       39.36       36.98       43.65       43.43       44.82\\n',\n",
       " '         6.4         5.0       0.656       3.662     167.247       1.957       41.66       39.22       44.82       24.96       20.11       43.53       41.26       29.69       20.41       18.22       15.18       41.93       39.55       45.14       33.12       27.41       20.67       23.49       21.23       21.35       19.35       16.63       15.89       15.35       15.04       19.99       18.87       45.43       41.79       39.13       44.53       50.77       39.91       37.42       44.23       44.08       45.36\\n',\n",
       " '         6.5         5.0       0.638       3.200     163.971       1.982       42.32       39.74       45.53       25.27       20.33       43.82       41.58       30.10       20.64       18.36       15.30       42.58       40.07       45.85       33.38       27.77       20.90       23.78       21.44       21.67       19.62       16.76       16.01       15.47       15.16       20.21       19.08       46.14       42.43       39.64       45.22       51.39       40.56       37.94       44.86       44.76       45.95\\n',\n",
       " '         6.6         5.0       0.619       2.771     160.572       2.008       43.07       40.32       46.26       25.61       20.58       44.15       41.93       30.57       20.89       18.51       15.43       43.33       40.65       46.58       33.67       28.16       21.15       24.11       21.69       22.04       19.93       16.88       16.13       15.60       15.29       20.46       19.30       46.93       43.17       40.23       45.94       52.05       41.29       38.52       45.56       45.47       46.60\\n',\n",
       " '         6.7         5.0       0.599       2.380     157.085       2.036       43.93       40.99       47.02       26.00       20.86       44.53       42.33       31.10       21.17       18.66       15.57       44.19       41.31       47.34       33.98       28.60       21.43       24.47       21.95       22.44       20.27       17.02       16.26       15.74       15.44       20.73       19.55       47.79       44.01       40.89       46.68       52.76       42.13       39.18       46.32       46.20       47.31\\n',\n",
       " '         6.8         5.0       0.580       2.030     153.525       2.065       44.91       41.73       47.80       26.43       21.16       44.95       42.78       31.70       21.48       18.82       15.73       45.15       42.06       48.12       34.31       29.08       21.74       24.87       22.24       22.88       20.66       17.16       16.40       15.89       15.60       21.02       19.82       48.74       44.95       41.64       47.44       53.51       43.08       39.93       47.14       46.94       48.09\\n',\n",
       " '         6.9         5.0       0.559       1.719     149.896       2.096       46.02       42.57       48.58       26.90       21.50       45.44       43.29       32.36       21.83       18.99       15.90       46.25       42.90       48.91       34.68       29.62       22.08       25.30       22.56       23.36       21.09       17.31       16.55       16.06       15.77       21.34       20.11       49.77       46.03       42.47       48.21       54.31       44.15       40.76       48.01       47.69       48.93\\n',\n",
       " '         7.0         5.0       0.539       1.445     146.204       2.128       47.28       43.51       49.38       27.43       21.86       45.98       43.86       33.11       22.20       19.16       16.08       47.47       43.83       49.71       35.06       30.20       22.46       25.78       22.91       23.89       21.57       17.46       16.70       16.23       15.96       21.69       20.42       50.89       47.23       43.41       48.99       55.17       45.36       41.70       48.95       48.45       49.84\\n',\n",
       " '         7.1         5.0       0.519       1.207     142.422       2.160       48.69       44.55       50.19       28.01       22.26       46.60       44.50       33.94       22.61       19.34       16.27       48.85       44.87       50.52       35.48       30.85       22.86       26.30       23.28       24.47       22.10       17.62       16.86       16.41       16.16       22.07       20.76       52.12       48.58       44.45       49.78       56.07       46.71       42.74       49.96       49.22       50.84\\n',\n",
       " '         7.2         5.0       0.500       1.000     138.506       2.194       50.28       45.71       51.01       28.65       22.70       47.29       45.22       34.86       23.05       19.52       16.47       50.38       46.04       51.36       35.93       31.55       23.31       26.87       23.69       25.10       22.68       17.78       17.03       16.61       16.38       22.48       21.12       53.47       50.09       45.61       50.60       57.05       48.22       43.90       51.05       50.00       51.93\\n',\n",
       " '         7.3         5.0       0.481       0.821     134.394       2.227       52.06       47.01       51.87       29.36       23.17       48.08       46.03       35.89       23.54       19.71       16.69       52.09       47.34       52.23       36.42       32.32       23.80       27.49       24.13       25.79       23.33       17.95       17.21       16.82       16.62       22.92       21.51       54.96       51.78       46.91       51.45       58.12       49.93       45.20       52.23       50.82       53.14\\n',\n",
       " '         7.4         5.0       0.463       0.668     130.114       2.260       54.03       48.45       52.76       30.13       23.68       48.96       46.93       37.02       24.07       19.91       16.92       53.99       48.77       53.13       36.95       33.17       24.33       28.17       24.61       26.54       24.03       18.12       17.39       17.04       16.87       23.40       21.93       56.58       53.66       48.35       52.33       59.26       51.81       46.64       53.49       51.67       54.46\\n',\n",
       " '         7.5         5.0       0.445       0.540     125.762       2.294       56.15       49.98       53.65       30.95       24.23       49.90       47.90       38.22       24.63       20.11       17.16       56.00       50.30       54.05       37.50       34.06       24.89       28.88       25.11       27.33       24.78       18.30       17.58       17.26       17.13       23.91       22.38       58.30       55.68       49.88       53.23       60.47       53.83       48.17       54.80       52.53       55.87\\n',\n",
       " '         7.6         5.0       0.429       0.438     121.615       2.326       58.26       51.50       54.51       31.76       24.76       50.85       48.86       39.41       25.19       20.30       17.40       58.01       51.82       54.93       38.04       34.94       25.45       29.58       25.60       28.11       25.52       18.47       17.77       17.49       17.38       24.40       22.81       59.99       57.68       51.40       54.10       61.65       55.84       49.70       56.08       53.35       57.26\\n',\n",
       " '         7.7         5.0       0.413       0.356     117.639       2.359       60.35       53.01       55.34       32.57       25.29       51.79       49.82       40.59       25.74       20.50       17.63       59.98       53.33       55.78       38.58       35.81       26.00       30.27       26.09       28.88       26.26       18.65       17.95       17.71       17.64       24.89       23.24       61.65       59.68       52.90       54.93       62.82       57.85       51.20       57.32       54.15       58.65\\n',\n",
       " '         7.8         5.0       0.398       0.288     113.595       2.390       62.53       54.58       56.18       33.40       25.84       52.78       50.83       41.82       26.31       20.69       17.87       62.04       54.90       56.64       39.13       36.71       26.56       30.99       26.59       29.67       27.02       18.82       18.14       17.93       17.90       25.40       23.68       63.38       61.77       54.47       55.79       64.04       59.94       52.78       58.60       54.96       60.09\\n',\n",
       " '         7.9         5.0       0.385       0.229     109.197       2.421       64.96       56.32       57.09       34.31       26.44       53.88       51.95       43.17       26.92       20.89       18.12       64.32       56.64       57.58       39.72       37.70       27.18       31.78       27.13       30.54       27.85       19.00       18.34       18.17       18.18       25.95       24.16       65.29       64.09       56.21       56.72       65.38       62.27       54.52       59.99       55.85       61.69\\n',\n",
       " '         8.0         5.0       0.372       0.178     104.384       2.451       67.64       58.25       58.08       35.31       27.09       55.10       53.20       44.66       27.60       21.11       18.39       66.83       58.57       58.61       40.37       38.79       27.86       32.64       27.73       31.49       28.77       19.19       18.54       18.42       18.47       26.54       24.67       67.41       66.66       58.14       57.74       66.87       64.85       56.45       61.52       56.83       63.47\\n']"
      ]
     },
     "execution_count": 48,
     "metadata": {},
     "output_type": "execute_result"
    }
   ],
   "source": [
    "data"
   ]
  },
  {
   "cell_type": "code",
   "execution_count": null,
   "metadata": {},
   "outputs": [],
   "source": []
  }
 ],
 "metadata": {
  "kernelspec": {
   "display_name": "Python 3.7.13 ('base')",
   "language": "python",
   "name": "python3"
  },
  "language_info": {
   "codemirror_mode": {
    "name": "ipython",
    "version": 3
   },
   "file_extension": ".py",
   "mimetype": "text/x-python",
   "name": "python",
   "nbconvert_exporter": "python",
   "pygments_lexer": "ipython3",
   "version": "3.7.13"
  },
  "orig_nbformat": 4,
  "vscode": {
   "interpreter": {
    "hash": "0e7c2ea555855c9f57c4db6d48e17646d00561a8825fd834da410fe010272520"
   }
  }
 },
 "nbformat": 4,
 "nbformat_minor": 2
}
