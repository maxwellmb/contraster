{
 "cells": [
  {
   "cell_type": "code",
   "execution_count": null,
   "metadata": {},
   "outputs": [],
   "source": [
    "import pandas as pd\n",
    "from astroquery.simbad import Simbad\n",
    "from jwst import *\n",
    "\n",
    "#assumes your target is in Tim Pearce's CSV File\n",
    "target_name = 'HD61005'\n",
    "\n",
    "df = pd.read_csv('../allDiscAnalysisResults.csv')\n",
    "data_arr = df[['Target','Distance_pc','Age_Myr','PearceMPlt_MJup', 'PearcePltApocentre_arcsec']].to_numpy()\n",
    "target_dict={}\n",
    "for row in data_arr:\n",
    "    target_dict[row[0]]=row[1:]\n",
    "\n",
    "distance,age,planet_mass,separation = target_dict[target_name]"
   ]
  },
  {
   "cell_type": "markdown",
   "metadata": {},
   "source": [
    "Query Simbad for Spectral type and K-mag"
   ]
  },
  {
   "cell_type": "code",
   "execution_count": null,
   "metadata": {},
   "outputs": [],
   "source": [
    "Simbad.add_votable_fields('flux(K)','sp')\n",
    "result_table = Simbad.query_object(target_name)\n",
    "kmag,spt = result_table['FLUX_K'][0], result_table['SP_TYPE'][0]"
   ]
  },
  {
   "cell_type": "markdown",
   "metadata": {},
   "source": [
    "Query all targets to and force spectral types"
   ]
  },
  {
   "cell_type": "code",
   "execution_count": null,
   "metadata": {},
   "outputs": [],
   "source": [
    "targets=df['Target'].to_numpy()\n",
    "queried_params=[];spts=[]\n",
    "for target in targets:\n",
    "    result_table = Simbad.query_object(target)\n",
    "    spts.append(result_table['SP_TYPE'][0])\n",
    "    queried_params.append([target,result_table['FLUX_K'][0]])"
   ]
  },
  {
   "cell_type": "code",
   "execution_count": null,
   "metadata": {},
   "outputs": [],
   "source": [
    "def match_spt(spt,lookuptable=lookuptable):\n",
    "    available_keys=list(lookuptable.keys())\n",
    "    matches=[];diffs=[]\n",
    "    for key in available_keys:\n",
    "        if spt[0]==key[0]:\n",
    "            matches.append(key)\n",
    "    for match in matches:\n",
    "        diffs.append(np.abs(int(spt[1])-int(match[1])))\n",
    "    forced_spt= spt[0] + str(matches[np.where(diffs==np.min(diffs))[0][0]])[1]+'V'\n",
    "    return forced_spt\n",
    "\n",
    "spts[40]='A5V'\n",
    "spts[103]='A1V'\n",
    "for i,spt in enumerate(spts):\n",
    "    if spt not in lookuptable: \n",
    "        spts[i] = match_spt(spt)\n",
    "[params.append(spts[i]) for i, params in  enumerate(queried_params)]\n",
    "\n",
    "#adding another dictionary to hold these queried paramters in a more useful format\n",
    "simbad_vals={}\n",
    "for star in queried_params:\n",
    "    simbad_vals[star[0]]=[star[1],star[2]]\n"
   ]
  },
  {
   "cell_type": "code",
   "execution_count": null,
   "metadata": {},
   "outputs": [],
   "source": [
    "instrument='nircam'\n",
    "instrument_mask = 'mask335r'\n",
    "jwst_filt = 'f444w'\n",
    "\n",
    "kmag,spt = simbad_vals[target_name]\n",
    "\n",
    "tst = get_jwst_mag(spt,kmag,instrument,jwst_filt,filter_dir=\"./\",jwst_mask=instrument_mask,\n",
    "                norm_filter='bessel_k')\n",
    "print(tst)"
   ]
  },
  {
   "cell_type": "code",
   "execution_count": null,
   "metadata": {},
   "outputs": [],
   "source": []
  }
 ],
 "metadata": {
  "kernelspec": {
   "display_name": "Python 3.8.8 ('base')",
   "language": "python",
   "name": "python3"
  },
  "language_info": {
   "codemirror_mode": {
    "name": "ipython",
    "version": 3
   },
   "file_extension": ".py",
   "mimetype": "text/x-python",
   "name": "python",
   "nbconvert_exporter": "python",
   "pygments_lexer": "ipython3",
   "version": "3.8.8"
  },
  "orig_nbformat": 4,
  "vscode": {
   "interpreter": {
    "hash": "40d3a090f54c6569ab1632332b64b2c03c39dcf918b08424e98f38b5ae0af88f"
   }
  }
 },
 "nbformat": 4,
 "nbformat_minor": 2
}
