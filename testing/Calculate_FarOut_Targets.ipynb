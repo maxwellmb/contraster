{
 "cells": [
  {
   "cell_type": "code",
   "execution_count": 1,
   "metadata": {},
   "outputs": [
    {
     "name": "stderr",
     "output_type": "stream",
     "text": [
      "/opt/anaconda3/lib/python3.8/site-packages/scipy/__init__.py:138: UserWarning: A NumPy version >=1.16.5 and <1.23.0 is required for this version of SciPy (detected version 1.23.5)\n",
      "  warnings.warn(f\"A NumPy version >={np_minversion} and <{np_maxversion} is required for this version of \"\n"
     ]
    }
   ],
   "source": [
    "import pandas as pd\n",
    "from astroquery.simbad import Simbad\n",
    "from jwst import *\n",
    "\n",
    "%load_ext autoreload\n",
    "%autoreload 2\n",
    "Simbad.add_votable_fields('flux(K)','sp')\n",
    "\n",
    "max_bex_age = 1000 #This isn't the actually maximum age, but the maximum age above which there isn't much data. "
   ]
  },
  {
   "cell_type": "markdown",
   "metadata": {},
   "source": [
    "Directories to change depending on what computer you're on"
   ]
  },
  {
   "cell_type": "code",
   "execution_count": 2,
   "metadata": {},
   "outputs": [],
   "source": [
    "figure_base_directory = \"./FarOut_Figures\" #Change this to reflect the project we're working on\n",
    "bex_file = '../models/BEX_evol_mags_-2_MH_0.00AC.dat'"
   ]
  },
  {
   "cell_type": "code",
   "execution_count": 3,
   "metadata": {},
   "outputs": [],
   "source": [
    "computer = 'connor'\n",
    "connor = True\n",
    "maxmb = False\n",
    "\n",
    "if computer == 'connor':\n",
    "    import os\n",
    "    base_model_dir=\"/Users/connorvancil/Desktop/AstroResearch/Data/models/evolutionary_tracks/ATMO_CEQ/\"\n",
    "    bex_file = '../models/BEX_evol_mags_-2_MH_0.00AC.dat'\n",
    "    os.environ['PYSYN_CDBS']='/Users/connorvancil/Desktop/AstroResearch/Data/trds/'\n",
    "elif computer == 'max_laptop': \n",
    "    base_model_dir=\"/Users/maxwellmb/Data/models/ATMO_2020_models/evolutionary_tracks/ATMO_CEQ/\"\n",
    "    bex_file = '../models/BEX_evol_mags_-2_MH_0.00AC.dat'\n",
    "elif computer == 'max_desktop':\n",
    "    base_model_dir = \"TBD\"\n",
    "    bex_file = None"
   ]
  },
  {
   "cell_type": "markdown",
   "metadata": {},
   "source": [
    "Read in the Data Table"
   ]
  },
  {
   "cell_type": "code",
   "execution_count": 43,
   "metadata": {},
   "outputs": [],
   "source": [
    "df = pd.read_csv('../large_orbit_targetlist.csv')\n",
    "\n",
    "data_arr = df[['hostname','sy_dist','st_age','pl_bmassj','pl_orbsmax']].to_numpy()\n",
    "\n",
    "target_dict={}\n",
    "for row in data_arr:\n",
    "    row[2]*=1000 #convert sy age from Gyr to Myr\n",
    "    target_dict[row[0]]=row[1:]\n"
   ]
  },
  {
   "cell_type": "markdown",
   "metadata": {},
   "source": [
    "Query all targets"
   ]
  },
  {
   "cell_type": "code",
   "execution_count": 70,
   "metadata": {},
   "outputs": [],
   "source": [
    "targets=df['hostname'].to_numpy()\n",
    "\n",
    "queried_params=[];spts=[]\n",
    "for target in targets:\n",
    "    result_table = Simbad.query_object(target)\n",
    "    spts.append(result_table['SP_TYPE'][0])\n",
    "    queried_params.append([target,result_table['FLUX_K'][0]])"
   ]
  },
  {
   "cell_type": "markdown",
   "metadata": {},
   "source": [
    "Force Spectral Types to those in ck04models"
   ]
  },
  {
   "cell_type": "code",
   "execution_count": 90,
   "metadata": {},
   "outputs": [],
   "source": [
    "spts[36] = 'F5V';spts[50] = 'K7V';spts[61] = 'M0V';spts[62] = 'M0V';spts[63] = 'M0V';spts[64] = 'A4V';spts[65] = 'K2III';spts[70] = 'K7';spts[78] = 'K7';spts[80] = 'F6V';spts[99] = 'M7';spts[114] = 'F0';\n",
    "spts[122] = 'K1';spts[126] = 'K0';spts[129]='G0V';spts[95] = 'M3'; spts[102] = 'A0V'\n",
    "from models import *\n",
    "for i,spt in enumerate(spts):\n",
    "    if spt not in lookuptable: \n",
    "        spts[i] = match_spt(spt)\n",
    "[params.append(spts[i]) for i, params in  enumerate(queried_params)]\n",
    "\n",
    "#adding another dictionary to hold these queried paramters in a more useful format\n",
    "simbad_vals={}\n",
    "for star in queried_params:\n",
    "    simbad_vals[star[0]]=[star[1],star[2]]"
   ]
  },
  {
   "cell_type": "markdown",
   "metadata": {},
   "source": [
    "Set up some configuration info"
   ]
  },
  {
   "cell_type": "code",
   "execution_count": 91,
   "metadata": {},
   "outputs": [],
   "source": [
    "configs = {'f250m':  {'instrument':'nircam','instrument_mask':'mask335r'},\n",
    "            'f300m': {'instrument':'nircam','instrument_mask':'mask335r'}, \n",
    "            'f356w': {'instrument':'nircam','instrument_mask':'mask335r'},\n",
    "            'f410m': {'instrument':'nircam','instrument_mask':'mask335r'},\n",
    "            'f444w': {'instrument':'nircam','instrument_mask':'mask335r'},\n",
    "            'f1140c':{'instrument':'miri',  'instrument_mask':None},\n",
    "            'f1550c':{'instrument':'miri',  'instrument_mask':None},\n",
    "            }\n",
    "filter_list = list(configs.keys())\n",
    "filter_list = ['f444w'] #For now only doing this filter because the bex filters only have this filter."
   ]
  },
  {
   "cell_type": "code",
   "execution_count": 92,
   "metadata": {},
   "outputs": [
    {
     "name": "stdout",
     "output_type": "stream",
     "text": [
      "Target 0: eps Eri, 600.0 Myr, 3 pc, kmag=1.7\n"
     ]
    },
    {
     "name": "stderr",
     "output_type": "stream",
     "text": [
      "/Users/connorvancil/Desktop/AstroResearch/contraster/testing/models.py:89: VisibleDeprecationWarning: Creating an ndarray from ragged nested sequences (which is a list-or-tuple of lists-or-tuples-or ndarrays with different lengths or shapes) is deprecated. If you meant to do this, you must specify 'dtype=object' when creating the ndarray.\n",
      "  return np.array(masses)[sorted_by_mass], np.array(age_list)[sorted_by_mass], np.array(mag_list)[sorted_by_mass]\n",
      "/Users/connorvancil/Desktop/AstroResearch/contraster/testing/models.py:319: RuntimeWarning: Mean of empty slice\n",
      "  masses = np.nanmean(np.vstack([atmo_mass_interp,bex_mass_interp]),axis=0)\n"
     ]
    },
    {
     "name": "stdout",
     "output_type": "stream",
     "text": [
      "Saving to ./FarOut_Figures/Non-Detected/eps Eri.png\n",
      "Target 1: GJ 674, 550.0 Myr, 5 pc, kmag=4.9\n",
      "\tCompanion separation for GJ 674 is < 0.4 arcseconds, skipping\n",
      "Target 2: GJ 514, 800.0 Myr, 8 pc, kmag=5.0\n",
      "\tCompanion separation for GJ 514 is < 0.4 arcseconds, skipping\n",
      "Target 3: AU Mic, 22.0 Myr, 10 pc, kmag=4.5\n",
      "\tCompanion separation for AU Mic is < 0.4 arcseconds, skipping\n",
      "Target 4: AU Mic, 22.0 Myr, 10 pc, kmag=4.5\n",
      "\tCompanion separation for AU Mic is < 0.4 arcseconds, skipping\n",
      "Target 5: L 98-59, 800.0 Myr, 11 pc, kmag=7.1\n",
      "\tCompanion separation for L 98-59 is < 0.4 arcseconds, skipping\n",
      "Target 6: L 98-59, 800.0 Myr, 11 pc, kmag=7.1\n",
      "\tCompanion separation for L 98-59 is < 0.4 arcseconds, skipping\n",
      "Target 7: L 98-59, 800.0 Myr, 11 pc, kmag=7.1\n",
      "\tCompanion separation for L 98-59 is < 0.4 arcseconds, skipping\n",
      "Target 8: L 98-59, 800.0 Myr, 11 pc, kmag=7.1\n",
      "\tCompanion separation for L 98-59 is < 0.4 arcseconds, skipping\n",
      "Target 9: HD 147513, 300.0 Myr, 13 pc, kmag=3.9\n",
      "\tCompanion separation for HD 147513 is < 0.4 arcseconds, skipping\n",
      "Target 10: HD 128311, 750.0 Myr, 16 pc, kmag=5.1\n",
      "\tCompanion separation for HD 128311 is < 0.4 arcseconds, skipping\n",
      "Target 11: HD 128311, 750.0 Myr, 16 pc, kmag=5.1\n",
      "\tCompanion separation for HD 128311 is < 0.4 arcseconds, skipping\n",
      "Target 12: HD 128311, 750.0 Myr, 16 pc, kmag=5.1\n",
      "\tCompanion separation for HD 128311 is < 0.4 arcseconds, skipping\n",
      "Target 13: HD 128311, 750.0 Myr, 16 pc, kmag=5.1\n",
      "\tCompanion separation for HD 128311 is < 0.4 arcseconds, skipping\n",
      "Target 14: GJ 504, 160.0 Myr, 18 pc, kmag=4.0\n"
     ]
    },
    {
     "name": "stderr",
     "output_type": "stream",
     "text": [
      "/Users/connorvancil/Desktop/AstroResearch/contraster/testing/models.py:89: VisibleDeprecationWarning: Creating an ndarray from ragged nested sequences (which is a list-or-tuple of lists-or-tuples-or ndarrays with different lengths or shapes) is deprecated. If you meant to do this, you must specify 'dtype=object' when creating the ndarray.\n",
      "  return np.array(masses)[sorted_by_mass], np.array(age_list)[sorted_by_mass], np.array(mag_list)[sorted_by_mass]\n",
      "/Users/connorvancil/Desktop/AstroResearch/contraster/testing/models.py:319: RuntimeWarning: Mean of empty slice\n",
      "  masses = np.nanmean(np.vstack([atmo_mass_interp,bex_mass_interp]),axis=0)\n"
     ]
    },
    {
     "name": "stdout",
     "output_type": "stream",
     "text": [
      "\tCOMPANION DETECTED!\n",
      "Saving to ./FarOut_Figures/Detected/GJ 504.png\n",
      "Target 15: HN Peg, 300.0 Myr, 18 pc, kmag=4.6\n"
     ]
    },
    {
     "name": "stderr",
     "output_type": "stream",
     "text": [
      "/Users/connorvancil/Desktop/AstroResearch/contraster/testing/models.py:89: VisibleDeprecationWarning: Creating an ndarray from ragged nested sequences (which is a list-or-tuple of lists-or-tuples-or ndarrays with different lengths or shapes) is deprecated. If you meant to do this, you must specify 'dtype=object' when creating the ndarray.\n",
      "  return np.array(masses)[sorted_by_mass], np.array(age_list)[sorted_by_mass], np.array(mag_list)[sorted_by_mass]\n",
      "/Users/connorvancil/Desktop/AstroResearch/contraster/testing/models.py:319: RuntimeWarning: Mean of empty slice\n",
      "  masses = np.nanmean(np.vstack([atmo_mass_interp,bex_mass_interp]),axis=0)\n"
     ]
    },
    {
     "name": "stdout",
     "output_type": "stream",
     "text": [
      "\tCOMPANION DETECTED!\n",
      "Saving to ./FarOut_Figures/Detected/HN Peg.png\n",
      "Target 16: bet Pic, 23.0 Myr, 20 pc, kmag=3.5\n",
      "\tCompanion separation for bet Pic is < 0.4 arcseconds, skipping\n",
      "Target 17: bet Pic, 23.0 Myr, 20 pc, kmag=3.5\n",
      "\tCompanion separation for bet Pic is < 0.4 arcseconds, skipping\n",
      "Target 18: HD 70642, 919.0 Myr, 29 pc, kmag=5.6\n",
      "\tCompanion separation for HD 70642 is < 0.4 arcseconds, skipping\n",
      "Target 19: 51 Eri, 20.0 Myr, 30 pc, kmag=4.5\n"
     ]
    },
    {
     "name": "stderr",
     "output_type": "stream",
     "text": [
      "/Users/connorvancil/Desktop/AstroResearch/contraster/testing/models.py:89: VisibleDeprecationWarning: Creating an ndarray from ragged nested sequences (which is a list-or-tuple of lists-or-tuples-or ndarrays with different lengths or shapes) is deprecated. If you meant to do this, you must specify 'dtype=object' when creating the ndarray.\n",
      "  return np.array(masses)[sorted_by_mass], np.array(age_list)[sorted_by_mass], np.array(mag_list)[sorted_by_mass]\n"
     ]
    },
    {
     "name": "stdout",
     "output_type": "stream",
     "text": [
      "Saving to ./FarOut_Figures/Non-Detected/51 Eri.png\n",
      "Target 20: HD 73583, 480.0 Myr, 32 pc, kmag=6.9\n",
      "\tCompanion separation for HD 73583 is < 0.4 arcseconds, skipping\n",
      "Target 21: HD 73583, 480.0 Myr, 32 pc, kmag=6.9\n",
      "\tCompanion separation for HD 73583 is < 0.4 arcseconds, skipping\n",
      "Target 22: HD 130322, 350.0 Myr, 32 pc, kmag=6.2\n",
      "\tCompanion separation for HD 130322 is < 0.4 arcseconds, skipping\n",
      "Target 23: 2MASS J01225093-2439505, 120.0 Myr, 34 pc, kmag=9.2\n"
     ]
    },
    {
     "name": "stderr",
     "output_type": "stream",
     "text": [
      "/Users/connorvancil/Desktop/AstroResearch/contraster/testing/models.py:89: VisibleDeprecationWarning: Creating an ndarray from ragged nested sequences (which is a list-or-tuple of lists-or-tuples-or ndarrays with different lengths or shapes) is deprecated. If you meant to do this, you must specify 'dtype=object' when creating the ndarray.\n",
      "  return np.array(masses)[sorted_by_mass], np.array(age_list)[sorted_by_mass], np.array(mag_list)[sorted_by_mass]\n",
      "/Users/connorvancil/Desktop/AstroResearch/contraster/testing/models.py:319: RuntimeWarning: Mean of empty slice\n",
      "  masses = np.nanmean(np.vstack([atmo_mass_interp,bex_mass_interp]),axis=0)\n"
     ]
    },
    {
     "name": "stdout",
     "output_type": "stream",
     "text": [
      "\tCOMPANION DETECTED!\n",
      "Saving to ./FarOut_Figures/Detected/2MASS J01225093-2439505.png\n",
      "Target 24: HR 2562, 600.0 Myr, 34 pc, kmag=5.0\n"
     ]
    },
    {
     "name": "stderr",
     "output_type": "stream",
     "text": [
      "/Users/connorvancil/Desktop/AstroResearch/contraster/testing/models.py:89: VisibleDeprecationWarning: Creating an ndarray from ragged nested sequences (which is a list-or-tuple of lists-or-tuples-or ndarrays with different lengths or shapes) is deprecated. If you meant to do this, you must specify 'dtype=object' when creating the ndarray.\n",
      "  return np.array(masses)[sorted_by_mass], np.array(age_list)[sorted_by_mass], np.array(mag_list)[sorted_by_mass]\n",
      "/Users/connorvancil/Desktop/AstroResearch/contraster/testing/models.py:319: RuntimeWarning: Mean of empty slice\n",
      "  masses = np.nanmean(np.vstack([atmo_mass_interp,bex_mass_interp]),axis=0)\n"
     ]
    },
    {
     "name": "stdout",
     "output_type": "stream",
     "text": [
      "\tCOMPANION DETECTED!\n",
      "Saving to ./FarOut_Figures/Detected/HR 2562.png\n",
      "Target 25: HD 81040, 730.0 Myr, 34 pc, kmag=6.2\n",
      "\tCompanion separation for HD 81040 is < 0.4 arcseconds, skipping\n",
      "Target 26: HD 113337, 150.0 Myr, 36 pc, kmag=5.0\n",
      "\tCompanion separation for HD 113337 is < 0.4 arcseconds, skipping\n",
      "Target 27: HD 18599, 300.0 Myr, 39 pc, kmag=6.9\n",
      "\tCompanion separation for HD 18599 is < 0.4 arcseconds, skipping\n",
      "Target 28: HD 18599, 300.0 Myr, 39 pc, kmag=6.9\n",
      "\tCompanion separation for HD 18599 is < 0.4 arcseconds, skipping\n",
      "Target 29: HD 203030, 220.0 Myr, 39 pc, kmag=6.7\n"
     ]
    },
    {
     "name": "stderr",
     "output_type": "stream",
     "text": [
      "/Users/connorvancil/Desktop/AstroResearch/contraster/testing/models.py:89: VisibleDeprecationWarning: Creating an ndarray from ragged nested sequences (which is a list-or-tuple of lists-or-tuples-or ndarrays with different lengths or shapes) is deprecated. If you meant to do this, you must specify 'dtype=object' when creating the ndarray.\n",
      "  return np.array(masses)[sorted_by_mass], np.array(age_list)[sorted_by_mass], np.array(mag_list)[sorted_by_mass]\n",
      "/Users/connorvancil/Desktop/AstroResearch/contraster/testing/models.py:319: RuntimeWarning: Mean of empty slice\n",
      "  masses = np.nanmean(np.vstack([atmo_mass_interp,bex_mass_interp]),axis=0)\n"
     ]
    },
    {
     "name": "stdout",
     "output_type": "stream",
     "text": [
      "\tCOMPANION DETECTED!\n",
      "Saving to ./FarOut_Figures/Detected/HD 203030.png\n",
      "Target 30: HD 206893, 250.0 Myr, 41 pc, kmag=5.6\n",
      "\tCompanion separation for HD 206893 is < 0.4 arcseconds, skipping\n",
      "Target 31: HR 8799, 30.0 Myr, 41 pc, kmag=5.2\n",
      "\tCompanion separation for HR 8799 is < 0.4 arcseconds, skipping\n",
      "Target 32: HR 8799, 30.0 Myr, 41 pc, kmag=5.2\n",
      "\tCompanion separation for HR 8799 is < 0.4 arcseconds, skipping\n",
      "Target 33: HR 8799, 30.0 Myr, 41 pc, kmag=5.2\n",
      "\tCompanion separation for HR 8799 is < 0.4 arcseconds, skipping\n",
      "Target 34: HR 8799, 30.0 Myr, 41 pc, kmag=5.2\n",
      "\tCompanion separation for HR 8799 is < 0.4 arcseconds, skipping\n",
      "Target 35: TOI-1807, 300.0 Myr, 43 pc, kmag=7.6\n",
      "\tCompanion separation for TOI-1807 is < 0.4 arcseconds, skipping\n",
      "Target 36: HIP 21152, 750.0 Myr, 43 pc, kmag=5.3\n"
     ]
    },
    {
     "name": "stderr",
     "output_type": "stream",
     "text": [
      "/Users/connorvancil/Desktop/AstroResearch/contraster/testing/models.py:89: VisibleDeprecationWarning: Creating an ndarray from ragged nested sequences (which is a list-or-tuple of lists-or-tuples-or ndarrays with different lengths or shapes) is deprecated. If you meant to do this, you must specify 'dtype=object' when creating the ndarray.\n",
      "  return np.array(masses)[sorted_by_mass], np.array(age_list)[sorted_by_mass], np.array(mag_list)[sorted_by_mass]\n",
      "/Users/connorvancil/Desktop/AstroResearch/contraster/testing/models.py:319: RuntimeWarning: Mean of empty slice\n",
      "  masses = np.nanmean(np.vstack([atmo_mass_interp,bex_mass_interp]),axis=0)\n"
     ]
    },
    {
     "name": "stdout",
     "output_type": "stream",
     "text": [
      "Saving to ./FarOut_Figures/Almost_Detected/HIP 21152.png\n",
      "Target 37: 30 Ari B, 910.0 Myr, 45 pc, kmag=5.8\n",
      "\tCompanion separation for 30 Ari B is < 0.4 arcseconds, skipping\n",
      "Target 38: BD+60 1417, 100.0 Myr, 45 pc, kmag=7.3\n"
     ]
    },
    {
     "name": "stderr",
     "output_type": "stream",
     "text": [
      "/Users/connorvancil/Desktop/AstroResearch/contraster/testing/models.py:89: VisibleDeprecationWarning: Creating an ndarray from ragged nested sequences (which is a list-or-tuple of lists-or-tuples-or ndarrays with different lengths or shapes) is deprecated. If you meant to do this, you must specify 'dtype=object' when creating the ndarray.\n",
      "  return np.array(masses)[sorted_by_mass], np.array(age_list)[sorted_by_mass], np.array(mag_list)[sorted_by_mass]\n"
     ]
    },
    {
     "name": "stdout",
     "output_type": "stream",
     "text": [
      "\tCOMPANION DETECTED!\n",
      "Saving to ./FarOut_Figures/Detected/BD+60 1417.png\n",
      "Target 39: K2-25, 730.0 Myr, 45 pc, kmag=10.4\n",
      "\tCompanion separation for K2-25 is < 0.4 arcseconds, skipping\n",
      "Target 40: nu Oph, 650.0 Myr, 46 pc, kmag=1.1\n",
      "\tCompanion separation for nu Oph is < 0.4 arcseconds, skipping\n",
      "Target 41: nu Oph, 650.0 Myr, 46 pc, kmag=1.1\n",
      "\tCompanion separation for nu Oph is < 0.4 arcseconds, skipping\n",
      "Target 42: GU Psc, 100.0 Myr, 48 pc, kmag=9.3\n"
     ]
    },
    {
     "name": "stderr",
     "output_type": "stream",
     "text": [
      "/Users/connorvancil/Desktop/AstroResearch/contraster/testing/models.py:89: VisibleDeprecationWarning: Creating an ndarray from ragged nested sequences (which is a list-or-tuple of lists-or-tuples-or ndarrays with different lengths or shapes) is deprecated. If you meant to do this, you must specify 'dtype=object' when creating the ndarray.\n",
      "  return np.array(masses)[sorted_by_mass], np.array(age_list)[sorted_by_mass], np.array(mag_list)[sorted_by_mass]\n",
      "/Users/connorvancil/Desktop/AstroResearch/contraster/testing/models.py:319: RuntimeWarning: Mean of empty slice\n",
      "  masses = np.nanmean(np.vstack([atmo_mass_interp,bex_mass_interp]),axis=0)\n"
     ]
    },
    {
     "name": "stdout",
     "output_type": "stream",
     "text": [
      "Saving to ./FarOut_Figures/Non-Detected/GU Psc.png\n",
      "Target 43: WASP-80, 200.0 Myr, 50 pc, kmag=8.4\n",
      "\tCompanion separation for WASP-80 is < 0.4 arcseconds, skipping\n",
      "Target 44: kap And, 30.0 Myr, 50 pc, kmag=4.3\n"
     ]
    },
    {
     "name": "stderr",
     "output_type": "stream",
     "text": [
      "/Users/connorvancil/Desktop/AstroResearch/contraster/testing/models.py:89: VisibleDeprecationWarning: Creating an ndarray from ragged nested sequences (which is a list-or-tuple of lists-or-tuples-or ndarrays with different lengths or shapes) is deprecated. If you meant to do this, you must specify 'dtype=object' when creating the ndarray.\n",
      "  return np.array(masses)[sorted_by_mass], np.array(age_list)[sorted_by_mass], np.array(mag_list)[sorted_by_mass]\n"
     ]
    },
    {
     "name": "stdout",
     "output_type": "stream",
     "text": [
      "\tCOMPANION DETECTED!\n",
      "Saving to ./FarOut_Figures/Detected/kap And.png\n",
      "Target 45: AB Pic, 30.0 Myr, 50 pc, kmag=7.0\n"
     ]
    },
    {
     "name": "stderr",
     "output_type": "stream",
     "text": [
      "/Users/connorvancil/Desktop/AstroResearch/contraster/testing/models.py:89: VisibleDeprecationWarning: Creating an ndarray from ragged nested sequences (which is a list-or-tuple of lists-or-tuples-or ndarrays with different lengths or shapes) is deprecated. If you meant to do this, you must specify 'dtype=object' when creating the ndarray.\n",
      "  return np.array(masses)[sorted_by_mass], np.array(age_list)[sorted_by_mass], np.array(mag_list)[sorted_by_mass]\n"
     ]
    },
    {
     "name": "stdout",
     "output_type": "stream",
     "text": [
      "\tCOMPANION DETECTED!\n",
      "Saving to ./FarOut_Figures/Detected/AB Pic.png\n",
      "Target 46: HIP 94235, 118.0 Myr, 59 pc, kmag=6.9\n",
      "\tCompanion separation for HIP 94235 is < 0.4 arcseconds, skipping\n",
      "Target 47: HD 70573, 102.0 Myr, 59 pc, kmag=7.2\n",
      "\tCompanion separation for HD 70573 is < 0.4 arcseconds, skipping\n",
      "Target 48: K2-141, 740.0 Myr, 62 pc, kmag=8.4\n",
      "\tCompanion separation for K2-141 is < 0.4 arcseconds, skipping\n",
      "Target 49: 2MASS J12073346-3932539, 8.0 Myr, 64 pc, kmag=11.9\n"
     ]
    },
    {
     "name": "stderr",
     "output_type": "stream",
     "text": [
      "/Users/connorvancil/Desktop/AstroResearch/contraster/testing/models.py:89: VisibleDeprecationWarning: Creating an ndarray from ragged nested sequences (which is a list-or-tuple of lists-or-tuples-or ndarrays with different lengths or shapes) is deprecated. If you meant to do this, you must specify 'dtype=object' when creating the ndarray.\n",
      "  return np.array(masses)[sorted_by_mass], np.array(age_list)[sorted_by_mass], np.array(mag_list)[sorted_by_mass]\n",
      "/Users/connorvancil/Desktop/AstroResearch/contraster/testing/models.py:319: RuntimeWarning: Mean of empty slice\n",
      "  masses = np.nanmean(np.vstack([atmo_mass_interp,bex_mass_interp]),axis=0)\n"
     ]
    },
    {
     "name": "stdout",
     "output_type": "stream",
     "text": [
      "\tCOMPANION DETECTED!\n",
      "Saving to ./FarOut_Figures/Detected/2MASS J12073346-3932539.png\n",
      "Target 50: 2MASS J22362452+4751425, 120.0 Myr, 70 pc, kmag=9.1\n"
     ]
    },
    {
     "name": "stderr",
     "output_type": "stream",
     "text": [
      "/Users/connorvancil/Desktop/AstroResearch/contraster/testing/models.py:89: VisibleDeprecationWarning: Creating an ndarray from ragged nested sequences (which is a list-or-tuple of lists-or-tuples-or ndarrays with different lengths or shapes) is deprecated. If you meant to do this, you must specify 'dtype=object' when creating the ndarray.\n",
      "  return np.array(masses)[sorted_by_mass], np.array(age_list)[sorted_by_mass], np.array(mag_list)[sorted_by_mass]\n"
     ]
    },
    {
     "name": "stdout",
     "output_type": "stream",
     "text": [
      "\tCOMPANION DETECTED!\n",
      "Saving to ./FarOut_Figures/Detected/2MASS J22362452+4751425.png\n",
      "Target 51: HAT-P-20, 800.0 Myr, 71 pc, kmag=8.6\n",
      "\tCompanion separation for HAT-P-20 is < 0.4 arcseconds, skipping\n",
      "Target 52: HD 47366, 940.0 Myr, 84 pc, kmag=4.1\n",
      "\tCompanion separation for HD 47366 is < 0.4 arcseconds, skipping\n",
      "Target 53: HD 47366, 940.0 Myr, 84 pc, kmag=4.1\n",
      "\tCompanion separation for HD 47366 is < 0.4 arcseconds, skipping\n",
      "Target 54: HD 95086, 17.0 Myr, 86 pc, kmag=6.8\n"
     ]
    },
    {
     "name": "stderr",
     "output_type": "stream",
     "text": [
      "/Users/connorvancil/Desktop/AstroResearch/contraster/testing/models.py:89: VisibleDeprecationWarning: Creating an ndarray from ragged nested sequences (which is a list-or-tuple of lists-or-tuples-or ndarrays with different lengths or shapes) is deprecated. If you meant to do this, you must specify 'dtype=object' when creating the ndarray.\n",
      "  return np.array(masses)[sorted_by_mass], np.array(age_list)[sorted_by_mass], np.array(mag_list)[sorted_by_mass]\n"
     ]
    },
    {
     "name": "stdout",
     "output_type": "stream",
     "text": [
      "\tCOMPANION DETECTED!\n",
      "Saving to ./FarOut_Figures/Detected/HD 95086.png\n",
      "Target 55: WASP-43, 800.0 Myr, 87 pc, kmag=9.3\n",
      "\tCompanion separation for WASP-43 is < 0.4 arcseconds, skipping\n",
      "Target 56: TYC 8998-760-1, 17.0 Myr, 95 pc, kmag=8.4\n"
     ]
    },
    {
     "name": "stderr",
     "output_type": "stream",
     "text": [
      "/Users/connorvancil/Desktop/AstroResearch/contraster/testing/models.py:89: VisibleDeprecationWarning: Creating an ndarray from ragged nested sequences (which is a list-or-tuple of lists-or-tuples-or ndarrays with different lengths or shapes) is deprecated. If you meant to do this, you must specify 'dtype=object' when creating the ndarray.\n",
      "  return np.array(masses)[sorted_by_mass], np.array(age_list)[sorted_by_mass], np.array(mag_list)[sorted_by_mass]\n"
     ]
    },
    {
     "name": "stdout",
     "output_type": "stream",
     "text": [
      "\tCOMPANION DETECTED!\n",
      "Saving to ./FarOut_Figures/Detected/TYC 8998-760-1.png\n",
      "Target 57: TYC 8998-760-1, 17.0 Myr, 95 pc, kmag=8.4\n"
     ]
    },
    {
     "name": "stderr",
     "output_type": "stream",
     "text": [
      "/Users/connorvancil/Desktop/AstroResearch/contraster/testing/models.py:89: VisibleDeprecationWarning: Creating an ndarray from ragged nested sequences (which is a list-or-tuple of lists-or-tuples-or ndarrays with different lengths or shapes) is deprecated. If you meant to do this, you must specify 'dtype=object' when creating the ndarray.\n",
      "  return np.array(masses)[sorted_by_mass], np.array(age_list)[sorted_by_mass], np.array(mag_list)[sorted_by_mass]\n"
     ]
    },
    {
     "name": "stdout",
     "output_type": "stream",
     "text": [
      "\tCOMPANION DETECTED!\n",
      "Saving to ./FarOut_Figures/Detected/TYC 8998-760-1.png\n",
      "Target 58: HD 114082, 15.0 Myr, 95 pc, kmag=7.2\n",
      "\tCompanion separation for HD 114082 is < 0.4 arcseconds, skipping\n",
      "Target 59: HR 5471, 15.0 Myr, 98 pc, kmag=4.5\n"
     ]
    },
    {
     "name": "stderr",
     "output_type": "stream",
     "text": [
      "/Users/connorvancil/Desktop/AstroResearch/contraster/testing/models.py:89: VisibleDeprecationWarning: Creating an ndarray from ragged nested sequences (which is a list-or-tuple of lists-or-tuples-or ndarrays with different lengths or shapes) is deprecated. If you meant to do this, you must specify 'dtype=object' when creating the ndarray.\n",
      "  return np.array(masses)[sorted_by_mass], np.array(age_list)[sorted_by_mass], np.array(mag_list)[sorted_by_mass]\n"
     ]
    },
    {
     "name": "stdout",
     "output_type": "stream",
     "text": [
      "\tCOMPANION DETECTED!\n",
      "Saving to ./FarOut_Figures/Detected/HR 5471.png\n",
      "Target 60: TOI-251, 180.0 Myr, 100 pc, kmag=8.4\n",
      "\tCompanion separation for TOI-251 is < 0.4 arcseconds, skipping\n",
      "Target 61: TOI-1749, 800.0 Myr, 100 pc, kmag=10.3\n",
      "\tCompanion separation for TOI-1749 is < 0.4 arcseconds, skipping\n",
      "Target 62: TOI-1749, 800.0 Myr, 100 pc, kmag=10.3\n",
      "\tCompanion separation for TOI-1749 is < 0.4 arcseconds, skipping\n",
      "Target 63: TOI-1749, 800.0 Myr, 100 pc, kmag=10.3\n",
      "\tCompanion separation for TOI-1749 is < 0.4 arcseconds, skipping\n",
      "Target 64: WASP-189, 730.0 Myr, 100 pc, kmag=6.1\n",
      "\tCompanion separation for WASP-189 is < 0.4 arcseconds, skipping\n",
      "Target 65: HD 110014, 950.0 Myr, 101 pc, kmag=2.0\n",
      "\tCompanion separation for HD 110014 is < 0.4 arcseconds, skipping\n",
      "Target 66: HD 106906, 13.0 Myr, 103 pc, kmag=6.7\n"
     ]
    },
    {
     "name": "stderr",
     "output_type": "stream",
     "text": [
      "/Users/connorvancil/Desktop/AstroResearch/contraster/testing/models.py:89: VisibleDeprecationWarning: Creating an ndarray from ragged nested sequences (which is a list-or-tuple of lists-or-tuples-or ndarrays with different lengths or shapes) is deprecated. If you meant to do this, you must specify 'dtype=object' when creating the ndarray.\n",
      "  return np.array(masses)[sorted_by_mass], np.array(age_list)[sorted_by_mass], np.array(mag_list)[sorted_by_mass]\n"
     ]
    },
    {
     "name": "stdout",
     "output_type": "stream",
     "text": [
      "\tCOMPANION DETECTED!\n",
      "Saving to ./FarOut_Figures/Detected/HD 106906.png\n",
      "Target 67: GSC 06214-00210, 5.0 Myr, 108 pc, kmag=9.2\n"
     ]
    },
    {
     "name": "stderr",
     "output_type": "stream",
     "text": [
      "/Users/connorvancil/Desktop/AstroResearch/contraster/testing/models.py:89: VisibleDeprecationWarning: Creating an ndarray from ragged nested sequences (which is a list-or-tuple of lists-or-tuples-or ndarrays with different lengths or shapes) is deprecated. If you meant to do this, you must specify 'dtype=object' when creating the ndarray.\n",
      "  return np.array(masses)[sorted_by_mass], np.array(age_list)[sorted_by_mass], np.array(mag_list)[sorted_by_mass]\n"
     ]
    },
    {
     "name": "stdout",
     "output_type": "stream",
     "text": [
      "\tCOMPANION DETECTED!\n",
      "Saving to ./FarOut_Figures/Detected/GSC 06214-00210.png\n",
      "Target 68: HIP 65426, 14.0 Myr, 109 pc, kmag=6.8\n"
     ]
    },
    {
     "name": "stderr",
     "output_type": "stream",
     "text": [
      "/Users/connorvancil/Desktop/AstroResearch/contraster/testing/models.py:89: VisibleDeprecationWarning: Creating an ndarray from ragged nested sequences (which is a list-or-tuple of lists-or-tuples-or ndarrays with different lengths or shapes) is deprecated. If you meant to do this, you must specify 'dtype=object' when creating the ndarray.\n",
      "  return np.array(masses)[sorted_by_mass], np.array(age_list)[sorted_by_mass], np.array(mag_list)[sorted_by_mass]\n"
     ]
    },
    {
     "name": "stdout",
     "output_type": "stream",
     "text": [
      "\tCOMPANION DETECTED!\n",
      "Saving to ./FarOut_Figures/Detected/HIP 65426.png\n",
      "Target 69: YSES 2, 14.0 Myr, 109 pc, kmag=8.4\n"
     ]
    },
    {
     "name": "stderr",
     "output_type": "stream",
     "text": [
      "/Users/connorvancil/Desktop/AstroResearch/contraster/testing/models.py:89: VisibleDeprecationWarning: Creating an ndarray from ragged nested sequences (which is a list-or-tuple of lists-or-tuples-or ndarrays with different lengths or shapes) is deprecated. If you meant to do this, you must specify 'dtype=object' when creating the ndarray.\n",
      "  return np.array(masses)[sorted_by_mass], np.array(age_list)[sorted_by_mass], np.array(mag_list)[sorted_by_mass]\n"
     ]
    },
    {
     "name": "stdout",
     "output_type": "stream",
     "text": [
      "\tCOMPANION DETECTED!\n",
      "Saving to ./FarOut_Figures/Detected/YSES 2.png\n",
      "Target 70: TOI-1268, 245.0 Myr, 110 pc, kmag=8.9\n",
      "\tCompanion separation for TOI-1268 is < 0.4 arcseconds, skipping\n",
      "Target 71: PDS 70, 5.0 Myr, 113 pc, kmag=8.5\n",
      "\tCompanion separation for PDS 70 is < 0.4 arcseconds, skipping\n",
      "Target 72: PDS 70, 5.0 Myr, 113 pc, kmag=8.5\n",
      "\tCompanion separation for PDS 70 is < 0.4 arcseconds, skipping\n",
      "Target 73: PDS 70, 5.0 Myr, 113 pc, kmag=8.5\n",
      "\tCompanion separation for PDS 70 is < 0.4 arcseconds, skipping\n",
      "Target 74: PDS 70, 5.0 Myr, 113 pc, kmag=8.5\n",
      "\tCompanion separation for PDS 70 is < 0.4 arcseconds, skipping\n",
      "Target 75: TOI-201, 870.0 Myr, 114 pc, kmag=7.8\n",
      "\tCompanion separation for TOI-201 is < 0.4 arcseconds, skipping\n",
      "Target 76: HD 25723, 950.0 Myr, 115 pc, kmag=3.0\n",
      "\tCompanion separation for HD 25723 is < 0.4 arcseconds, skipping\n",
      "Target 77: WASP-59, 500.0 Myr, 116 pc, kmag=9.7\n",
      "\tCompanion separation for WASP-59 is < 0.4 arcseconds, skipping\n",
      "Target 78: WASP-140, 500.0 Myr, 118 pc, kmag=9.2\n",
      "\tCompanion separation for WASP-140 is < 0.4 arcseconds, skipping\n",
      "Target 79: TAP 26, 17.0 Myr, 121 pc, kmag=9.3\n",
      "\tCompanion separation for TAP 26 is < 0.4 arcseconds, skipping\n",
      "Target 80: WASP-132, 500.0 Myr, 123 pc, kmag=9.7\n",
      "\tCompanion separation for WASP-132 is < 0.4 arcseconds, skipping\n",
      "Target 81: WASP-18, 500.0 Myr, 123 pc, kmag=8.1\n",
      "\tCompanion separation for WASP-18 is < 0.4 arcseconds, skipping\n",
      "Target 82: WASP-18, 500.0 Myr, 123 pc, kmag=8.1\n",
      "\tCompanion separation for WASP-18 is < 0.4 arcseconds, skipping\n",
      "Target 83: HIP 75056, 12.0 Myr, 125 pc, kmag=7.3\n",
      "\tCompanion separation for HIP 75056 is < 0.4 arcseconds, skipping\n",
      "Target 84: HAT-P-2, 400.0 Myr, 128 pc, kmag=7.6\n",
      "\tCompanion separation for HAT-P-2 is < 0.4 arcseconds, skipping\n",
      "Target 85: V830 Tau, 2.0 Myr, 130 pc, kmag=8.4\n",
      "\tCompanion separation for V830 Tau is < 0.4 arcseconds, skipping\n",
      "Target 86: HAT-P-3, 400.0 Myr, 135 pc, kmag=9.4\n",
      "\tCompanion separation for HAT-P-3 is < 0.4 arcseconds, skipping\n",
      "Target 87: DH Tau, 1.0 Myr, 135 pc, kmag=8.2\n"
     ]
    },
    {
     "name": "stderr",
     "output_type": "stream",
     "text": [
      "/Users/connorvancil/Desktop/AstroResearch/contraster/testing/models.py:89: VisibleDeprecationWarning: Creating an ndarray from ragged nested sequences (which is a list-or-tuple of lists-or-tuples-or ndarrays with different lengths or shapes) is deprecated. If you meant to do this, you must specify 'dtype=object' when creating the ndarray.\n",
      "  return np.array(masses)[sorted_by_mass], np.array(age_list)[sorted_by_mass], np.array(mag_list)[sorted_by_mass]\n"
     ]
    },
    {
     "name": "stdout",
     "output_type": "stream",
     "text": [
      "\tCOMPANION DETECTED!\n",
      "Saving to ./FarOut_Figures/Detected/DH Tau.png\n",
      "Target 88: KELT-20, 600.0 Myr, 136 pc, kmag=7.4\n",
      "\tCompanion separation for KELT-20 is < 0.4 arcseconds, skipping\n",
      "Target 89: ROXs 12, 8.0 Myr, 137 pc, kmag=9.1\n"
     ]
    },
    {
     "name": "stderr",
     "output_type": "stream",
     "text": [
      "/Users/connorvancil/Desktop/AstroResearch/contraster/testing/models.py:89: VisibleDeprecationWarning: Creating an ndarray from ragged nested sequences (which is a list-or-tuple of lists-or-tuples-or ndarrays with different lengths or shapes) is deprecated. If you meant to do this, you must specify 'dtype=object' when creating the ndarray.\n",
      "  return np.array(masses)[sorted_by_mass], np.array(age_list)[sorted_by_mass], np.array(mag_list)[sorted_by_mass]\n"
     ]
    },
    {
     "name": "stdout",
     "output_type": "stream",
     "text": [
      "\tCOMPANION DETECTED!\n",
      "Saving to ./FarOut_Figures/Detected/ROXs 12.png\n",
      "Target 90: HIP 78530, 10.0 Myr, 137 pc, kmag=6.9\n"
     ]
    },
    {
     "name": "stderr",
     "output_type": "stream",
     "text": [
      "/Users/connorvancil/Desktop/AstroResearch/contraster/testing/models.py:89: VisibleDeprecationWarning: Creating an ndarray from ragged nested sequences (which is a list-or-tuple of lists-or-tuples-or ndarrays with different lengths or shapes) is deprecated. If you meant to do this, you must specify 'dtype=object' when creating the ndarray.\n",
      "  return np.array(masses)[sorted_by_mass], np.array(age_list)[sorted_by_mass], np.array(mag_list)[sorted_by_mass]\n"
     ]
    },
    {
     "name": "stdout",
     "output_type": "stream",
     "text": [
      "\tCOMPANION DETECTED!\n",
      "Saving to ./FarOut_Figures/Detected/HIP 78530.png\n",
      "Target 91: HIP 78530, 10.0 Myr, 137 pc, kmag=6.9\n"
     ]
    },
    {
     "name": "stderr",
     "output_type": "stream",
     "text": [
      "/Users/connorvancil/Desktop/AstroResearch/contraster/testing/models.py:89: VisibleDeprecationWarning: Creating an ndarray from ragged nested sequences (which is a list-or-tuple of lists-or-tuples-or ndarrays with different lengths or shapes) is deprecated. If you meant to do this, you must specify 'dtype=object' when creating the ndarray.\n",
      "  return np.array(masses)[sorted_by_mass], np.array(age_list)[sorted_by_mass], np.array(mag_list)[sorted_by_mass]\n"
     ]
    },
    {
     "name": "stdout",
     "output_type": "stream",
     "text": [
      "\tCOMPANION DETECTED!\n",
      "Saving to ./FarOut_Figures/Detected/HIP 78530.png\n",
      "Target 92: USco1621 A, 7.0 Myr, 138 pc, kmag=10.2\n"
     ]
    },
    {
     "name": "stderr",
     "output_type": "stream",
     "text": [
      "/Users/connorvancil/Desktop/AstroResearch/contraster/testing/models.py:89: VisibleDeprecationWarning: Creating an ndarray from ragged nested sequences (which is a list-or-tuple of lists-or-tuples-or ndarrays with different lengths or shapes) is deprecated. If you meant to do this, you must specify 'dtype=object' when creating the ndarray.\n",
      "  return np.array(masses)[sorted_by_mass], np.array(age_list)[sorted_by_mass], np.array(mag_list)[sorted_by_mass]\n"
     ]
    },
    {
     "name": "stdout",
     "output_type": "stream",
     "text": [
      "\tCOMPANION DETECTED!\n",
      "Saving to ./FarOut_Figures/Detected/USco1621 A.png\n",
      "Target 93: 1RXS J160929.1-210524, 5.0 Myr, 139 pc, kmag=8.9\n"
     ]
    },
    {
     "name": "stderr",
     "output_type": "stream",
     "text": [
      "/Users/connorvancil/Desktop/AstroResearch/contraster/testing/models.py:89: VisibleDeprecationWarning: Creating an ndarray from ragged nested sequences (which is a list-or-tuple of lists-or-tuples-or ndarrays with different lengths or shapes) is deprecated. If you meant to do this, you must specify 'dtype=object' when creating the ndarray.\n",
      "  return np.array(masses)[sorted_by_mass], np.array(age_list)[sorted_by_mass], np.array(mag_list)[sorted_by_mass]\n"
     ]
    },
    {
     "name": "stdout",
     "output_type": "stream",
     "text": [
      "\tCOMPANION DETECTED!\n",
      "Saving to ./FarOut_Figures/Detected/1RXS J160929.1-210524.png\n",
      "Target 94: 1RXS J160929.1-210524, 5.0 Myr, 139 pc, kmag=8.9\n"
     ]
    },
    {
     "name": "stderr",
     "output_type": "stream",
     "text": [
      "/Users/connorvancil/Desktop/AstroResearch/contraster/testing/models.py:89: VisibleDeprecationWarning: Creating an ndarray from ragged nested sequences (which is a list-or-tuple of lists-or-tuples-or ndarrays with different lengths or shapes) is deprecated. If you meant to do this, you must specify 'dtype=object' when creating the ndarray.\n",
      "  return np.array(masses)[sorted_by_mass], np.array(age_list)[sorted_by_mass], np.array(mag_list)[sorted_by_mass]\n"
     ]
    },
    {
     "name": "stdout",
     "output_type": "stream",
     "text": [
      "\tCOMPANION DETECTED!\n",
      "Saving to ./FarOut_Figures/Detected/1RXS J160929.1-210524.png\n",
      "Target 95: K2-33, 7.0 Myr, 139 pc, kmag=10.0\n",
      "\tCompanion separation for K2-33 is < 0.4 arcseconds, skipping\n",
      "Target 96: USco1556 A, 7.0 Myr, 141 pc, kmag=10.4\n"
     ]
    },
    {
     "name": "stderr",
     "output_type": "stream",
     "text": [
      "/Users/connorvancil/Desktop/AstroResearch/contraster/testing/models.py:89: VisibleDeprecationWarning: Creating an ndarray from ragged nested sequences (which is a list-or-tuple of lists-or-tuples-or ndarrays with different lengths or shapes) is deprecated. If you meant to do this, you must specify 'dtype=object' when creating the ndarray.\n",
      "  return np.array(masses)[sorted_by_mass], np.array(age_list)[sorted_by_mass], np.array(mag_list)[sorted_by_mass]\n"
     ]
    },
    {
     "name": "stdout",
     "output_type": "stream",
     "text": [
      "\tCOMPANION DETECTED!\n",
      "Saving to ./FarOut_Figures/Detected/USco1556 A.png\n",
      "Target 97: WASP-10, 600.0 Myr, 141 pc, kmag=10.0\n",
      "\tCompanion separation for WASP-10 is < 0.4 arcseconds, skipping\n",
      "Target 98: HD 14067, 690.0 Myr, 142 pc, kmag=4.1\n",
      "\tCompanion separation for HD 14067 is < 0.4 arcseconds, skipping\n",
      "Target 99: ROXs 42 B, 3.0 Myr, 144 pc, kmag=8.7\n"
     ]
    },
    {
     "name": "stderr",
     "output_type": "stream",
     "text": [
      "/Users/connorvancil/Desktop/AstroResearch/contraster/testing/models.py:89: VisibleDeprecationWarning: Creating an ndarray from ragged nested sequences (which is a list-or-tuple of lists-or-tuples-or ndarrays with different lengths or shapes) is deprecated. If you meant to do this, you must specify 'dtype=object' when creating the ndarray.\n",
      "  return np.array(masses)[sorted_by_mass], np.array(age_list)[sorted_by_mass], np.array(mag_list)[sorted_by_mass]\n"
     ]
    },
    {
     "name": "stdout",
     "output_type": "stream",
     "text": [
      "\tCOMPANION DETECTED!\n",
      "Saving to ./FarOut_Figures/Detected/ROXs 42 B.png\n",
      "Target 100: UScoCTIO 108, 3.0 Myr, 144 pc, kmag=12.5\n"
     ]
    },
    {
     "name": "stderr",
     "output_type": "stream",
     "text": [
      "/Users/connorvancil/Desktop/AstroResearch/contraster/testing/models.py:89: VisibleDeprecationWarning: Creating an ndarray from ragged nested sequences (which is a list-or-tuple of lists-or-tuples-or ndarrays with different lengths or shapes) is deprecated. If you meant to do this, you must specify 'dtype=object' when creating the ndarray.\n",
      "  return np.array(masses)[sorted_by_mass], np.array(age_list)[sorted_by_mass], np.array(mag_list)[sorted_by_mass]\n"
     ]
    },
    {
     "name": "stdout",
     "output_type": "stream",
     "text": [
      "\tCOMPANION DETECTED!\n",
      "Saving to ./FarOut_Figures/Detected/UScoCTIO 108.png\n",
      "Target 101: HD 144844, 10.0 Myr, 146 pc, kmag=5.7\n"
     ]
    },
    {
     "name": "stderr",
     "output_type": "stream",
     "text": [
      "/Users/connorvancil/Desktop/AstroResearch/contraster/testing/models.py:89: VisibleDeprecationWarning: Creating an ndarray from ragged nested sequences (which is a list-or-tuple of lists-or-tuples-or ndarrays with different lengths or shapes) is deprecated. If you meant to do this, you must specify 'dtype=object' when creating the ndarray.\n",
      "  return np.array(masses)[sorted_by_mass], np.array(age_list)[sorted_by_mass], np.array(mag_list)[sorted_by_mass]\n"
     ]
    },
    {
     "name": "stdout",
     "output_type": "stream",
     "text": [
      "\tCOMPANION DETECTED!\n",
      "Saving to ./FarOut_Figures/Detected/HD 144844.png\n",
      "Target 102: TOI-1431, 290.0 Myr, 149 pc, kmag=7.4\n",
      "\tCompanion separation for TOI-1431 is < 0.4 arcseconds, skipping\n",
      "Target 103: GQ Lup, 1.0 Myr, 151 pc, kmag=7.1\n"
     ]
    },
    {
     "name": "stderr",
     "output_type": "stream",
     "text": [
      "/Users/connorvancil/Desktop/AstroResearch/contraster/testing/models.py:89: VisibleDeprecationWarning: Creating an ndarray from ragged nested sequences (which is a list-or-tuple of lists-or-tuples-or ndarrays with different lengths or shapes) is deprecated. If you meant to do this, you must specify 'dtype=object' when creating the ndarray.\n",
      "  return np.array(masses)[sorted_by_mass], np.array(age_list)[sorted_by_mass], np.array(mag_list)[sorted_by_mass]\n"
     ]
    },
    {
     "name": "stdout",
     "output_type": "stream",
     "text": [
      "\tCOMPANION DETECTED!\n",
      "Saving to ./FarOut_Figures/Detected/GQ Lup.png\n",
      "Target 104: TOI-942, 50.0 Myr, 153 pc, kmag=9.6\n",
      "\tCompanion separation for TOI-942 is < 0.4 arcseconds, skipping\n",
      "Target 105: TOI-942, 50.0 Myr, 153 pc, kmag=9.6\n",
      "\tCompanion separation for TOI-942 is < 0.4 arcseconds, skipping\n",
      "Target 106: Kepler-411, 212.0 Myr, 154 pc, kmag=10.1\n",
      "\tCompanion separation for Kepler-411 is < 0.4 arcseconds, skipping\n",
      "Target 107: Kepler-411, 212.0 Myr, 154 pc, kmag=10.1\n",
      "\tCompanion separation for Kepler-411 is < 0.4 arcseconds, skipping\n",
      "Target 108: Kepler-411, 212.0 Myr, 154 pc, kmag=10.1\n",
      "\tCompanion separation for Kepler-411 is < 0.4 arcseconds, skipping\n",
      "Target 109: Kepler-411, 212.0 Myr, 154 pc, kmag=10.1\n",
      "\tCompanion separation for Kepler-411 is < 0.4 arcseconds, skipping\n",
      "Target 110: WASP-14, 750.0 Myr, 162 pc, kmag=8.6\n",
      "\tCompanion separation for WASP-14 is < 0.4 arcseconds, skipping\n",
      "Target 111: AB Aur, 3.0 Myr, 162 pc, kmag=4.2\n"
     ]
    },
    {
     "name": "stderr",
     "output_type": "stream",
     "text": [
      "/Users/connorvancil/Desktop/AstroResearch/contraster/testing/models.py:89: VisibleDeprecationWarning: Creating an ndarray from ragged nested sequences (which is a list-or-tuple of lists-or-tuples-or ndarrays with different lengths or shapes) is deprecated. If you meant to do this, you must specify 'dtype=object' when creating the ndarray.\n",
      "  return np.array(masses)[sorted_by_mass], np.array(age_list)[sorted_by_mass], np.array(mag_list)[sorted_by_mass]\n",
      "/Users/connorvancil/Desktop/AstroResearch/contraster/testing/models.py:319: RuntimeWarning: Mean of empty slice\n",
      "  masses = np.nanmean(np.vstack([atmo_mass_interp,bex_mass_interp]),axis=0)\n"
     ]
    },
    {
     "name": "stdout",
     "output_type": "stream",
     "text": [
      "Saving to ./FarOut_Figures/Almost_Detected/AB Aur.png\n",
      "Target 112: XO-1, 900.0 Myr, 164 pc, kmag=9.5\n",
      "\tCompanion separation for XO-1 is < 0.4 arcseconds, skipping\n",
      "Target 113: MASCARA-4, 800.0 Myr, 171 pc, kmag=7.8\n",
      "\tCompanion separation for MASCARA-4 is < 0.4 arcseconds, skipping\n",
      "Target 114: WASP-62, 800.0 Myr, 176 pc, kmag=8.9\n",
      "\tCompanion separation for WASP-62 is < 0.4 arcseconds, skipping\n",
      "Target 115: Cl* NGC 2632 JC 278, 578.0 Myr, 183 pc, kmag=10.2\n",
      "\tCompanion separation for Cl* NGC 2632 JC 278 is < 0.4 arcseconds, skipping\n",
      "Target 116: Cl* NGC 2632 JC 278, 578.0 Myr, 183 pc, kmag=10.2\n",
      "\tCompanion separation for Cl* NGC 2632 JC 278 is < 0.4 arcseconds, skipping\n",
      "Target 117: HD 97048, 3.0 Myr, 184 pc, kmag=5.9\n"
     ]
    },
    {
     "name": "stderr",
     "output_type": "stream",
     "text": [
      "/Users/connorvancil/Desktop/AstroResearch/contraster/testing/models.py:89: VisibleDeprecationWarning: Creating an ndarray from ragged nested sequences (which is a list-or-tuple of lists-or-tuples-or ndarrays with different lengths or shapes) is deprecated. If you meant to do this, you must specify 'dtype=object' when creating the ndarray.\n",
      "  return np.array(masses)[sorted_by_mass], np.array(age_list)[sorted_by_mass], np.array(mag_list)[sorted_by_mass]\n",
      "/Users/connorvancil/Desktop/AstroResearch/contraster/testing/models.py:319: RuntimeWarning: Mean of empty slice\n",
      "  masses = np.nanmean(np.vstack([atmo_mass_interp,bex_mass_interp]),axis=0)\n"
     ]
    },
    {
     "name": "stdout",
     "output_type": "stream",
     "text": [
      "Saving to ./FarOut_Figures/Almost_Detected/HD 97048.png\n",
      "Target 118: K2-100, 750.0 Myr, 189 pc, kmag=9.2\n",
      "\tCompanion separation for K2-100 is < 0.4 arcseconds, skipping\n",
      "Target 119: CHXR 73, 2.0 Myr, 190 pc, kmag=10.7\n"
     ]
    },
    {
     "name": "stderr",
     "output_type": "stream",
     "text": [
      "/Users/connorvancil/Desktop/AstroResearch/contraster/testing/models.py:89: VisibleDeprecationWarning: Creating an ndarray from ragged nested sequences (which is a list-or-tuple of lists-or-tuples-or ndarrays with different lengths or shapes) is deprecated. If you meant to do this, you must specify 'dtype=object' when creating the ndarray.\n",
      "  return np.array(masses)[sorted_by_mass], np.array(age_list)[sorted_by_mass], np.array(mag_list)[sorted_by_mass]\n"
     ]
    },
    {
     "name": "stdout",
     "output_type": "stream",
     "text": [
      "\tCOMPANION DETECTED!\n",
      "Saving to ./FarOut_Figures/Detected/CHXR 73.png\n",
      "Target 120: CT Cha, 2.0 Myr, 191 pc, kmag=8.7\n"
     ]
    },
    {
     "name": "stderr",
     "output_type": "stream",
     "text": [
      "/Users/connorvancil/Desktop/AstroResearch/contraster/testing/models.py:89: VisibleDeprecationWarning: Creating an ndarray from ragged nested sequences (which is a list-or-tuple of lists-or-tuples-or ndarrays with different lengths or shapes) is deprecated. If you meant to do this, you must specify 'dtype=object' when creating the ndarray.\n",
      "  return np.array(masses)[sorted_by_mass], np.array(age_list)[sorted_by_mass], np.array(mag_list)[sorted_by_mass]\n"
     ]
    },
    {
     "name": "stdout",
     "output_type": "stream",
     "text": [
      "\tCOMPANION DETECTED!\n",
      "Saving to ./FarOut_Figures/Detected/CT Cha.png\n",
      "Target 121: Kepler-63, 210.0 Myr, 194 pc, kmag=10.0\n",
      "\tCompanion separation for Kepler-63 is < 0.4 arcseconds, skipping\n",
      "Target 122: K2-105, 600.0 Myr, 198 pc, kmag=10.1\n",
      "\tCompanion separation for K2-105 is < 0.4 arcseconds, skipping\n",
      "Target 123: WASP-101, 900.0 Myr, 201 pc, kmag=9.1\n",
      "\tCompanion separation for WASP-101 is < 0.4 arcseconds, skipping\n",
      "Target 124: KELT-9, 300.0 Myr, 204 pc, kmag=7.5\n",
      "\tCompanion separation for KELT-9 is < 0.4 arcseconds, skipping\n",
      "Target 125: WASP-25, 20.0 Myr, 211 pc, kmag=10.2\n",
      "\tCompanion separation for WASP-25 is < 0.4 arcseconds, skipping\n",
      "Target 126: WASP-139, 500.0 Myr, 212 pc, kmag=10.5\n",
      "\tCompanion separation for WASP-139 is < 0.4 arcseconds, skipping\n",
      "Target 127: CoRoT-2, 600.0 Myr, 213 pc, kmag=10.3\n",
      "\tCompanion separation for CoRoT-2 is < 0.4 arcseconds, skipping\n",
      "Target 128: KELT-17, 650.0 Myr, 226 pc, kmag=8.6\n",
      "\tCompanion separation for KELT-17 is < 0.4 arcseconds, skipping\n",
      "Target 129: TrES-3, 900.0 Myr, 231 pc, kmag=--\n",
      "\tCompanion separation for TrES-3 is < 0.4 arcseconds, skipping\n",
      "Target 130: HD 81817, 150.0 Myr, 269 pc, kmag=0.8\n",
      "\tCompanion separation for HD 81817 is < 0.4 arcseconds, skipping\n",
      "Target 131: WASP-135, 600.0 Myr, 298 pc, kmag=11.0\n",
      "\tCompanion separation for WASP-135 is < 0.4 arcseconds, skipping\n"
     ]
    },
    {
     "name": "stderr",
     "output_type": "stream",
     "text": [
      "<ipython-input-92-3b463b6d64de>:20: FutureWarning: Format strings passed to MaskedConstant are ignored, but in future may error or produce different behavior\n",
      "  print(\"Target {}: {}, {} Myr, {:.0f} pc, kmag={:.1f}\".format(i,target,age,distance,kmag))\n"
     ]
    }
   ],
   "source": [
    "full_detection_list = []\n",
    "\n",
    "for i, target in enumerate(targets):\n",
    "# for i, target in enumerate([targets[3]]):\n",
    "    \n",
    "    age = target_dict[target][1]\n",
    "    distance = target_dict[target][0]\n",
    "    \n",
    "    comp_AU = target_dict[target][3] #Companion separation in AU\n",
    "    comp_sep = comp_AU/distance #convert AU to arcsec\n",
    "    comp_mass = target_dict[target][2] #Companions mass in M_Jup\n",
    "\n",
    "    kmag,spt = simbad_vals[target]\n",
    "    \n",
    "    mass_limits_list = []\n",
    "    sep_list = []\n",
    "    target_detection_array = []\n",
    "    almost_detected_array = []\n",
    "\n",
    "    print(\"Target {}: {}, {} Myr, {:.0f} pc, kmag={:.1f}\".format(i,target,age,distance,kmag))\n",
    "\n",
    "    if comp_sep < 0.4:\n",
    "        print(\"\\tCompanion separation for {} is < 0.4 arcseconds, skipping\".format(target))\n",
    "        continue\n",
    "\n",
    "    for filter_name in filter_list:\n",
    "        \n",
    "        instrument = configs[filter_name]['instrument']\n",
    "        instrument_mask = configs[filter_name]['instrument_mask']\n",
    "\n",
    "        jwst_mag = get_jwst_mag(spt,kmag,instrument,filter_name,filter_dir=\"./\",jwst_mask=instrument_mask,\n",
    "                    norm_filter='bessel_k').value\n",
    "\n",
    "        contrast_curves=read_contrast_curves()\n",
    "        sep,companion_mags=companion_detection_limit(jwst_mag,filter_name,contrast_curves,plot=False);\n",
    "\n",
    "        good_seps = sep[np.where(np.isfinite(companion_mags))]\n",
    "\n",
    "        if comp_sep < np.min(good_seps):\n",
    "            print(\"\\tCompanion of {:.2f} for {} is closer than the IWA in {}, skipping\".format(comp_sep,target,filter_name))\n",
    "            continue\n",
    "\n",
    "        model_dir = base_model_dir+model_instrument_directories.get(instrument.lower())\n",
    "        \n",
    "        if instrument.lower () == \"nircam\":\n",
    "            model_dir+=model_nircam_mask_directories.get(instrument_mask.lower())\n",
    "\n",
    "        if age < max_bex_age:\n",
    "            mass_limits = generate_mass_curve(age,distance,companion_mags,filter_name,sep,model_dir,bex_model_filename=bex_file,\n",
    "                            plot=False)\n",
    "        else: \n",
    "            mass_limits = generate_mass_curve(age,distance,companion_mags,filter_name,sep,model_dir,\n",
    "                            plot=False)\n",
    "\n",
    "        if len(mass_limits) < len(sep):\n",
    "            sep = sep[:len(mass_limits)]\n",
    "        detected = detect_companion(sep,mass_limits,comp_sep,comp_mass)\n",
    "        target_detection_array.append(detected)\n",
    "\n",
    "        #What if we got 2x deeper?\n",
    "        almost_detected = detect_companion(sep,mass_limits/2.,comp_sep,comp_mass)\n",
    "        almost_detected_array.append(almost_detected)\n",
    "\n",
    "        # print(\"Was the companion detected? {}\".format())\n",
    "        mass_limits_list.append(mass_limits)\n",
    "        sep_list.append(sep)\n",
    "\n",
    "    if np.any(target_detection_array):\n",
    "        print(\"\\tCOMPANION DETECTED!\")\n",
    "        full_detection_list.append(True)\n",
    "        figure_directory = figure_base_directory+\"/Detected/\"\n",
    "    elif np.any(almost_detected_array): \n",
    "        full_detection_list.append(False)\n",
    "        figure_directory = figure_base_directory+\"/Almost_Detected/\"\n",
    "    else: \n",
    "        full_detection_list.append(False)\n",
    "        figure_directory = figure_base_directory+\"/Non-Detected/\"\n",
    "    \n",
    "    #If the companion is too late at all filters then skip\n",
    "    if len(sep_list) < 1:\n",
    "        continue\n",
    "\n",
    "    fig,axis = plt.subplots(1,1,figsize=(12,5))\n",
    "    for i in range(len(mass_limits_list)):\n",
    "        plt.semilogy(sep_list[i],mass_limits_list[i],label=filter_list[i])\n",
    "    plt.title(\"{}, {} Myr, {} pc, kmag={:.1f}, Detected: {}\".format(target,age,distance,kmag,full_detection_list[-1]))\n",
    "    plt.scatter(comp_sep,comp_mass,label=\"Predicted Companion\")\n",
    "\n",
    "    ymin, ymax = axis.get_ylim()\n",
    "\n",
    "    plt.xlabel(\"Separation (arcseconds)\")\n",
    "    plt.ylabel(r\"Mass Limit ($M_{Jup}$)\")\n",
    "    plt.legend()\n",
    "    plt.savefig(figure_directory+target+\".png\",dpi=200)\n",
    "    print(\"Saving to {}\".format(figure_directory+target+\".png\"))\n",
    "    plt.close()"
   ]
  }
 ],
 "metadata": {
  "kernelspec": {
   "display_name": "Python 3.8.8 ('base')",
   "language": "python",
   "name": "python3"
  },
  "language_info": {
   "codemirror_mode": {
    "name": "ipython",
    "version": 3
   },
   "file_extension": ".py",
   "mimetype": "text/x-python",
   "name": "python",
   "nbconvert_exporter": "python",
   "pygments_lexer": "ipython3",
   "version": "3.8.8"
  },
  "orig_nbformat": 4,
  "vscode": {
   "interpreter": {
    "hash": "40d3a090f54c6569ab1632332b64b2c03c39dcf918b08424e98f38b5ae0af88f"
   }
  }
 },
 "nbformat": 4,
 "nbformat_minor": 2
}
