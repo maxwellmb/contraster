{
 "cells": [
  {
   "cell_type": "code",
   "execution_count": 1,
   "metadata": {},
   "outputs": [
    {
     "name": "stderr",
     "output_type": "stream",
     "text": [
      "/opt/anaconda3/lib/python3.8/site-packages/scipy/__init__.py:138: UserWarning: A NumPy version >=1.16.5 and <1.23.0 is required for this version of SciPy (detected version 1.23.5)\n",
      "  warnings.warn(f\"A NumPy version >={np_minversion} and <{np_maxversion} is required for this version of \"\n"
     ]
    }
   ],
   "source": [
    "import pandas as pd\n",
    "from astroquery.simbad import Simbad\n",
    "from jwst import *\n",
    "\n",
    "%load_ext autoreload\n",
    "%autoreload 2\n",
    "Simbad.add_votable_fields('flux(K)','sp')\n",
    "\n",
    "max_bex_age = 1000 #This isn't the actually maximum age, but the maximum age above which there isn't much data. "
   ]
  },
  {
   "cell_type": "markdown",
   "metadata": {},
   "source": [
    "Directories to change depending on what computer you're on"
   ]
  },
  {
   "cell_type": "code",
   "execution_count": 35,
   "metadata": {},
   "outputs": [],
   "source": [
    "figure_base_directory = \"./FarOut_Figures/\" #Change this to reflect the project we're working on\n",
    "bex_file = '../models/BEX_evol_mags_-2_MH_0.00AC.dat'"
   ]
  },
  {
   "cell_type": "code",
   "execution_count": 3,
   "metadata": {},
   "outputs": [],
   "source": [
    "computer = 'connor'\n",
    "connor = True\n",
    "maxmb = False\n",
    "\n",
    "if computer == 'connor':\n",
    "    import os\n",
    "    base_model_dir=\"/Users/connorvancil/Desktop/AstroResearch/Data/models/evolutionary_tracks/ATMO_CEQ/\"\n",
    "    bex_file = '../models/BEX_evol_mags_-2_MH_0.00AC.dat'\n",
    "    os.environ['PYSYN_CDBS']='/Users/connorvancil/Desktop/AstroResearch/Data/trds/'\n",
    "elif computer == 'max_laptop': \n",
    "    base_model_dir=\"/Users/maxwellmb/Data/models/ATMO_2020_models/evolutionary_tracks/ATMO_CEQ/\"\n",
    "    bex_file = '../models/BEX_evol_mags_-2_MH_0.00AC.dat'\n",
    "elif computer == 'max_desktop':\n",
    "    base_model_dir = \"TBD\"\n",
    "    bex_file = None"
   ]
  },
  {
   "cell_type": "markdown",
   "metadata": {},
   "source": [
    "Read in the Data Table"
   ]
  },
  {
   "cell_type": "code",
   "execution_count": 18,
   "metadata": {},
   "outputs": [],
   "source": [
    "df = pd.read_csv('../large_orbit_targetlist.csv')\n",
    "\n",
    "data_arr = df[['hostname','sy_dist','st_age']].to_numpy()\n",
    "target_dict={}\n",
    "for row in data_arr:\n",
    "    target_dict[row[0]]=row[1:]"
   ]
  },
  {
   "cell_type": "markdown",
   "metadata": {},
   "source": [
    "Query all targets"
   ]
  },
  {
   "cell_type": "code",
   "execution_count": 19,
   "metadata": {},
   "outputs": [],
   "source": [
    "targets=df['hostname'].to_numpy()\n",
    "\n",
    "queried_params=[];spts=[]\n",
    "for target in targets:\n",
    "    result_table = Simbad.query_object(target)\n",
    "    spts.append(result_table['SP_TYPE'][0])\n",
    "    queried_params.append([target,result_table['FLUX_K'][0]])"
   ]
  },
  {
   "cell_type": "markdown",
   "metadata": {},
   "source": [
    "Simbad doesn't Have these spectral types, so add them manually"
   ]
  },
  {
   "cell_type": "code",
   "execution_count": 20,
   "metadata": {},
   "outputs": [],
   "source": [
    "spts[10] = 'F5V'\n",
    "spts[25] = 'F0V'\n",
    "spts[38] = 'K4'\n",
    "spts[44] = 'K0'\n",
    "spts[54] = 'K0V'\n",
    "spts[56] = 'M5V'\n",
    "spts[58] = 'G7'\n",
    "spts[66] = 'K0V'\n",
    "spts[72] = 'K0'\n",
    "spts[73] = 'K0'\n",
    "spts[75] = 'K4'\n",
    "spts[77] = 'G6'\n",
    "spts[91] = 'M3'\n",
    "spts[96] = 'G0'\n",
    "spts[97] = 'M0'\n",
    "spts[100] = 'A0'\n",
    "spts[110] = 'F7'\n",
    "spts[123] = 'K1'\n",
    "spts[127] = 'K0'\n",
    "spts[130] = 'K0V'\n",
    "spts[131] = 'K0'\n",
    "spts[132] = 'K0'\n",
    "spts[134] = 'K8V'\n",
    "spts[137] = 'G4'"
   ]
  },
  {
   "cell_type": "markdown",
   "metadata": {},
   "source": [
    "Force Spectral Types to those in ck04models"
   ]
  },
  {
   "cell_type": "code",
   "execution_count": 21,
   "metadata": {},
   "outputs": [],
   "source": [
    "from models import *\n",
    "for i,spt in enumerate(spts):\n",
    "    if spt not in lookuptable: \n",
    "        spts[i] = match_spt(spt)\n",
    "[params.append(spts[i]) for i, params in  enumerate(queried_params)]\n",
    "\n",
    "#adding another dictionary to hold these queried paramters in a more useful format\n",
    "simbad_vals={}\n",
    "for star in queried_params:\n",
    "    simbad_vals[star[0]]=[star[1],star[2]]"
   ]
  },
  {
   "cell_type": "markdown",
   "metadata": {},
   "source": [
    "Set up some configuration info"
   ]
  },
  {
   "cell_type": "code",
   "execution_count": 22,
   "metadata": {},
   "outputs": [],
   "source": [
    "configs = {'f250m':  {'instrument':'nircam','instrument_mask':'mask335r'},\n",
    "            'f300m': {'instrument':'nircam','instrument_mask':'mask335r'}, \n",
    "            'f356w': {'instrument':'nircam','instrument_mask':'mask335r'},\n",
    "            'f410m': {'instrument':'nircam','instrument_mask':'mask335r'},\n",
    "            'f444w': {'instrument':'nircam','instrument_mask':'mask335r'},\n",
    "            'f1140c':{'instrument':'miri',  'instrument_mask':None},\n",
    "            'f1550c':{'instrument':'miri',  'instrument_mask':None},\n",
    "            }\n",
    "filter_list = list(configs.keys())\n",
    "filter_list = ['f444w'] #For now only doing this filter because the bex filters only have this filter."
   ]
  },
  {
   "cell_type": "code",
   "execution_count": 47,
   "metadata": {},
   "outputs": [
    {
     "name": "stdout",
     "output_type": "stream",
     "text": [
      "Target 0: eps Eri, 500 Myr, 3 pc, kmag=1.7\n"
     ]
    },
    {
     "name": "stderr",
     "output_type": "stream",
     "text": [
      "/Users/connorvancil/Desktop/AstroResearch/contraster/testing/models.py:89: VisibleDeprecationWarning: Creating an ndarray from ragged nested sequences (which is a list-or-tuple of lists-or-tuples-or ndarrays with different lengths or shapes) is deprecated. If you meant to do this, you must specify 'dtype=object' when creating the ndarray.\n",
      "  return np.array(masses)[sorted_by_mass], np.array(age_list)[sorted_by_mass], np.array(mag_list)[sorted_by_mass]\n",
      "/Users/connorvancil/Desktop/AstroResearch/contraster/testing/models.py:319: RuntimeWarning: Mean of empty slice\n",
      "  masses = np.nanmean(np.vstack([atmo_mass_interp,bex_mass_interp]),axis=0)\n"
     ]
    },
    {
     "name": "stdout",
     "output_type": "stream",
     "text": [
      "Saving to ./FarOut_Figures/Sub5MJup/eps Eri.png\n",
      "Target 1: GJ 674, 550 Myr, 4 pc, kmag=4.9\n"
     ]
    },
    {
     "name": "stderr",
     "output_type": "stream",
     "text": [
      "/Users/connorvancil/Desktop/AstroResearch/contraster/testing/models.py:89: VisibleDeprecationWarning: Creating an ndarray from ragged nested sequences (which is a list-or-tuple of lists-or-tuples-or ndarrays with different lengths or shapes) is deprecated. If you meant to do this, you must specify 'dtype=object' when creating the ndarray.\n",
      "  return np.array(masses)[sorted_by_mass], np.array(age_list)[sorted_by_mass], np.array(mag_list)[sorted_by_mass]\n",
      "/Users/connorvancil/Desktop/AstroResearch/contraster/testing/models.py:319: RuntimeWarning: Mean of empty slice\n",
      "  masses = np.nanmean(np.vstack([atmo_mass_interp,bex_mass_interp]),axis=0)\n"
     ]
    },
    {
     "name": "stdout",
     "output_type": "stream",
     "text": [
      "Saving to ./FarOut_Figures/Others/GJ 674.png\n",
      "Target 2: AU Mic, 22 Myr, 10 pc, kmag=4.5\n"
     ]
    },
    {
     "name": "stderr",
     "output_type": "stream",
     "text": [
      "/Users/connorvancil/Desktop/AstroResearch/contraster/testing/models.py:89: VisibleDeprecationWarning: Creating an ndarray from ragged nested sequences (which is a list-or-tuple of lists-or-tuples-or ndarrays with different lengths or shapes) is deprecated. If you meant to do this, you must specify 'dtype=object' when creating the ndarray.\n",
      "  return np.array(masses)[sorted_by_mass], np.array(age_list)[sorted_by_mass], np.array(mag_list)[sorted_by_mass]\n"
     ]
    },
    {
     "name": "stdout",
     "output_type": "stream",
     "text": [
      "Saving to ./FarOut_Figures/Sub1MJup/AU Mic.png\n",
      "Target 3: L 98-59, 800 Myr, 11 pc, kmag=7.1\n"
     ]
    },
    {
     "name": "stderr",
     "output_type": "stream",
     "text": [
      "/Users/connorvancil/Desktop/AstroResearch/contraster/testing/models.py:89: VisibleDeprecationWarning: Creating an ndarray from ragged nested sequences (which is a list-or-tuple of lists-or-tuples-or ndarrays with different lengths or shapes) is deprecated. If you meant to do this, you must specify 'dtype=object' when creating the ndarray.\n",
      "  return np.array(masses)[sorted_by_mass], np.array(age_list)[sorted_by_mass], np.array(mag_list)[sorted_by_mass]\n",
      "/Users/connorvancil/Desktop/AstroResearch/contraster/testing/models.py:319: RuntimeWarning: Mean of empty slice\n",
      "  masses = np.nanmean(np.vstack([atmo_mass_interp,bex_mass_interp]),axis=0)\n"
     ]
    },
    {
     "name": "stdout",
     "output_type": "stream",
     "text": [
      "Saving to ./FarOut_Figures/Others/L 98-59.png\n",
      "Target 4: HD 147513, 300 Myr, 13 pc, kmag=3.9\n"
     ]
    },
    {
     "name": "stderr",
     "output_type": "stream",
     "text": [
      "/Users/connorvancil/Desktop/AstroResearch/contraster/testing/models.py:89: VisibleDeprecationWarning: Creating an ndarray from ragged nested sequences (which is a list-or-tuple of lists-or-tuples-or ndarrays with different lengths or shapes) is deprecated. If you meant to do this, you must specify 'dtype=object' when creating the ndarray.\n",
      "  return np.array(masses)[sorted_by_mass], np.array(age_list)[sorted_by_mass], np.array(mag_list)[sorted_by_mass]\n",
      "/Users/connorvancil/Desktop/AstroResearch/contraster/testing/models.py:319: RuntimeWarning: Mean of empty slice\n",
      "  masses = np.nanmean(np.vstack([atmo_mass_interp,bex_mass_interp]),axis=0)\n"
     ]
    },
    {
     "name": "stdout",
     "output_type": "stream",
     "text": [
      "Saving to ./FarOut_Figures/Sub5MJup/HD 147513.png\n",
      "Target 5: HD 128311, 960 Myr, 16 pc, kmag=5.1\n"
     ]
    },
    {
     "name": "stderr",
     "output_type": "stream",
     "text": [
      "/Users/connorvancil/Desktop/AstroResearch/contraster/testing/models.py:89: VisibleDeprecationWarning: Creating an ndarray from ragged nested sequences (which is a list-or-tuple of lists-or-tuples-or ndarrays with different lengths or shapes) is deprecated. If you meant to do this, you must specify 'dtype=object' when creating the ndarray.\n",
      "  return np.array(masses)[sorted_by_mass], np.array(age_list)[sorted_by_mass], np.array(mag_list)[sorted_by_mass]\n",
      "/Users/connorvancil/Desktop/AstroResearch/contraster/testing/models.py:319: RuntimeWarning: Mean of empty slice\n",
      "  masses = np.nanmean(np.vstack([atmo_mass_interp,bex_mass_interp]),axis=0)\n"
     ]
    },
    {
     "name": "stdout",
     "output_type": "stream",
     "text": [
      "Saving to ./FarOut_Figures/Sub5MJup/HD 128311.png\n",
      "Target 6: GJ 504, 160 Myr, 18 pc, kmag=4.0\n"
     ]
    },
    {
     "name": "stderr",
     "output_type": "stream",
     "text": [
      "/Users/connorvancil/Desktop/AstroResearch/contraster/testing/models.py:89: VisibleDeprecationWarning: Creating an ndarray from ragged nested sequences (which is a list-or-tuple of lists-or-tuples-or ndarrays with different lengths or shapes) is deprecated. If you meant to do this, you must specify 'dtype=object' when creating the ndarray.\n",
      "  return np.array(masses)[sorted_by_mass], np.array(age_list)[sorted_by_mass], np.array(mag_list)[sorted_by_mass]\n",
      "/Users/connorvancil/Desktop/AstroResearch/contraster/testing/models.py:319: RuntimeWarning: Mean of empty slice\n",
      "  masses = np.nanmean(np.vstack([atmo_mass_interp,bex_mass_interp]),axis=0)\n"
     ]
    },
    {
     "name": "stdout",
     "output_type": "stream",
     "text": [
      "Saving to ./FarOut_Figures/Sub5MJup/GJ 504.png\n",
      "Target 7: HN Peg, 300 Myr, 18 pc, kmag=4.6\n"
     ]
    },
    {
     "name": "stderr",
     "output_type": "stream",
     "text": [
      "/Users/connorvancil/Desktop/AstroResearch/contraster/testing/models.py:89: VisibleDeprecationWarning: Creating an ndarray from ragged nested sequences (which is a list-or-tuple of lists-or-tuples-or ndarrays with different lengths or shapes) is deprecated. If you meant to do this, you must specify 'dtype=object' when creating the ndarray.\n",
      "  return np.array(masses)[sorted_by_mass], np.array(age_list)[sorted_by_mass], np.array(mag_list)[sorted_by_mass]\n",
      "/Users/connorvancil/Desktop/AstroResearch/contraster/testing/models.py:319: RuntimeWarning: Mean of empty slice\n",
      "  masses = np.nanmean(np.vstack([atmo_mass_interp,bex_mass_interp]),axis=0)\n"
     ]
    },
    {
     "name": "stdout",
     "output_type": "stream",
     "text": [
      "Saving to ./FarOut_Figures/Sub5MJup/HN Peg.png\n",
      "Target 8: bet Pic, 23 Myr, 20 pc, kmag=3.5\n"
     ]
    },
    {
     "name": "stderr",
     "output_type": "stream",
     "text": [
      "/Users/connorvancil/Desktop/AstroResearch/contraster/testing/models.py:89: VisibleDeprecationWarning: Creating an ndarray from ragged nested sequences (which is a list-or-tuple of lists-or-tuples-or ndarrays with different lengths or shapes) is deprecated. If you meant to do this, you must specify 'dtype=object' when creating the ndarray.\n",
      "  return np.array(masses)[sorted_by_mass], np.array(age_list)[sorted_by_mass], np.array(mag_list)[sorted_by_mass]\n"
     ]
    },
    {
     "name": "stdout",
     "output_type": "stream",
     "text": [
      "Saving to ./FarOut_Figures/Sub5MJup/bet Pic.png\n",
      "Target 9: HD 63433, 414 Myr, 22 pc, kmag=5.3\n"
     ]
    },
    {
     "name": "stderr",
     "output_type": "stream",
     "text": [
      "/Users/connorvancil/Desktop/AstroResearch/contraster/testing/models.py:89: VisibleDeprecationWarning: Creating an ndarray from ragged nested sequences (which is a list-or-tuple of lists-or-tuples-or ndarrays with different lengths or shapes) is deprecated. If you meant to do this, you must specify 'dtype=object' when creating the ndarray.\n",
      "  return np.array(masses)[sorted_by_mass], np.array(age_list)[sorted_by_mass], np.array(mag_list)[sorted_by_mass]\n",
      "/Users/connorvancil/Desktop/AstroResearch/contraster/testing/models.py:319: RuntimeWarning: Mean of empty slice\n",
      "  masses = np.nanmean(np.vstack([atmo_mass_interp,bex_mass_interp]),axis=0)\n"
     ]
    },
    {
     "name": "stdout",
     "output_type": "stream",
     "text": [
      "Saving to ./FarOut_Figures/Sub5MJup/HD 63433.png\n",
      "Target 10: LP 791-18, 500 Myr, 26 pc, kmag=10.6\n"
     ]
    },
    {
     "name": "stderr",
     "output_type": "stream",
     "text": [
      "/Users/connorvancil/Desktop/AstroResearch/contraster/testing/models.py:89: VisibleDeprecationWarning: Creating an ndarray from ragged nested sequences (which is a list-or-tuple of lists-or-tuples-or ndarrays with different lengths or shapes) is deprecated. If you meant to do this, you must specify 'dtype=object' when creating the ndarray.\n",
      "  return np.array(masses)[sorted_by_mass], np.array(age_list)[sorted_by_mass], np.array(mag_list)[sorted_by_mass]\n",
      "/Users/connorvancil/Desktop/AstroResearch/contraster/testing/models.py:319: RuntimeWarning: Mean of empty slice\n",
      "  masses = np.nanmean(np.vstack([atmo_mass_interp,bex_mass_interp]),axis=0)\n"
     ]
    },
    {
     "name": "stdout",
     "output_type": "stream",
     "text": [
      "Saving to ./FarOut_Figures/Others/LP 791-18.png\n",
      "Target 11: HD 70642, 919 Myr, 29 pc, kmag=5.6\n"
     ]
    },
    {
     "name": "stderr",
     "output_type": "stream",
     "text": [
      "/Users/connorvancil/Desktop/AstroResearch/contraster/testing/models.py:89: VisibleDeprecationWarning: Creating an ndarray from ragged nested sequences (which is a list-or-tuple of lists-or-tuples-or ndarrays with different lengths or shapes) is deprecated. If you meant to do this, you must specify 'dtype=object' when creating the ndarray.\n",
      "  return np.array(masses)[sorted_by_mass], np.array(age_list)[sorted_by_mass], np.array(mag_list)[sorted_by_mass]\n",
      "/Users/connorvancil/Desktop/AstroResearch/contraster/testing/models.py:319: RuntimeWarning: Mean of empty slice\n",
      "  masses = np.nanmean(np.vstack([atmo_mass_interp,bex_mass_interp]),axis=0)\n"
     ]
    },
    {
     "name": "stdout",
     "output_type": "stream",
     "text": [
      "Saving to ./FarOut_Figures/Sub5MJup/HD 70642.png\n",
      "Target 12: 51 Eri, 20 Myr, 30 pc, kmag=4.5\n"
     ]
    },
    {
     "name": "stderr",
     "output_type": "stream",
     "text": [
      "/Users/connorvancil/Desktop/AstroResearch/contraster/testing/models.py:89: VisibleDeprecationWarning: Creating an ndarray from ragged nested sequences (which is a list-or-tuple of lists-or-tuples-or ndarrays with different lengths or shapes) is deprecated. If you meant to do this, you must specify 'dtype=object' when creating the ndarray.\n",
      "  return np.array(masses)[sorted_by_mass], np.array(age_list)[sorted_by_mass], np.array(mag_list)[sorted_by_mass]\n"
     ]
    },
    {
     "name": "stdout",
     "output_type": "stream",
     "text": [
      "Saving to ./FarOut_Figures/Sub1MJup/51 Eri.png\n",
      "Target 13: HD 73583, 480 Myr, 32 pc, kmag=6.9\n"
     ]
    },
    {
     "name": "stderr",
     "output_type": "stream",
     "text": [
      "/Users/connorvancil/Desktop/AstroResearch/contraster/testing/models.py:89: VisibleDeprecationWarning: Creating an ndarray from ragged nested sequences (which is a list-or-tuple of lists-or-tuples-or ndarrays with different lengths or shapes) is deprecated. If you meant to do this, you must specify 'dtype=object' when creating the ndarray.\n",
      "  return np.array(masses)[sorted_by_mass], np.array(age_list)[sorted_by_mass], np.array(mag_list)[sorted_by_mass]\n",
      "/Users/connorvancil/Desktop/AstroResearch/contraster/testing/models.py:319: RuntimeWarning: Mean of empty slice\n",
      "  masses = np.nanmean(np.vstack([atmo_mass_interp,bex_mass_interp]),axis=0)\n"
     ]
    },
    {
     "name": "stdout",
     "output_type": "stream",
     "text": [
      "Saving to ./FarOut_Figures/Sub5MJup/HD 73583.png\n",
      "Target 14: HD 130322, 350 Myr, 32 pc, kmag=6.2\n"
     ]
    },
    {
     "name": "stderr",
     "output_type": "stream",
     "text": [
      "/Users/connorvancil/Desktop/AstroResearch/contraster/testing/models.py:89: VisibleDeprecationWarning: Creating an ndarray from ragged nested sequences (which is a list-or-tuple of lists-or-tuples-or ndarrays with different lengths or shapes) is deprecated. If you meant to do this, you must specify 'dtype=object' when creating the ndarray.\n",
      "  return np.array(masses)[sorted_by_mass], np.array(age_list)[sorted_by_mass], np.array(mag_list)[sorted_by_mass]\n",
      "/Users/connorvancil/Desktop/AstroResearch/contraster/testing/models.py:319: RuntimeWarning: Mean of empty slice\n",
      "  masses = np.nanmean(np.vstack([atmo_mass_interp,bex_mass_interp]),axis=0)\n"
     ]
    },
    {
     "name": "stdout",
     "output_type": "stream",
     "text": [
      "Saving to ./FarOut_Figures/Sub5MJup/HD 130322.png\n",
      "Target 15: 2MASS J01225093-2439505, 120 Myr, 34 pc, kmag=9.2\n"
     ]
    },
    {
     "name": "stderr",
     "output_type": "stream",
     "text": [
      "/Users/connorvancil/Desktop/AstroResearch/contraster/testing/models.py:89: VisibleDeprecationWarning: Creating an ndarray from ragged nested sequences (which is a list-or-tuple of lists-or-tuples-or ndarrays with different lengths or shapes) is deprecated. If you meant to do this, you must specify 'dtype=object' when creating the ndarray.\n",
      "  return np.array(masses)[sorted_by_mass], np.array(age_list)[sorted_by_mass], np.array(mag_list)[sorted_by_mass]\n",
      "/Users/connorvancil/Desktop/AstroResearch/contraster/testing/models.py:319: RuntimeWarning: Mean of empty slice\n",
      "  masses = np.nanmean(np.vstack([atmo_mass_interp,bex_mass_interp]),axis=0)\n"
     ]
    },
    {
     "name": "stdout",
     "output_type": "stream",
     "text": [
      "Saving to ./FarOut_Figures/Sub1MJup/2MASS J01225093-2439505.png\n",
      "Target 16: HR 2562, 600 Myr, 34 pc, kmag=5.0\n"
     ]
    },
    {
     "name": "stderr",
     "output_type": "stream",
     "text": [
      "/Users/connorvancil/Desktop/AstroResearch/contraster/testing/models.py:89: VisibleDeprecationWarning: Creating an ndarray from ragged nested sequences (which is a list-or-tuple of lists-or-tuples-or ndarrays with different lengths or shapes) is deprecated. If you meant to do this, you must specify 'dtype=object' when creating the ndarray.\n",
      "  return np.array(masses)[sorted_by_mass], np.array(age_list)[sorted_by_mass], np.array(mag_list)[sorted_by_mass]\n",
      "/Users/connorvancil/Desktop/AstroResearch/contraster/testing/models.py:319: RuntimeWarning: Mean of empty slice\n",
      "  masses = np.nanmean(np.vstack([atmo_mass_interp,bex_mass_interp]),axis=0)\n"
     ]
    },
    {
     "name": "stdout",
     "output_type": "stream",
     "text": [
      "Saving to ./FarOut_Figures/Sub10MJup/HR 2562.png\n",
      "Target 17: HD 81040, 730 Myr, 34 pc, kmag=6.2\n"
     ]
    },
    {
     "name": "stderr",
     "output_type": "stream",
     "text": [
      "/Users/connorvancil/Desktop/AstroResearch/contraster/testing/models.py:89: VisibleDeprecationWarning: Creating an ndarray from ragged nested sequences (which is a list-or-tuple of lists-or-tuples-or ndarrays with different lengths or shapes) is deprecated. If you meant to do this, you must specify 'dtype=object' when creating the ndarray.\n",
      "  return np.array(masses)[sorted_by_mass], np.array(age_list)[sorted_by_mass], np.array(mag_list)[sorted_by_mass]\n",
      "/Users/connorvancil/Desktop/AstroResearch/contraster/testing/models.py:319: RuntimeWarning: Mean of empty slice\n",
      "  masses = np.nanmean(np.vstack([atmo_mass_interp,bex_mass_interp]),axis=0)\n"
     ]
    },
    {
     "name": "stdout",
     "output_type": "stream",
     "text": [
      "Saving to ./FarOut_Figures/Sub5MJup/HD 81040.png\n",
      "Target 18: HD 113337, 150 Myr, 36 pc, kmag=5.0\n"
     ]
    },
    {
     "name": "stderr",
     "output_type": "stream",
     "text": [
      "/Users/connorvancil/Desktop/AstroResearch/contraster/testing/models.py:89: VisibleDeprecationWarning: Creating an ndarray from ragged nested sequences (which is a list-or-tuple of lists-or-tuples-or ndarrays with different lengths or shapes) is deprecated. If you meant to do this, you must specify 'dtype=object' when creating the ndarray.\n",
      "  return np.array(masses)[sorted_by_mass], np.array(age_list)[sorted_by_mass], np.array(mag_list)[sorted_by_mass]\n",
      "/Users/connorvancil/Desktop/AstroResearch/contraster/testing/models.py:319: RuntimeWarning: Mean of empty slice\n",
      "  masses = np.nanmean(np.vstack([atmo_mass_interp,bex_mass_interp]),axis=0)\n"
     ]
    },
    {
     "name": "stdout",
     "output_type": "stream",
     "text": [
      "Saving to ./FarOut_Figures/Sub5MJup/HD 113337.png\n",
      "Target 19: HD 18599, 400 Myr, 39 pc, kmag=6.9\n"
     ]
    },
    {
     "name": "stderr",
     "output_type": "stream",
     "text": [
      "/Users/connorvancil/Desktop/AstroResearch/contraster/testing/models.py:89: VisibleDeprecationWarning: Creating an ndarray from ragged nested sequences (which is a list-or-tuple of lists-or-tuples-or ndarrays with different lengths or shapes) is deprecated. If you meant to do this, you must specify 'dtype=object' when creating the ndarray.\n",
      "  return np.array(masses)[sorted_by_mass], np.array(age_list)[sorted_by_mass], np.array(mag_list)[sorted_by_mass]\n",
      "/Users/connorvancil/Desktop/AstroResearch/contraster/testing/models.py:319: RuntimeWarning: Mean of empty slice\n",
      "  masses = np.nanmean(np.vstack([atmo_mass_interp,bex_mass_interp]),axis=0)\n"
     ]
    },
    {
     "name": "stdout",
     "output_type": "stream",
     "text": [
      "Saving to ./FarOut_Figures/Sub5MJup/HD 18599.png\n",
      "Target 20: HD 203030, 100 Myr, 39 pc, kmag=6.7\n"
     ]
    },
    {
     "name": "stderr",
     "output_type": "stream",
     "text": [
      "/Users/connorvancil/Desktop/AstroResearch/contraster/testing/models.py:89: VisibleDeprecationWarning: Creating an ndarray from ragged nested sequences (which is a list-or-tuple of lists-or-tuples-or ndarrays with different lengths or shapes) is deprecated. If you meant to do this, you must specify 'dtype=object' when creating the ndarray.\n",
      "  return np.array(masses)[sorted_by_mass], np.array(age_list)[sorted_by_mass], np.array(mag_list)[sorted_by_mass]\n"
     ]
    },
    {
     "name": "stdout",
     "output_type": "stream",
     "text": [
      "Saving to ./FarOut_Figures/Sub1MJup/HD 203030.png\n",
      "Target 21: HD 206893, 250 Myr, 41 pc, kmag=5.6\n"
     ]
    },
    {
     "name": "stderr",
     "output_type": "stream",
     "text": [
      "/Users/connorvancil/Desktop/AstroResearch/contraster/testing/models.py:89: VisibleDeprecationWarning: Creating an ndarray from ragged nested sequences (which is a list-or-tuple of lists-or-tuples-or ndarrays with different lengths or shapes) is deprecated. If you meant to do this, you must specify 'dtype=object' when creating the ndarray.\n",
      "  return np.array(masses)[sorted_by_mass], np.array(age_list)[sorted_by_mass], np.array(mag_list)[sorted_by_mass]\n",
      "/Users/connorvancil/Desktop/AstroResearch/contraster/testing/models.py:319: RuntimeWarning: Mean of empty slice\n",
      "  masses = np.nanmean(np.vstack([atmo_mass_interp,bex_mass_interp]),axis=0)\n"
     ]
    },
    {
     "name": "stdout",
     "output_type": "stream",
     "text": [
      "Saving to ./FarOut_Figures/Sub5MJup/HD 206893.png\n",
      "Target 22: HR 8799, 30 Myr, 41 pc, kmag=5.2\n"
     ]
    },
    {
     "name": "stderr",
     "output_type": "stream",
     "text": [
      "/Users/connorvancil/Desktop/AstroResearch/contraster/testing/models.py:89: VisibleDeprecationWarning: Creating an ndarray from ragged nested sequences (which is a list-or-tuple of lists-or-tuples-or ndarrays with different lengths or shapes) is deprecated. If you meant to do this, you must specify 'dtype=object' when creating the ndarray.\n",
      "  return np.array(masses)[sorted_by_mass], np.array(age_list)[sorted_by_mass], np.array(mag_list)[sorted_by_mass]\n"
     ]
    },
    {
     "name": "stdout",
     "output_type": "stream",
     "text": [
      "Saving to ./FarOut_Figures/Sub5MJup/HR 8799.png\n",
      "Target 23: TOI-2076, 204 Myr, 42 pc, kmag=7.1\n"
     ]
    },
    {
     "name": "stderr",
     "output_type": "stream",
     "text": [
      "/Users/connorvancil/Desktop/AstroResearch/contraster/testing/models.py:89: VisibleDeprecationWarning: Creating an ndarray from ragged nested sequences (which is a list-or-tuple of lists-or-tuples-or ndarrays with different lengths or shapes) is deprecated. If you meant to do this, you must specify 'dtype=object' when creating the ndarray.\n",
      "  return np.array(masses)[sorted_by_mass], np.array(age_list)[sorted_by_mass], np.array(mag_list)[sorted_by_mass]\n"
     ]
    },
    {
     "name": "stdout",
     "output_type": "stream",
     "text": [
      "Saving to ./FarOut_Figures/Sub5MJup/TOI-2076.png\n",
      "Target 24: TOI-1807, 300 Myr, 43 pc, kmag=7.6\n"
     ]
    },
    {
     "name": "stderr",
     "output_type": "stream",
     "text": [
      "/Users/connorvancil/Desktop/AstroResearch/contraster/testing/models.py:89: VisibleDeprecationWarning: Creating an ndarray from ragged nested sequences (which is a list-or-tuple of lists-or-tuples-or ndarrays with different lengths or shapes) is deprecated. If you meant to do this, you must specify 'dtype=object' when creating the ndarray.\n",
      "  return np.array(masses)[sorted_by_mass], np.array(age_list)[sorted_by_mass], np.array(mag_list)[sorted_by_mass]\n"
     ]
    },
    {
     "name": "stdout",
     "output_type": "stream",
     "text": [
      "Saving to ./FarOut_Figures/Sub5MJup/TOI-1807.png\n",
      "Target 25: HIP 21152, 750 Myr, 43 pc, kmag=5.3\n"
     ]
    },
    {
     "name": "stderr",
     "output_type": "stream",
     "text": [
      "/Users/connorvancil/Desktop/AstroResearch/contraster/testing/models.py:89: VisibleDeprecationWarning: Creating an ndarray from ragged nested sequences (which is a list-or-tuple of lists-or-tuples-or ndarrays with different lengths or shapes) is deprecated. If you meant to do this, you must specify 'dtype=object' when creating the ndarray.\n",
      "  return np.array(masses)[sorted_by_mass], np.array(age_list)[sorted_by_mass], np.array(mag_list)[sorted_by_mass]\n",
      "/Users/connorvancil/Desktop/AstroResearch/contraster/testing/models.py:319: RuntimeWarning: Mean of empty slice\n",
      "  masses = np.nanmean(np.vstack([atmo_mass_interp,bex_mass_interp]),axis=0)\n"
     ]
    },
    {
     "name": "stdout",
     "output_type": "stream",
     "text": [
      "Saving to ./FarOut_Figures/Sub10MJup/HIP 21152.png\n",
      "Target 26: HD 222259 A, 45 Myr, 44 pc, kmag=6.7\n"
     ]
    },
    {
     "name": "stderr",
     "output_type": "stream",
     "text": [
      "/Users/connorvancil/Desktop/AstroResearch/contraster/testing/models.py:89: VisibleDeprecationWarning: Creating an ndarray from ragged nested sequences (which is a list-or-tuple of lists-or-tuples-or ndarrays with different lengths or shapes) is deprecated. If you meant to do this, you must specify 'dtype=object' when creating the ndarray.\n",
      "  return np.array(masses)[sorted_by_mass], np.array(age_list)[sorted_by_mass], np.array(mag_list)[sorted_by_mass]\n"
     ]
    },
    {
     "name": "stdout",
     "output_type": "stream",
     "text": [
      "Saving to ./FarOut_Figures/Sub1MJup/HD 222259 A.png\n",
      "Target 27: 30 Ari B, 910 Myr, 45 pc, kmag=5.8\n"
     ]
    },
    {
     "name": "stderr",
     "output_type": "stream",
     "text": [
      "/Users/connorvancil/Desktop/AstroResearch/contraster/testing/models.py:89: VisibleDeprecationWarning: Creating an ndarray from ragged nested sequences (which is a list-or-tuple of lists-or-tuples-or ndarrays with different lengths or shapes) is deprecated. If you meant to do this, you must specify 'dtype=object' when creating the ndarray.\n",
      "  return np.array(masses)[sorted_by_mass], np.array(age_list)[sorted_by_mass], np.array(mag_list)[sorted_by_mass]\n",
      "/Users/connorvancil/Desktop/AstroResearch/contraster/testing/models.py:319: RuntimeWarning: Mean of empty slice\n",
      "  masses = np.nanmean(np.vstack([atmo_mass_interp,bex_mass_interp]),axis=0)\n"
     ]
    },
    {
     "name": "stdout",
     "output_type": "stream",
     "text": [
      "Saving to ./FarOut_Figures/Sub10MJup/30 Ari B.png\n",
      "Target 28: BD+60 1417, 100 Myr, 45 pc, kmag=7.3\n"
     ]
    },
    {
     "name": "stderr",
     "output_type": "stream",
     "text": [
      "/Users/connorvancil/Desktop/AstroResearch/contraster/testing/models.py:89: VisibleDeprecationWarning: Creating an ndarray from ragged nested sequences (which is a list-or-tuple of lists-or-tuples-or ndarrays with different lengths or shapes) is deprecated. If you meant to do this, you must specify 'dtype=object' when creating the ndarray.\n",
      "  return np.array(masses)[sorted_by_mass], np.array(age_list)[sorted_by_mass], np.array(mag_list)[sorted_by_mass]\n"
     ]
    },
    {
     "name": "stdout",
     "output_type": "stream",
     "text": [
      "Saving to ./FarOut_Figures/Sub1MJup/BD+60 1417.png\n",
      "Target 29: K2-25, 730 Myr, 45 pc, kmag=10.4\n"
     ]
    },
    {
     "name": "stderr",
     "output_type": "stream",
     "text": [
      "/Users/connorvancil/Desktop/AstroResearch/contraster/testing/models.py:89: VisibleDeprecationWarning: Creating an ndarray from ragged nested sequences (which is a list-or-tuple of lists-or-tuples-or ndarrays with different lengths or shapes) is deprecated. If you meant to do this, you must specify 'dtype=object' when creating the ndarray.\n",
      "  return np.array(masses)[sorted_by_mass], np.array(age_list)[sorted_by_mass], np.array(mag_list)[sorted_by_mass]\n",
      "/Users/connorvancil/Desktop/AstroResearch/contraster/testing/models.py:319: RuntimeWarning: Mean of empty slice\n",
      "  masses = np.nanmean(np.vstack([atmo_mass_interp,bex_mass_interp]),axis=0)\n"
     ]
    },
    {
     "name": "stdout",
     "output_type": "stream",
     "text": [
      "Saving to ./FarOut_Figures/Others/K2-25.png\n",
      "Target 30: HD 285507, 625 Myr, 45 pc, kmag=7.7\n"
     ]
    },
    {
     "name": "stderr",
     "output_type": "stream",
     "text": [
      "/Users/connorvancil/Desktop/AstroResearch/contraster/testing/models.py:89: VisibleDeprecationWarning: Creating an ndarray from ragged nested sequences (which is a list-or-tuple of lists-or-tuples-or ndarrays with different lengths or shapes) is deprecated. If you meant to do this, you must specify 'dtype=object' when creating the ndarray.\n",
      "  return np.array(masses)[sorted_by_mass], np.array(age_list)[sorted_by_mass], np.array(mag_list)[sorted_by_mass]\n",
      "/Users/connorvancil/Desktop/AstroResearch/contraster/testing/models.py:319: RuntimeWarning: Mean of empty slice\n",
      "  masses = np.nanmean(np.vstack([atmo_mass_interp,bex_mass_interp]),axis=0)\n"
     ]
    },
    {
     "name": "stdout",
     "output_type": "stream",
     "text": [
      "Saving to ./FarOut_Figures/Sub5MJup/HD 285507.png\n",
      "Target 31: TOI-1860, 133 Myr, 46 pc, kmag=6.8\n"
     ]
    },
    {
     "name": "stderr",
     "output_type": "stream",
     "text": [
      "/Users/connorvancil/Desktop/AstroResearch/contraster/testing/models.py:89: VisibleDeprecationWarning: Creating an ndarray from ragged nested sequences (which is a list-or-tuple of lists-or-tuples-or ndarrays with different lengths or shapes) is deprecated. If you meant to do this, you must specify 'dtype=object' when creating the ndarray.\n",
      "  return np.array(masses)[sorted_by_mass], np.array(age_list)[sorted_by_mass], np.array(mag_list)[sorted_by_mass]\n"
     ]
    },
    {
     "name": "stdout",
     "output_type": "stream",
     "text": [
      "Saving to ./FarOut_Figures/Sub5MJup/TOI-1860.png\n",
      "Target 32: nu Oph, 650 Myr, 46 pc, kmag=1.1\n"
     ]
    },
    {
     "name": "stderr",
     "output_type": "stream",
     "text": [
      "/Users/connorvancil/Desktop/AstroResearch/contraster/testing/models.py:89: VisibleDeprecationWarning: Creating an ndarray from ragged nested sequences (which is a list-or-tuple of lists-or-tuples-or ndarrays with different lengths or shapes) is deprecated. If you meant to do this, you must specify 'dtype=object' when creating the ndarray.\n",
      "  return np.array(masses)[sorted_by_mass], np.array(age_list)[sorted_by_mass], np.array(mag_list)[sorted_by_mass]\n",
      "/Users/connorvancil/Desktop/AstroResearch/contraster/testing/models.py:319: RuntimeWarning: Mean of empty slice\n",
      "  masses = np.nanmean(np.vstack([atmo_mass_interp,bex_mass_interp]),axis=0)\n"
     ]
    },
    {
     "name": "stdout",
     "output_type": "stream",
     "text": [
      "Saving to ./FarOut_Figures/Others/nu Oph.png\n",
      "Target 33: GU Psc, 100 Myr, 48 pc, kmag=9.3\n"
     ]
    },
    {
     "name": "stderr",
     "output_type": "stream",
     "text": [
      "/Users/connorvancil/Desktop/AstroResearch/contraster/testing/models.py:89: VisibleDeprecationWarning: Creating an ndarray from ragged nested sequences (which is a list-or-tuple of lists-or-tuples-or ndarrays with different lengths or shapes) is deprecated. If you meant to do this, you must specify 'dtype=object' when creating the ndarray.\n",
      "  return np.array(masses)[sorted_by_mass], np.array(age_list)[sorted_by_mass], np.array(mag_list)[sorted_by_mass]\n",
      "/Users/connorvancil/Desktop/AstroResearch/contraster/testing/models.py:319: RuntimeWarning: Mean of empty slice\n",
      "  masses = np.nanmean(np.vstack([atmo_mass_interp,bex_mass_interp]),axis=0)\n"
     ]
    },
    {
     "name": "stdout",
     "output_type": "stream",
     "text": [
      "Saving to ./FarOut_Figures/Sub1MJup/GU Psc.png\n",
      "Target 34: WASP-80, 200 Myr, 50 pc, kmag=8.4\n"
     ]
    },
    {
     "name": "stderr",
     "output_type": "stream",
     "text": [
      "/Users/connorvancil/Desktop/AstroResearch/contraster/testing/models.py:89: VisibleDeprecationWarning: Creating an ndarray from ragged nested sequences (which is a list-or-tuple of lists-or-tuples-or ndarrays with different lengths or shapes) is deprecated. If you meant to do this, you must specify 'dtype=object' when creating the ndarray.\n",
      "  return np.array(masses)[sorted_by_mass], np.array(age_list)[sorted_by_mass], np.array(mag_list)[sorted_by_mass]\n"
     ]
    },
    {
     "name": "stdout",
     "output_type": "stream",
     "text": [
      "Saving to ./FarOut_Figures/Sub1MJup/WASP-80.png\n",
      "Target 35: kap And, 30 Myr, 50 pc, kmag=4.3\n"
     ]
    },
    {
     "name": "stderr",
     "output_type": "stream",
     "text": [
      "/Users/connorvancil/Desktop/AstroResearch/contraster/testing/models.py:89: VisibleDeprecationWarning: Creating an ndarray from ragged nested sequences (which is a list-or-tuple of lists-or-tuples-or ndarrays with different lengths or shapes) is deprecated. If you meant to do this, you must specify 'dtype=object' when creating the ndarray.\n",
      "  return np.array(masses)[sorted_by_mass], np.array(age_list)[sorted_by_mass], np.array(mag_list)[sorted_by_mass]\n"
     ]
    },
    {
     "name": "stdout",
     "output_type": "stream",
     "text": [
      "Saving to ./FarOut_Figures/Sub5MJup/kap And.png\n",
      "Target 36: AB Pic, 30 Myr, 50 pc, kmag=7.0\n"
     ]
    },
    {
     "name": "stderr",
     "output_type": "stream",
     "text": [
      "/Users/connorvancil/Desktop/AstroResearch/contraster/testing/models.py:89: VisibleDeprecationWarning: Creating an ndarray from ragged nested sequences (which is a list-or-tuple of lists-or-tuples-or ndarrays with different lengths or shapes) is deprecated. If you meant to do this, you must specify 'dtype=object' when creating the ndarray.\n",
      "  return np.array(masses)[sorted_by_mass], np.array(age_list)[sorted_by_mass], np.array(mag_list)[sorted_by_mass]\n"
     ]
    },
    {
     "name": "stdout",
     "output_type": "stream",
     "text": [
      "Saving to ./FarOut_Figures/Sub1MJup/AB Pic.png\n",
      "Target 37: HIP 94235, 118 Myr, 58 pc, kmag=6.9\n"
     ]
    },
    {
     "name": "stderr",
     "output_type": "stream",
     "text": [
      "/Users/connorvancil/Desktop/AstroResearch/contraster/testing/models.py:89: VisibleDeprecationWarning: Creating an ndarray from ragged nested sequences (which is a list-or-tuple of lists-or-tuples-or ndarrays with different lengths or shapes) is deprecated. If you meant to do this, you must specify 'dtype=object' when creating the ndarray.\n",
      "  return np.array(masses)[sorted_by_mass], np.array(age_list)[sorted_by_mass], np.array(mag_list)[sorted_by_mass]\n",
      "/Users/connorvancil/Desktop/AstroResearch/contraster/testing/models.py:319: RuntimeWarning: Mean of empty slice\n",
      "  masses = np.nanmean(np.vstack([atmo_mass_interp,bex_mass_interp]),axis=0)\n"
     ]
    },
    {
     "name": "stdout",
     "output_type": "stream",
     "text": [
      "Saving to ./FarOut_Figures/Sub5MJup/HIP 94235.png\n",
      "Target 38: TOI-712, 830 Myr, 59 pc, kmag=8.3\n"
     ]
    },
    {
     "name": "stderr",
     "output_type": "stream",
     "text": [
      "/Users/connorvancil/Desktop/AstroResearch/contraster/testing/models.py:89: VisibleDeprecationWarning: Creating an ndarray from ragged nested sequences (which is a list-or-tuple of lists-or-tuples-or ndarrays with different lengths or shapes) is deprecated. If you meant to do this, you must specify 'dtype=object' when creating the ndarray.\n",
      "  return np.array(masses)[sorted_by_mass], np.array(age_list)[sorted_by_mass], np.array(mag_list)[sorted_by_mass]\n",
      "/Users/connorvancil/Desktop/AstroResearch/contraster/testing/models.py:319: RuntimeWarning: Mean of empty slice\n",
      "  masses = np.nanmean(np.vstack([atmo_mass_interp,bex_mass_interp]),axis=0)\n"
     ]
    },
    {
     "name": "stdout",
     "output_type": "stream",
     "text": [
      "Saving to ./FarOut_Figures/Sub5MJup/TOI-712.png\n",
      "Target 39: HD 70573, 102 Myr, 59 pc, kmag=7.2\n"
     ]
    },
    {
     "name": "stderr",
     "output_type": "stream",
     "text": [
      "/Users/connorvancil/Desktop/AstroResearch/contraster/testing/models.py:89: VisibleDeprecationWarning: Creating an ndarray from ragged nested sequences (which is a list-or-tuple of lists-or-tuples-or ndarrays with different lengths or shapes) is deprecated. If you meant to do this, you must specify 'dtype=object' when creating the ndarray.\n",
      "  return np.array(masses)[sorted_by_mass], np.array(age_list)[sorted_by_mass], np.array(mag_list)[sorted_by_mass]\n"
     ]
    },
    {
     "name": "stdout",
     "output_type": "stream",
     "text": [
      "Saving to ./FarOut_Figures/Sub5MJup/HD 70573.png\n",
      "Target 40: K2-136, 688 Myr, 59 pc, kmag=8.4\n"
     ]
    },
    {
     "name": "stderr",
     "output_type": "stream",
     "text": [
      "/Users/connorvancil/Desktop/AstroResearch/contraster/testing/models.py:89: VisibleDeprecationWarning: Creating an ndarray from ragged nested sequences (which is a list-or-tuple of lists-or-tuples-or ndarrays with different lengths or shapes) is deprecated. If you meant to do this, you must specify 'dtype=object' when creating the ndarray.\n",
      "  return np.array(masses)[sorted_by_mass], np.array(age_list)[sorted_by_mass], np.array(mag_list)[sorted_by_mass]\n",
      "/Users/connorvancil/Desktop/AstroResearch/contraster/testing/models.py:319: RuntimeWarning: Mean of empty slice\n",
      "  masses = np.nanmean(np.vstack([atmo_mass_interp,bex_mass_interp]),axis=0)\n"
     ]
    },
    {
     "name": "stdout",
     "output_type": "stream",
     "text": [
      "Saving to ./FarOut_Figures/Sub5MJup/K2-136.png\n",
      "Target 41: K2-141, 740 Myr, 62 pc, kmag=8.4\n"
     ]
    },
    {
     "name": "stderr",
     "output_type": "stream",
     "text": [
      "/Users/connorvancil/Desktop/AstroResearch/contraster/testing/models.py:89: VisibleDeprecationWarning: Creating an ndarray from ragged nested sequences (which is a list-or-tuple of lists-or-tuples-or ndarrays with different lengths or shapes) is deprecated. If you meant to do this, you must specify 'dtype=object' when creating the ndarray.\n",
      "  return np.array(masses)[sorted_by_mass], np.array(age_list)[sorted_by_mass], np.array(mag_list)[sorted_by_mass]\n",
      "/Users/connorvancil/Desktop/AstroResearch/contraster/testing/models.py:319: RuntimeWarning: Mean of empty slice\n",
      "  masses = np.nanmean(np.vstack([atmo_mass_interp,bex_mass_interp]),axis=0)\n"
     ]
    },
    {
     "name": "stdout",
     "output_type": "stream",
     "text": [
      "Saving to ./FarOut_Figures/Sub5MJup/K2-141.png\n",
      "Target 42: 2MASS J12073346-3932539, 8 Myr, 64 pc, kmag=11.9\n"
     ]
    },
    {
     "name": "stderr",
     "output_type": "stream",
     "text": [
      "/Users/connorvancil/Desktop/AstroResearch/contraster/testing/models.py:89: VisibleDeprecationWarning: Creating an ndarray from ragged nested sequences (which is a list-or-tuple of lists-or-tuples-or ndarrays with different lengths or shapes) is deprecated. If you meant to do this, you must specify 'dtype=object' when creating the ndarray.\n",
      "  return np.array(masses)[sorted_by_mass], np.array(age_list)[sorted_by_mass], np.array(mag_list)[sorted_by_mass]\n",
      "/Users/connorvancil/Desktop/AstroResearch/contraster/testing/models.py:319: RuntimeWarning: Mean of empty slice\n",
      "  masses = np.nanmean(np.vstack([atmo_mass_interp,bex_mass_interp]),axis=0)\n"
     ]
    },
    {
     "name": "stdout",
     "output_type": "stream",
     "text": [
      "Saving to ./FarOut_Figures/Sub1MJup/2MASS J12073346-3932539.png\n",
      "Target 43: K2-233, 360 Myr, 68 pc, kmag=8.4\n"
     ]
    },
    {
     "name": "stderr",
     "output_type": "stream",
     "text": [
      "/Users/connorvancil/Desktop/AstroResearch/contraster/testing/models.py:89: VisibleDeprecationWarning: Creating an ndarray from ragged nested sequences (which is a list-or-tuple of lists-or-tuples-or ndarrays with different lengths or shapes) is deprecated. If you meant to do this, you must specify 'dtype=object' when creating the ndarray.\n",
      "  return np.array(masses)[sorted_by_mass], np.array(age_list)[sorted_by_mass], np.array(mag_list)[sorted_by_mass]\n",
      "/Users/connorvancil/Desktop/AstroResearch/contraster/testing/models.py:319: RuntimeWarning: Mean of empty slice\n",
      "  masses = np.nanmean(np.vstack([atmo_mass_interp,bex_mass_interp]),axis=0)\n"
     ]
    },
    {
     "name": "stdout",
     "output_type": "stream",
     "text": [
      "Saving to ./FarOut_Figures/Sub5MJup/K2-233.png\n",
      "Target 44: 2MASS J22362452+4751425, 120 Myr, 70 pc, kmag=9.1\n"
     ]
    },
    {
     "name": "stderr",
     "output_type": "stream",
     "text": [
      "/Users/connorvancil/Desktop/AstroResearch/contraster/testing/models.py:89: VisibleDeprecationWarning: Creating an ndarray from ragged nested sequences (which is a list-or-tuple of lists-or-tuples-or ndarrays with different lengths or shapes) is deprecated. If you meant to do this, you must specify 'dtype=object' when creating the ndarray.\n",
      "  return np.array(masses)[sorted_by_mass], np.array(age_list)[sorted_by_mass], np.array(mag_list)[sorted_by_mass]\n"
     ]
    },
    {
     "name": "stdout",
     "output_type": "stream",
     "text": [
      "Saving to ./FarOut_Figures/Sub1MJup/2MASS J22362452+4751425.png\n",
      "Target 45: HAT-P-20, 800 Myr, 71 pc, kmag=8.6\n"
     ]
    },
    {
     "name": "stderr",
     "output_type": "stream",
     "text": [
      "/Users/connorvancil/Desktop/AstroResearch/contraster/testing/models.py:89: VisibleDeprecationWarning: Creating an ndarray from ragged nested sequences (which is a list-or-tuple of lists-or-tuples-or ndarrays with different lengths or shapes) is deprecated. If you meant to do this, you must specify 'dtype=object' when creating the ndarray.\n",
      "  return np.array(masses)[sorted_by_mass], np.array(age_list)[sorted_by_mass], np.array(mag_list)[sorted_by_mass]\n",
      "/Users/connorvancil/Desktop/AstroResearch/contraster/testing/models.py:319: RuntimeWarning: Mean of empty slice\n",
      "  masses = np.nanmean(np.vstack([atmo_mass_interp,bex_mass_interp]),axis=0)\n"
     ]
    },
    {
     "name": "stdout",
     "output_type": "stream",
     "text": [
      "Saving to ./FarOut_Figures/Sub5MJup/HAT-P-20.png\n",
      "Target 46: HD 47366, 940 Myr, 84 pc, kmag=4.1\n"
     ]
    },
    {
     "name": "stderr",
     "output_type": "stream",
     "text": [
      "/Users/connorvancil/Desktop/AstroResearch/contraster/testing/models.py:89: VisibleDeprecationWarning: Creating an ndarray from ragged nested sequences (which is a list-or-tuple of lists-or-tuples-or ndarrays with different lengths or shapes) is deprecated. If you meant to do this, you must specify 'dtype=object' when creating the ndarray.\n",
      "  return np.array(masses)[sorted_by_mass], np.array(age_list)[sorted_by_mass], np.array(mag_list)[sorted_by_mass]\n",
      "/Users/connorvancil/Desktop/AstroResearch/contraster/testing/models.py:319: RuntimeWarning: Mean of empty slice\n",
      "  masses = np.nanmean(np.vstack([atmo_mass_interp,bex_mass_interp]),axis=0)\n"
     ]
    },
    {
     "name": "stdout",
     "output_type": "stream",
     "text": [
      "Saving to ./FarOut_Figures/Others/HD 47366.png\n",
      "Target 47: HD 95086, 17 Myr, 86 pc, kmag=6.8\n"
     ]
    },
    {
     "name": "stderr",
     "output_type": "stream",
     "text": [
      "/Users/connorvancil/Desktop/AstroResearch/contraster/testing/models.py:89: VisibleDeprecationWarning: Creating an ndarray from ragged nested sequences (which is a list-or-tuple of lists-or-tuples-or ndarrays with different lengths or shapes) is deprecated. If you meant to do this, you must specify 'dtype=object' when creating the ndarray.\n",
      "  return np.array(masses)[sorted_by_mass], np.array(age_list)[sorted_by_mass], np.array(mag_list)[sorted_by_mass]\n"
     ]
    },
    {
     "name": "stdout",
     "output_type": "stream",
     "text": [
      "Saving to ./FarOut_Figures/Sub1MJup/HD 95086.png\n",
      "Target 48: WASP-43, 800 Myr, 87 pc, kmag=9.3\n"
     ]
    },
    {
     "name": "stderr",
     "output_type": "stream",
     "text": [
      "/Users/connorvancil/Desktop/AstroResearch/contraster/testing/models.py:89: VisibleDeprecationWarning: Creating an ndarray from ragged nested sequences (which is a list-or-tuple of lists-or-tuples-or ndarrays with different lengths or shapes) is deprecated. If you meant to do this, you must specify 'dtype=object' when creating the ndarray.\n",
      "  return np.array(masses)[sorted_by_mass], np.array(age_list)[sorted_by_mass], np.array(mag_list)[sorted_by_mass]\n",
      "/Users/connorvancil/Desktop/AstroResearch/contraster/testing/models.py:319: RuntimeWarning: Mean of empty slice\n",
      "  masses = np.nanmean(np.vstack([atmo_mass_interp,bex_mass_interp]),axis=0)\n"
     ]
    },
    {
     "name": "stdout",
     "output_type": "stream",
     "text": [
      "Saving to ./FarOut_Figures/Sub5MJup/WASP-43.png\n",
      "Target 49: TYC 8998-760-1, 17 Myr, 95 pc, kmag=8.4\n"
     ]
    },
    {
     "name": "stderr",
     "output_type": "stream",
     "text": [
      "/Users/connorvancil/Desktop/AstroResearch/contraster/testing/models.py:89: VisibleDeprecationWarning: Creating an ndarray from ragged nested sequences (which is a list-or-tuple of lists-or-tuples-or ndarrays with different lengths or shapes) is deprecated. If you meant to do this, you must specify 'dtype=object' when creating the ndarray.\n",
      "  return np.array(masses)[sorted_by_mass], np.array(age_list)[sorted_by_mass], np.array(mag_list)[sorted_by_mass]\n"
     ]
    },
    {
     "name": "stdout",
     "output_type": "stream",
     "text": [
      "Saving to ./FarOut_Figures/Sub1MJup/TYC 8998-760-1.png\n",
      "Target 50: HD 114082, 15 Myr, 95 pc, kmag=7.2\n"
     ]
    },
    {
     "name": "stderr",
     "output_type": "stream",
     "text": [
      "/Users/connorvancil/Desktop/AstroResearch/contraster/testing/models.py:89: VisibleDeprecationWarning: Creating an ndarray from ragged nested sequences (which is a list-or-tuple of lists-or-tuples-or ndarrays with different lengths or shapes) is deprecated. If you meant to do this, you must specify 'dtype=object' when creating the ndarray.\n",
      "  return np.array(masses)[sorted_by_mass], np.array(age_list)[sorted_by_mass], np.array(mag_list)[sorted_by_mass]\n"
     ]
    },
    {
     "name": "stdout",
     "output_type": "stream",
     "text": [
      "Saving to ./FarOut_Figures/Sub1MJup/HD 114082.png\n",
      "Target 51: KELT-24, 780 Myr, 96 pc, kmag=7.2\n"
     ]
    },
    {
     "name": "stderr",
     "output_type": "stream",
     "text": [
      "/Users/connorvancil/Desktop/AstroResearch/contraster/testing/models.py:89: VisibleDeprecationWarning: Creating an ndarray from ragged nested sequences (which is a list-or-tuple of lists-or-tuples-or ndarrays with different lengths or shapes) is deprecated. If you meant to do this, you must specify 'dtype=object' when creating the ndarray.\n",
      "  return np.array(masses)[sorted_by_mass], np.array(age_list)[sorted_by_mass], np.array(mag_list)[sorted_by_mass]\n",
      "/Users/connorvancil/Desktop/AstroResearch/contraster/testing/models.py:319: RuntimeWarning: Mean of empty slice\n",
      "  masses = np.nanmean(np.vstack([atmo_mass_interp,bex_mass_interp]),axis=0)\n"
     ]
    },
    {
     "name": "stdout",
     "output_type": "stream",
     "text": [
      "Saving to ./FarOut_Figures/Sub10MJup/KELT-24.png\n",
      "Target 52: HR 5471, 15 Myr, 98 pc, kmag=4.5\n"
     ]
    },
    {
     "name": "stderr",
     "output_type": "stream",
     "text": [
      "/Users/connorvancil/Desktop/AstroResearch/contraster/testing/models.py:89: VisibleDeprecationWarning: Creating an ndarray from ragged nested sequences (which is a list-or-tuple of lists-or-tuples-or ndarrays with different lengths or shapes) is deprecated. If you meant to do this, you must specify 'dtype=object' when creating the ndarray.\n",
      "  return np.array(masses)[sorted_by_mass], np.array(age_list)[sorted_by_mass], np.array(mag_list)[sorted_by_mass]\n"
     ]
    },
    {
     "name": "stdout",
     "output_type": "stream",
     "text": [
      "Saving to ./FarOut_Figures/Sub5MJup/HR 5471.png\n",
      "Target 53: TOI-251, 180 Myr, 100 pc, kmag=8.4\n"
     ]
    },
    {
     "name": "stderr",
     "output_type": "stream",
     "text": [
      "/Users/connorvancil/Desktop/AstroResearch/contraster/testing/models.py:89: VisibleDeprecationWarning: Creating an ndarray from ragged nested sequences (which is a list-or-tuple of lists-or-tuples-or ndarrays with different lengths or shapes) is deprecated. If you meant to do this, you must specify 'dtype=object' when creating the ndarray.\n",
      "  return np.array(masses)[sorted_by_mass], np.array(age_list)[sorted_by_mass], np.array(mag_list)[sorted_by_mass]\n",
      "/Users/connorvancil/Desktop/AstroResearch/contraster/testing/models.py:319: RuntimeWarning: Mean of empty slice\n",
      "  masses = np.nanmean(np.vstack([atmo_mass_interp,bex_mass_interp]),axis=0)\n"
     ]
    },
    {
     "name": "stdout",
     "output_type": "stream",
     "text": [
      "Saving to ./FarOut_Figures/Sub5MJup/TOI-251.png\n",
      "Target 54: TOI-1749, 800 Myr, 100 pc, kmag=10.3\n"
     ]
    },
    {
     "name": "stderr",
     "output_type": "stream",
     "text": [
      "/Users/connorvancil/Desktop/AstroResearch/contraster/testing/models.py:89: VisibleDeprecationWarning: Creating an ndarray from ragged nested sequences (which is a list-or-tuple of lists-or-tuples-or ndarrays with different lengths or shapes) is deprecated. If you meant to do this, you must specify 'dtype=object' when creating the ndarray.\n",
      "  return np.array(masses)[sorted_by_mass], np.array(age_list)[sorted_by_mass], np.array(mag_list)[sorted_by_mass]\n",
      "/Users/connorvancil/Desktop/AstroResearch/contraster/testing/models.py:319: RuntimeWarning: Mean of empty slice\n",
      "  masses = np.nanmean(np.vstack([atmo_mass_interp,bex_mass_interp]),axis=0)\n"
     ]
    },
    {
     "name": "stdout",
     "output_type": "stream",
     "text": [
      "Saving to ./FarOut_Figures/Sub5MJup/TOI-1749.png\n",
      "Target 55: WASP-189, 730 Myr, 100 pc, kmag=6.1\n"
     ]
    },
    {
     "name": "stderr",
     "output_type": "stream",
     "text": [
      "/Users/connorvancil/Desktop/AstroResearch/contraster/testing/models.py:89: VisibleDeprecationWarning: Creating an ndarray from ragged nested sequences (which is a list-or-tuple of lists-or-tuples-or ndarrays with different lengths or shapes) is deprecated. If you meant to do this, you must specify 'dtype=object' when creating the ndarray.\n",
      "  return np.array(masses)[sorted_by_mass], np.array(age_list)[sorted_by_mass], np.array(mag_list)[sorted_by_mass]\n",
      "/Users/connorvancil/Desktop/AstroResearch/contraster/testing/models.py:319: RuntimeWarning: Mean of empty slice\n",
      "  masses = np.nanmean(np.vstack([atmo_mass_interp,bex_mass_interp]),axis=0)\n"
     ]
    },
    {
     "name": "stdout",
     "output_type": "stream",
     "text": [
      "Saving to ./FarOut_Figures/Others/WASP-189.png\n",
      "Target 56: TOI-1227, 11 Myr, 101 pc, kmag=11.0\n"
     ]
    },
    {
     "name": "stderr",
     "output_type": "stream",
     "text": [
      "/Users/connorvancil/Desktop/AstroResearch/contraster/testing/models.py:89: VisibleDeprecationWarning: Creating an ndarray from ragged nested sequences (which is a list-or-tuple of lists-or-tuples-or ndarrays with different lengths or shapes) is deprecated. If you meant to do this, you must specify 'dtype=object' when creating the ndarray.\n",
      "  return np.array(masses)[sorted_by_mass], np.array(age_list)[sorted_by_mass], np.array(mag_list)[sorted_by_mass]\n"
     ]
    },
    {
     "name": "stdout",
     "output_type": "stream",
     "text": [
      "Saving to ./FarOut_Figures/Sub1MJup/TOI-1227.png\n",
      "Target 57: HD 110014, 950 Myr, 101 pc, kmag=2.0\n"
     ]
    },
    {
     "name": "stderr",
     "output_type": "stream",
     "text": [
      "/Users/connorvancil/Desktop/AstroResearch/contraster/testing/models.py:89: VisibleDeprecationWarning: Creating an ndarray from ragged nested sequences (which is a list-or-tuple of lists-or-tuples-or ndarrays with different lengths or shapes) is deprecated. If you meant to do this, you must specify 'dtype=object' when creating the ndarray.\n",
      "  return np.array(masses)[sorted_by_mass], np.array(age_list)[sorted_by_mass], np.array(mag_list)[sorted_by_mass]\n",
      "/Users/connorvancil/Desktop/AstroResearch/contraster/testing/models.py:319: RuntimeWarning: Mean of empty slice\n",
      "  masses = np.nanmean(np.vstack([atmo_mass_interp,bex_mass_interp]),axis=0)\n"
     ]
    },
    {
     "name": "stdout",
     "output_type": "stream",
     "text": [
      "Saving to ./FarOut_Figures/Others/HD 110014.png\n",
      "Target 58: TOI-2260, 321 Myr, 101 pc, kmag=8.7\n"
     ]
    },
    {
     "name": "stderr",
     "output_type": "stream",
     "text": [
      "/Users/connorvancil/Desktop/AstroResearch/contraster/testing/models.py:89: VisibleDeprecationWarning: Creating an ndarray from ragged nested sequences (which is a list-or-tuple of lists-or-tuples-or ndarrays with different lengths or shapes) is deprecated. If you meant to do this, you must specify 'dtype=object' when creating the ndarray.\n",
      "  return np.array(masses)[sorted_by_mass], np.array(age_list)[sorted_by_mass], np.array(mag_list)[sorted_by_mass]\n",
      "/Users/connorvancil/Desktop/AstroResearch/contraster/testing/models.py:319: RuntimeWarning: Mean of empty slice\n",
      "  masses = np.nanmean(np.vstack([atmo_mass_interp,bex_mass_interp]),axis=0)\n"
     ]
    },
    {
     "name": "stdout",
     "output_type": "stream",
     "text": [
      "Saving to ./FarOut_Figures/Sub5MJup/TOI-2260.png\n",
      "Target 59: HD 106906, 13 Myr, 103 pc, kmag=6.7\n"
     ]
    },
    {
     "name": "stderr",
     "output_type": "stream",
     "text": [
      "/Users/connorvancil/Desktop/AstroResearch/contraster/testing/models.py:89: VisibleDeprecationWarning: Creating an ndarray from ragged nested sequences (which is a list-or-tuple of lists-or-tuples-or ndarrays with different lengths or shapes) is deprecated. If you meant to do this, you must specify 'dtype=object' when creating the ndarray.\n",
      "  return np.array(masses)[sorted_by_mass], np.array(age_list)[sorted_by_mass], np.array(mag_list)[sorted_by_mass]\n"
     ]
    },
    {
     "name": "stdout",
     "output_type": "stream",
     "text": [
      "Saving to ./FarOut_Figures/Sub5MJup/HD 106906.png\n",
      "Target 60: HD 110082, 250 Myr, 105 pc, kmag=8.0\n"
     ]
    },
    {
     "name": "stderr",
     "output_type": "stream",
     "text": [
      "/Users/connorvancil/Desktop/AstroResearch/contraster/testing/models.py:89: VisibleDeprecationWarning: Creating an ndarray from ragged nested sequences (which is a list-or-tuple of lists-or-tuples-or ndarrays with different lengths or shapes) is deprecated. If you meant to do this, you must specify 'dtype=object' when creating the ndarray.\n",
      "  return np.array(masses)[sorted_by_mass], np.array(age_list)[sorted_by_mass], np.array(mag_list)[sorted_by_mass]\n",
      "/Users/connorvancil/Desktop/AstroResearch/contraster/testing/models.py:319: RuntimeWarning: Mean of empty slice\n",
      "  masses = np.nanmean(np.vstack([atmo_mass_interp,bex_mass_interp]),axis=0)\n"
     ]
    },
    {
     "name": "stdout",
     "output_type": "stream",
     "text": [
      "Saving to ./FarOut_Figures/Sub5MJup/HD 110082.png\n",
      "Target 61: K2-284, 120 Myr, 107 pc, kmag=10.1\n"
     ]
    },
    {
     "name": "stderr",
     "output_type": "stream",
     "text": [
      "/Users/connorvancil/Desktop/AstroResearch/contraster/testing/models.py:89: VisibleDeprecationWarning: Creating an ndarray from ragged nested sequences (which is a list-or-tuple of lists-or-tuples-or ndarrays with different lengths or shapes) is deprecated. If you meant to do this, you must specify 'dtype=object' when creating the ndarray.\n",
      "  return np.array(masses)[sorted_by_mass], np.array(age_list)[sorted_by_mass], np.array(mag_list)[sorted_by_mass]\n"
     ]
    },
    {
     "name": "stdout",
     "output_type": "stream",
     "text": [
      "Saving to ./FarOut_Figures/Sub1MJup/K2-284.png\n",
      "Target 62: V1298 Tau, 23 Myr, 108 pc, kmag=8.1\n"
     ]
    },
    {
     "name": "stderr",
     "output_type": "stream",
     "text": [
      "/Users/connorvancil/Desktop/AstroResearch/contraster/testing/models.py:89: VisibleDeprecationWarning: Creating an ndarray from ragged nested sequences (which is a list-or-tuple of lists-or-tuples-or ndarrays with different lengths or shapes) is deprecated. If you meant to do this, you must specify 'dtype=object' when creating the ndarray.\n",
      "  return np.array(masses)[sorted_by_mass], np.array(age_list)[sorted_by_mass], np.array(mag_list)[sorted_by_mass]\n"
     ]
    },
    {
     "name": "stdout",
     "output_type": "stream",
     "text": [
      "Saving to ./FarOut_Figures/Sub1MJup/V1298 Tau.png\n",
      "Target 63: GSC 06214-00210, 5 Myr, 108 pc, kmag=9.2\n"
     ]
    },
    {
     "name": "stderr",
     "output_type": "stream",
     "text": [
      "/Users/connorvancil/Desktop/AstroResearch/contraster/testing/models.py:89: VisibleDeprecationWarning: Creating an ndarray from ragged nested sequences (which is a list-or-tuple of lists-or-tuples-or ndarrays with different lengths or shapes) is deprecated. If you meant to do this, you must specify 'dtype=object' when creating the ndarray.\n",
      "  return np.array(masses)[sorted_by_mass], np.array(age_list)[sorted_by_mass], np.array(mag_list)[sorted_by_mass]\n"
     ]
    },
    {
     "name": "stdout",
     "output_type": "stream",
     "text": [
      "Saving to ./FarOut_Figures/Sub1MJup/GSC 06214-00210.png\n",
      "Target 64: HIP 65426, 14 Myr, 109 pc, kmag=6.8\n"
     ]
    },
    {
     "name": "stderr",
     "output_type": "stream",
     "text": [
      "/Users/connorvancil/Desktop/AstroResearch/contraster/testing/models.py:89: VisibleDeprecationWarning: Creating an ndarray from ragged nested sequences (which is a list-or-tuple of lists-or-tuples-or ndarrays with different lengths or shapes) is deprecated. If you meant to do this, you must specify 'dtype=object' when creating the ndarray.\n",
      "  return np.array(masses)[sorted_by_mass], np.array(age_list)[sorted_by_mass], np.array(mag_list)[sorted_by_mass]\n"
     ]
    },
    {
     "name": "stdout",
     "output_type": "stream",
     "text": [
      "Saving to ./FarOut_Figures/Sub5MJup/HIP 65426.png\n",
      "Target 65: YSES 2, 14 Myr, 109 pc, kmag=8.4\n"
     ]
    },
    {
     "name": "stderr",
     "output_type": "stream",
     "text": [
      "/Users/connorvancil/Desktop/AstroResearch/contraster/testing/models.py:89: VisibleDeprecationWarning: Creating an ndarray from ragged nested sequences (which is a list-or-tuple of lists-or-tuples-or ndarrays with different lengths or shapes) is deprecated. If you meant to do this, you must specify 'dtype=object' when creating the ndarray.\n",
      "  return np.array(masses)[sorted_by_mass], np.array(age_list)[sorted_by_mass], np.array(mag_list)[sorted_by_mass]\n"
     ]
    },
    {
     "name": "stdout",
     "output_type": "stream",
     "text": [
      "Saving to ./FarOut_Figures/Sub1MJup/YSES 2.png\n",
      "Target 66: TOI-1268, 390 Myr, 110 pc, kmag=8.9\n"
     ]
    },
    {
     "name": "stderr",
     "output_type": "stream",
     "text": [
      "/Users/connorvancil/Desktop/AstroResearch/contraster/testing/models.py:89: VisibleDeprecationWarning: Creating an ndarray from ragged nested sequences (which is a list-or-tuple of lists-or-tuples-or ndarrays with different lengths or shapes) is deprecated. If you meant to do this, you must specify 'dtype=object' when creating the ndarray.\n",
      "  return np.array(masses)[sorted_by_mass], np.array(age_list)[sorted_by_mass], np.array(mag_list)[sorted_by_mass]\n",
      "/Users/connorvancil/Desktop/AstroResearch/contraster/testing/models.py:319: RuntimeWarning: Mean of empty slice\n",
      "  masses = np.nanmean(np.vstack([atmo_mass_interp,bex_mass_interp]),axis=0)\n"
     ]
    },
    {
     "name": "stdout",
     "output_type": "stream",
     "text": [
      "Saving to ./FarOut_Figures/Sub5MJup/TOI-1268.png\n",
      "Target 67: HD 100546, 5 Myr, 110 pc, kmag=5.4\n"
     ]
    },
    {
     "name": "stderr",
     "output_type": "stream",
     "text": [
      "/Users/connorvancil/Desktop/AstroResearch/contraster/testing/models.py:89: VisibleDeprecationWarning: Creating an ndarray from ragged nested sequences (which is a list-or-tuple of lists-or-tuples-or ndarrays with different lengths or shapes) is deprecated. If you meant to do this, you must specify 'dtype=object' when creating the ndarray.\n",
      "  return np.array(masses)[sorted_by_mass], np.array(age_list)[sorted_by_mass], np.array(mag_list)[sorted_by_mass]\n"
     ]
    },
    {
     "name": "stdout",
     "output_type": "stream",
     "text": [
      "Saving to ./FarOut_Figures/Sub5MJup/HD 100546.png\n",
      "Target 68: PDS 70, 5 Myr, 113 pc, kmag=8.5\n"
     ]
    },
    {
     "name": "stderr",
     "output_type": "stream",
     "text": [
      "/Users/connorvancil/Desktop/AstroResearch/contraster/testing/models.py:89: VisibleDeprecationWarning: Creating an ndarray from ragged nested sequences (which is a list-or-tuple of lists-or-tuples-or ndarrays with different lengths or shapes) is deprecated. If you meant to do this, you must specify 'dtype=object' when creating the ndarray.\n",
      "  return np.array(masses)[sorted_by_mass], np.array(age_list)[sorted_by_mass], np.array(mag_list)[sorted_by_mass]\n"
     ]
    },
    {
     "name": "stdout",
     "output_type": "stream",
     "text": [
      "Saving to ./FarOut_Figures/Sub1MJup/PDS 70.png\n",
      "Target 69: TOI-201, 870 Myr, 114 pc, kmag=7.8\n"
     ]
    },
    {
     "name": "stderr",
     "output_type": "stream",
     "text": [
      "/Users/connorvancil/Desktop/AstroResearch/contraster/testing/models.py:89: VisibleDeprecationWarning: Creating an ndarray from ragged nested sequences (which is a list-or-tuple of lists-or-tuples-or ndarrays with different lengths or shapes) is deprecated. If you meant to do this, you must specify 'dtype=object' when creating the ndarray.\n",
      "  return np.array(masses)[sorted_by_mass], np.array(age_list)[sorted_by_mass], np.array(mag_list)[sorted_by_mass]\n",
      "/Users/connorvancil/Desktop/AstroResearch/contraster/testing/models.py:319: RuntimeWarning: Mean of empty slice\n",
      "  masses = np.nanmean(np.vstack([atmo_mass_interp,bex_mass_interp]),axis=0)\n"
     ]
    },
    {
     "name": "stdout",
     "output_type": "stream",
     "text": [
      "Saving to ./FarOut_Figures/Sub10MJup/TOI-201.png\n",
      "Target 70: HD 25723, 950 Myr, 115 pc, kmag=3.0\n"
     ]
    },
    {
     "name": "stderr",
     "output_type": "stream",
     "text": [
      "/Users/connorvancil/Desktop/AstroResearch/contraster/testing/models.py:89: VisibleDeprecationWarning: Creating an ndarray from ragged nested sequences (which is a list-or-tuple of lists-or-tuples-or ndarrays with different lengths or shapes) is deprecated. If you meant to do this, you must specify 'dtype=object' when creating the ndarray.\n",
      "  return np.array(masses)[sorted_by_mass], np.array(age_list)[sorted_by_mass], np.array(mag_list)[sorted_by_mass]\n",
      "/Users/connorvancil/Desktop/AstroResearch/contraster/testing/models.py:319: RuntimeWarning: Mean of empty slice\n",
      "  masses = np.nanmean(np.vstack([atmo_mass_interp,bex_mass_interp]),axis=0)\n"
     ]
    },
    {
     "name": "stdout",
     "output_type": "stream",
     "text": [
      "Saving to ./FarOut_Figures/Others/HD 25723.png\n",
      "Target 71: WASP-59, 500 Myr, 116 pc, kmag=9.7\n"
     ]
    },
    {
     "name": "stderr",
     "output_type": "stream",
     "text": [
      "/Users/connorvancil/Desktop/AstroResearch/contraster/testing/models.py:89: VisibleDeprecationWarning: Creating an ndarray from ragged nested sequences (which is a list-or-tuple of lists-or-tuples-or ndarrays with different lengths or shapes) is deprecated. If you meant to do this, you must specify 'dtype=object' when creating the ndarray.\n",
      "  return np.array(masses)[sorted_by_mass], np.array(age_list)[sorted_by_mass], np.array(mag_list)[sorted_by_mass]\n",
      "/Users/connorvancil/Desktop/AstroResearch/contraster/testing/models.py:319: RuntimeWarning: Mean of empty slice\n",
      "  masses = np.nanmean(np.vstack([atmo_mass_interp,bex_mass_interp]),axis=0)\n"
     ]
    },
    {
     "name": "stdout",
     "output_type": "stream",
     "text": [
      "Saving to ./FarOut_Figures/Sub5MJup/WASP-59.png\n",
      "Target 72: TOI-2048, 300 Myr, 117 pc, kmag=9.4\n"
     ]
    },
    {
     "name": "stderr",
     "output_type": "stream",
     "text": [
      "/Users/connorvancil/Desktop/AstroResearch/contraster/testing/models.py:89: VisibleDeprecationWarning: Creating an ndarray from ragged nested sequences (which is a list-or-tuple of lists-or-tuples-or ndarrays with different lengths or shapes) is deprecated. If you meant to do this, you must specify 'dtype=object' when creating the ndarray.\n",
      "  return np.array(masses)[sorted_by_mass], np.array(age_list)[sorted_by_mass], np.array(mag_list)[sorted_by_mass]\n"
     ]
    },
    {
     "name": "stdout",
     "output_type": "stream",
     "text": [
      "Saving to ./FarOut_Figures/Sub5MJup/TOI-2048.png\n",
      "Target 73: WASP-140, 500 Myr, 118 pc, kmag=9.2\n"
     ]
    },
    {
     "name": "stderr",
     "output_type": "stream",
     "text": [
      "/Users/connorvancil/Desktop/AstroResearch/contraster/testing/models.py:89: VisibleDeprecationWarning: Creating an ndarray from ragged nested sequences (which is a list-or-tuple of lists-or-tuples-or ndarrays with different lengths or shapes) is deprecated. If you meant to do this, you must specify 'dtype=object' when creating the ndarray.\n",
      "  return np.array(masses)[sorted_by_mass], np.array(age_list)[sorted_by_mass], np.array(mag_list)[sorted_by_mass]\n",
      "/Users/connorvancil/Desktop/AstroResearch/contraster/testing/models.py:319: RuntimeWarning: Mean of empty slice\n",
      "  masses = np.nanmean(np.vstack([atmo_mass_interp,bex_mass_interp]),axis=0)\n"
     ]
    },
    {
     "name": "stdout",
     "output_type": "stream",
     "text": [
      "Saving to ./FarOut_Figures/Sub5MJup/WASP-140.png\n",
      "Target 74: TAP 26, 17 Myr, 121 pc, kmag=9.3\n"
     ]
    },
    {
     "name": "stderr",
     "output_type": "stream",
     "text": [
      "/Users/connorvancil/Desktop/AstroResearch/contraster/testing/models.py:89: VisibleDeprecationWarning: Creating an ndarray from ragged nested sequences (which is a list-or-tuple of lists-or-tuples-or ndarrays with different lengths or shapes) is deprecated. If you meant to do this, you must specify 'dtype=object' when creating the ndarray.\n",
      "  return np.array(masses)[sorted_by_mass], np.array(age_list)[sorted_by_mass], np.array(mag_list)[sorted_by_mass]\n"
     ]
    },
    {
     "name": "stdout",
     "output_type": "stream",
     "text": [
      "Saving to ./FarOut_Figures/Sub1MJup/TAP 26.png\n",
      "Target 75: WASP-132, 500 Myr, 123 pc, kmag=9.7\n"
     ]
    },
    {
     "name": "stderr",
     "output_type": "stream",
     "text": [
      "/Users/connorvancil/Desktop/AstroResearch/contraster/testing/models.py:89: VisibleDeprecationWarning: Creating an ndarray from ragged nested sequences (which is a list-or-tuple of lists-or-tuples-or ndarrays with different lengths or shapes) is deprecated. If you meant to do this, you must specify 'dtype=object' when creating the ndarray.\n",
      "  return np.array(masses)[sorted_by_mass], np.array(age_list)[sorted_by_mass], np.array(mag_list)[sorted_by_mass]\n",
      "/Users/connorvancil/Desktop/AstroResearch/contraster/testing/models.py:319: RuntimeWarning: Mean of empty slice\n",
      "  masses = np.nanmean(np.vstack([atmo_mass_interp,bex_mass_interp]),axis=0)\n"
     ]
    },
    {
     "name": "stdout",
     "output_type": "stream",
     "text": [
      "Saving to ./FarOut_Figures/Sub5MJup/WASP-132.png\n",
      "Target 76: WASP-18, 500 Myr, 124 pc, kmag=8.1\n"
     ]
    },
    {
     "name": "stderr",
     "output_type": "stream",
     "text": [
      "/Users/connorvancil/Desktop/AstroResearch/contraster/testing/models.py:89: VisibleDeprecationWarning: Creating an ndarray from ragged nested sequences (which is a list-or-tuple of lists-or-tuples-or ndarrays with different lengths or shapes) is deprecated. If you meant to do this, you must specify 'dtype=object' when creating the ndarray.\n",
      "  return np.array(masses)[sorted_by_mass], np.array(age_list)[sorted_by_mass], np.array(mag_list)[sorted_by_mass]\n",
      "/Users/connorvancil/Desktop/AstroResearch/contraster/testing/models.py:319: RuntimeWarning: Mean of empty slice\n",
      "  masses = np.nanmean(np.vstack([atmo_mass_interp,bex_mass_interp]),axis=0)\n"
     ]
    },
    {
     "name": "stdout",
     "output_type": "stream",
     "text": [
      "Saving to ./FarOut_Figures/Sub5MJup/WASP-18.png\n",
      "Target 77: TOI-451, 120 Myr, 124 pc, kmag=9.2\n"
     ]
    },
    {
     "name": "stderr",
     "output_type": "stream",
     "text": [
      "/Users/connorvancil/Desktop/AstroResearch/contraster/testing/models.py:89: VisibleDeprecationWarning: Creating an ndarray from ragged nested sequences (which is a list-or-tuple of lists-or-tuples-or ndarrays with different lengths or shapes) is deprecated. If you meant to do this, you must specify 'dtype=object' when creating the ndarray.\n",
      "  return np.array(masses)[sorted_by_mass], np.array(age_list)[sorted_by_mass], np.array(mag_list)[sorted_by_mass]\n"
     ]
    },
    {
     "name": "stdout",
     "output_type": "stream",
     "text": [
      "Saving to ./FarOut_Figures/Sub1MJup/TOI-451.png\n",
      "Target 78: Kepler-78, 625 Myr, 124 pc, kmag=9.6\n"
     ]
    },
    {
     "name": "stderr",
     "output_type": "stream",
     "text": [
      "/Users/connorvancil/Desktop/AstroResearch/contraster/testing/models.py:89: VisibleDeprecationWarning: Creating an ndarray from ragged nested sequences (which is a list-or-tuple of lists-or-tuples-or ndarrays with different lengths or shapes) is deprecated. If you meant to do this, you must specify 'dtype=object' when creating the ndarray.\n",
      "  return np.array(masses)[sorted_by_mass], np.array(age_list)[sorted_by_mass], np.array(mag_list)[sorted_by_mass]\n",
      "/Users/connorvancil/Desktop/AstroResearch/contraster/testing/models.py:319: RuntimeWarning: Mean of empty slice\n",
      "  masses = np.nanmean(np.vstack([atmo_mass_interp,bex_mass_interp]),axis=0)\n"
     ]
    },
    {
     "name": "stdout",
     "output_type": "stream",
     "text": [
      "Saving to ./FarOut_Figures/Sub5MJup/Kepler-78.png\n",
      "Target 79: HIP 75056, 12 Myr, 125 pc, kmag=7.3\n"
     ]
    },
    {
     "name": "stderr",
     "output_type": "stream",
     "text": [
      "/Users/connorvancil/Desktop/AstroResearch/contraster/testing/models.py:89: VisibleDeprecationWarning: Creating an ndarray from ragged nested sequences (which is a list-or-tuple of lists-or-tuples-or ndarrays with different lengths or shapes) is deprecated. If you meant to do this, you must specify 'dtype=object' when creating the ndarray.\n",
      "  return np.array(masses)[sorted_by_mass], np.array(age_list)[sorted_by_mass], np.array(mag_list)[sorted_by_mass]\n"
     ]
    },
    {
     "name": "stdout",
     "output_type": "stream",
     "text": [
      "Saving to ./FarOut_Figures/Sub1MJup/HIP 75056.png\n",
      "Target 80: HIP 67522, 17 Myr, 127 pc, kmag=8.2\n"
     ]
    },
    {
     "name": "stderr",
     "output_type": "stream",
     "text": [
      "/Users/connorvancil/Desktop/AstroResearch/contraster/testing/models.py:89: VisibleDeprecationWarning: Creating an ndarray from ragged nested sequences (which is a list-or-tuple of lists-or-tuples-or ndarrays with different lengths or shapes) is deprecated. If you meant to do this, you must specify 'dtype=object' when creating the ndarray.\n",
      "  return np.array(masses)[sorted_by_mass], np.array(age_list)[sorted_by_mass], np.array(mag_list)[sorted_by_mass]\n"
     ]
    },
    {
     "name": "stdout",
     "output_type": "stream",
     "text": [
      "Saving to ./FarOut_Figures/Sub1MJup/HIP 67522.png\n",
      "Target 81: HAT-P-2, 400 Myr, 128 pc, kmag=7.6\n"
     ]
    },
    {
     "name": "stderr",
     "output_type": "stream",
     "text": [
      "/Users/connorvancil/Desktop/AstroResearch/contraster/testing/models.py:89: VisibleDeprecationWarning: Creating an ndarray from ragged nested sequences (which is a list-or-tuple of lists-or-tuples-or ndarrays with different lengths or shapes) is deprecated. If you meant to do this, you must specify 'dtype=object' when creating the ndarray.\n",
      "  return np.array(masses)[sorted_by_mass], np.array(age_list)[sorted_by_mass], np.array(mag_list)[sorted_by_mass]\n",
      "/Users/connorvancil/Desktop/AstroResearch/contraster/testing/models.py:319: RuntimeWarning: Mean of empty slice\n",
      "  masses = np.nanmean(np.vstack([atmo_mass_interp,bex_mass_interp]),axis=0)\n"
     ]
    },
    {
     "name": "stdout",
     "output_type": "stream",
     "text": [
      "Saving to ./FarOut_Figures/Sub10MJup/HAT-P-2.png\n",
      "Target 82: V830 Tau, 2 Myr, 130 pc, kmag=8.4\n"
     ]
    },
    {
     "name": "stderr",
     "output_type": "stream",
     "text": [
      "/Users/connorvancil/Desktop/AstroResearch/contraster/testing/models.py:89: VisibleDeprecationWarning: Creating an ndarray from ragged nested sequences (which is a list-or-tuple of lists-or-tuples-or ndarrays with different lengths or shapes) is deprecated. If you meant to do this, you must specify 'dtype=object' when creating the ndarray.\n",
      "  return np.array(masses)[sorted_by_mass], np.array(age_list)[sorted_by_mass], np.array(mag_list)[sorted_by_mass]\n"
     ]
    },
    {
     "name": "stdout",
     "output_type": "stream",
     "text": [
      "Saving to ./FarOut_Figures/Sub1MJup/V830 Tau.png\n",
      "Target 83: HAT-P-3, 400 Myr, 135 pc, kmag=9.4\n"
     ]
    },
    {
     "name": "stderr",
     "output_type": "stream",
     "text": [
      "/Users/connorvancil/Desktop/AstroResearch/contraster/testing/models.py:89: VisibleDeprecationWarning: Creating an ndarray from ragged nested sequences (which is a list-or-tuple of lists-or-tuples-or ndarrays with different lengths or shapes) is deprecated. If you meant to do this, you must specify 'dtype=object' when creating the ndarray.\n",
      "  return np.array(masses)[sorted_by_mass], np.array(age_list)[sorted_by_mass], np.array(mag_list)[sorted_by_mass]\n",
      "/Users/connorvancil/Desktop/AstroResearch/contraster/testing/models.py:319: RuntimeWarning: Mean of empty slice\n",
      "  masses = np.nanmean(np.vstack([atmo_mass_interp,bex_mass_interp]),axis=0)\n"
     ]
    },
    {
     "name": "stdout",
     "output_type": "stream",
     "text": [
      "Saving to ./FarOut_Figures/Sub5MJup/HAT-P-3.png\n",
      "Target 84: DH Tau, 1 Myr, 135 pc, kmag=8.2\n"
     ]
    },
    {
     "name": "stderr",
     "output_type": "stream",
     "text": [
      "/Users/connorvancil/Desktop/AstroResearch/contraster/testing/models.py:89: VisibleDeprecationWarning: Creating an ndarray from ragged nested sequences (which is a list-or-tuple of lists-or-tuples-or ndarrays with different lengths or shapes) is deprecated. If you meant to do this, you must specify 'dtype=object' when creating the ndarray.\n",
      "  return np.array(masses)[sorted_by_mass], np.array(age_list)[sorted_by_mass], np.array(mag_list)[sorted_by_mass]\n"
     ]
    },
    {
     "name": "stdout",
     "output_type": "stream",
     "text": [
      "Saving to ./FarOut_Figures/Sub1MJup/DH Tau.png\n",
      "Target 85: KELT-20, 600 Myr, 136 pc, kmag=7.4\n"
     ]
    },
    {
     "name": "stderr",
     "output_type": "stream",
     "text": [
      "/Users/connorvancil/Desktop/AstroResearch/contraster/testing/models.py:89: VisibleDeprecationWarning: Creating an ndarray from ragged nested sequences (which is a list-or-tuple of lists-or-tuples-or ndarrays with different lengths or shapes) is deprecated. If you meant to do this, you must specify 'dtype=object' when creating the ndarray.\n",
      "  return np.array(masses)[sorted_by_mass], np.array(age_list)[sorted_by_mass], np.array(mag_list)[sorted_by_mass]\n",
      "/Users/connorvancil/Desktop/AstroResearch/contraster/testing/models.py:319: RuntimeWarning: Mean of empty slice\n",
      "  masses = np.nanmean(np.vstack([atmo_mass_interp,bex_mass_interp]),axis=0)\n"
     ]
    },
    {
     "name": "stdout",
     "output_type": "stream",
     "text": [
      "Saving to ./FarOut_Figures/Sub10MJup/KELT-20.png\n",
      "Target 86: ROXs 12, 8 Myr, 137 pc, kmag=9.1\n"
     ]
    },
    {
     "name": "stderr",
     "output_type": "stream",
     "text": [
      "/Users/connorvancil/Desktop/AstroResearch/contraster/testing/models.py:89: VisibleDeprecationWarning: Creating an ndarray from ragged nested sequences (which is a list-or-tuple of lists-or-tuples-or ndarrays with different lengths or shapes) is deprecated. If you meant to do this, you must specify 'dtype=object' when creating the ndarray.\n",
      "  return np.array(masses)[sorted_by_mass], np.array(age_list)[sorted_by_mass], np.array(mag_list)[sorted_by_mass]\n"
     ]
    },
    {
     "name": "stdout",
     "output_type": "stream",
     "text": [
      "Saving to ./FarOut_Figures/Sub1MJup/ROXs 12.png\n",
      "Target 87: HIP 78530, 10 Myr, 137 pc, kmag=6.9\n"
     ]
    },
    {
     "name": "stderr",
     "output_type": "stream",
     "text": [
      "/Users/connorvancil/Desktop/AstroResearch/contraster/testing/models.py:89: VisibleDeprecationWarning: Creating an ndarray from ragged nested sequences (which is a list-or-tuple of lists-or-tuples-or ndarrays with different lengths or shapes) is deprecated. If you meant to do this, you must specify 'dtype=object' when creating the ndarray.\n",
      "  return np.array(masses)[sorted_by_mass], np.array(age_list)[sorted_by_mass], np.array(mag_list)[sorted_by_mass]\n"
     ]
    },
    {
     "name": "stdout",
     "output_type": "stream",
     "text": [
      "Saving to ./FarOut_Figures/Sub5MJup/HIP 78530.png\n",
      "Target 88: HIP 78530, 10 Myr, 137 pc, kmag=6.9\n"
     ]
    },
    {
     "name": "stderr",
     "output_type": "stream",
     "text": [
      "/Users/connorvancil/Desktop/AstroResearch/contraster/testing/models.py:89: VisibleDeprecationWarning: Creating an ndarray from ragged nested sequences (which is a list-or-tuple of lists-or-tuples-or ndarrays with different lengths or shapes) is deprecated. If you meant to do this, you must specify 'dtype=object' when creating the ndarray.\n",
      "  return np.array(masses)[sorted_by_mass], np.array(age_list)[sorted_by_mass], np.array(mag_list)[sorted_by_mass]\n"
     ]
    },
    {
     "name": "stdout",
     "output_type": "stream",
     "text": [
      "Saving to ./FarOut_Figures/Sub5MJup/HIP 78530.png\n",
      "Target 89: USco1621 A, 7 Myr, 138 pc, kmag=10.2\n"
     ]
    },
    {
     "name": "stderr",
     "output_type": "stream",
     "text": [
      "/Users/connorvancil/Desktop/AstroResearch/contraster/testing/models.py:89: VisibleDeprecationWarning: Creating an ndarray from ragged nested sequences (which is a list-or-tuple of lists-or-tuples-or ndarrays with different lengths or shapes) is deprecated. If you meant to do this, you must specify 'dtype=object' when creating the ndarray.\n",
      "  return np.array(masses)[sorted_by_mass], np.array(age_list)[sorted_by_mass], np.array(mag_list)[sorted_by_mass]\n"
     ]
    },
    {
     "name": "stdout",
     "output_type": "stream",
     "text": [
      "Saving to ./FarOut_Figures/Sub1MJup/USco1621 A.png\n",
      "Target 90: 1RXS J160929.1-210524, 5 Myr, 139 pc, kmag=8.9\n"
     ]
    },
    {
     "name": "stderr",
     "output_type": "stream",
     "text": [
      "/Users/connorvancil/Desktop/AstroResearch/contraster/testing/models.py:89: VisibleDeprecationWarning: Creating an ndarray from ragged nested sequences (which is a list-or-tuple of lists-or-tuples-or ndarrays with different lengths or shapes) is deprecated. If you meant to do this, you must specify 'dtype=object' when creating the ndarray.\n",
      "  return np.array(masses)[sorted_by_mass], np.array(age_list)[sorted_by_mass], np.array(mag_list)[sorted_by_mass]\n"
     ]
    },
    {
     "name": "stdout",
     "output_type": "stream",
     "text": [
      "Saving to ./FarOut_Figures/Sub1MJup/1RXS J160929.1-210524.png\n",
      "Target 91: K2-33, 9 Myr, 139 pc, kmag=10.0\n"
     ]
    },
    {
     "name": "stderr",
     "output_type": "stream",
     "text": [
      "/Users/connorvancil/Desktop/AstroResearch/contraster/testing/models.py:89: VisibleDeprecationWarning: Creating an ndarray from ragged nested sequences (which is a list-or-tuple of lists-or-tuples-or ndarrays with different lengths or shapes) is deprecated. If you meant to do this, you must specify 'dtype=object' when creating the ndarray.\n",
      "  return np.array(masses)[sorted_by_mass], np.array(age_list)[sorted_by_mass], np.array(mag_list)[sorted_by_mass]\n"
     ]
    },
    {
     "name": "stdout",
     "output_type": "stream",
     "text": [
      "Saving to ./FarOut_Figures/Sub1MJup/K2-33.png\n",
      "Target 92: USco1556 A, 7 Myr, 141 pc, kmag=10.4\n"
     ]
    },
    {
     "name": "stderr",
     "output_type": "stream",
     "text": [
      "/Users/connorvancil/Desktop/AstroResearch/contraster/testing/models.py:89: VisibleDeprecationWarning: Creating an ndarray from ragged nested sequences (which is a list-or-tuple of lists-or-tuples-or ndarrays with different lengths or shapes) is deprecated. If you meant to do this, you must specify 'dtype=object' when creating the ndarray.\n",
      "  return np.array(masses)[sorted_by_mass], np.array(age_list)[sorted_by_mass], np.array(mag_list)[sorted_by_mass]\n"
     ]
    },
    {
     "name": "stdout",
     "output_type": "stream",
     "text": [
      "Saving to ./FarOut_Figures/Sub1MJup/USco1556 A.png\n",
      "Target 93: WASP-10, 600 Myr, 141 pc, kmag=10.0\n"
     ]
    },
    {
     "name": "stderr",
     "output_type": "stream",
     "text": [
      "/Users/connorvancil/Desktop/AstroResearch/contraster/testing/models.py:89: VisibleDeprecationWarning: Creating an ndarray from ragged nested sequences (which is a list-or-tuple of lists-or-tuples-or ndarrays with different lengths or shapes) is deprecated. If you meant to do this, you must specify 'dtype=object' when creating the ndarray.\n",
      "  return np.array(masses)[sorted_by_mass], np.array(age_list)[sorted_by_mass], np.array(mag_list)[sorted_by_mass]\n",
      "/Users/connorvancil/Desktop/AstroResearch/contraster/testing/models.py:319: RuntimeWarning: Mean of empty slice\n",
      "  masses = np.nanmean(np.vstack([atmo_mass_interp,bex_mass_interp]),axis=0)\n"
     ]
    },
    {
     "name": "stdout",
     "output_type": "stream",
     "text": [
      "Saving to ./FarOut_Figures/Sub5MJup/WASP-10.png\n",
      "Target 94: K2-77, 850 Myr, 142 pc, kmag=9.8\n"
     ]
    },
    {
     "name": "stderr",
     "output_type": "stream",
     "text": [
      "/Users/connorvancil/Desktop/AstroResearch/contraster/testing/models.py:89: VisibleDeprecationWarning: Creating an ndarray from ragged nested sequences (which is a list-or-tuple of lists-or-tuples-or ndarrays with different lengths or shapes) is deprecated. If you meant to do this, you must specify 'dtype=object' when creating the ndarray.\n",
      "  return np.array(masses)[sorted_by_mass], np.array(age_list)[sorted_by_mass], np.array(mag_list)[sorted_by_mass]\n",
      "/Users/connorvancil/Desktop/AstroResearch/contraster/testing/models.py:319: RuntimeWarning: Mean of empty slice\n",
      "  masses = np.nanmean(np.vstack([atmo_mass_interp,bex_mass_interp]),axis=0)\n"
     ]
    },
    {
     "name": "stdout",
     "output_type": "stream",
     "text": [
      "Saving to ./FarOut_Figures/Sub5MJup/K2-77.png\n",
      "Target 95: HD 14067, 690 Myr, 142 pc, kmag=4.1\n"
     ]
    },
    {
     "name": "stderr",
     "output_type": "stream",
     "text": [
      "/Users/connorvancil/Desktop/AstroResearch/contraster/testing/models.py:89: VisibleDeprecationWarning: Creating an ndarray from ragged nested sequences (which is a list-or-tuple of lists-or-tuples-or ndarrays with different lengths or shapes) is deprecated. If you meant to do this, you must specify 'dtype=object' when creating the ndarray.\n",
      "  return np.array(masses)[sorted_by_mass], np.array(age_list)[sorted_by_mass], np.array(mag_list)[sorted_by_mass]\n",
      "/Users/connorvancil/Desktop/AstroResearch/contraster/testing/models.py:319: RuntimeWarning: Mean of empty slice\n",
      "  masses = np.nanmean(np.vstack([atmo_mass_interp,bex_mass_interp]),axis=0)\n"
     ]
    },
    {
     "name": "stdout",
     "output_type": "stream",
     "text": [
      "Saving to ./FarOut_Figures/Others/HD 14067.png\n",
      "Target 96: TOI-837, 35 Myr, 142 pc, kmag=8.9\n"
     ]
    },
    {
     "name": "stderr",
     "output_type": "stream",
     "text": [
      "/Users/connorvancil/Desktop/AstroResearch/contraster/testing/models.py:89: VisibleDeprecationWarning: Creating an ndarray from ragged nested sequences (which is a list-or-tuple of lists-or-tuples-or ndarrays with different lengths or shapes) is deprecated. If you meant to do this, you must specify 'dtype=object' when creating the ndarray.\n",
      "  return np.array(masses)[sorted_by_mass], np.array(age_list)[sorted_by_mass], np.array(mag_list)[sorted_by_mass]\n"
     ]
    },
    {
     "name": "stdout",
     "output_type": "stream",
     "text": [
      "Saving to ./FarOut_Figures/Sub1MJup/TOI-837.png\n",
      "Target 97: ROXs 42 B, 3 Myr, 144 pc, kmag=8.7\n"
     ]
    },
    {
     "name": "stderr",
     "output_type": "stream",
     "text": [
      "/Users/connorvancil/Desktop/AstroResearch/contraster/testing/models.py:89: VisibleDeprecationWarning: Creating an ndarray from ragged nested sequences (which is a list-or-tuple of lists-or-tuples-or ndarrays with different lengths or shapes) is deprecated. If you meant to do this, you must specify 'dtype=object' when creating the ndarray.\n",
      "  return np.array(masses)[sorted_by_mass], np.array(age_list)[sorted_by_mass], np.array(mag_list)[sorted_by_mass]\n"
     ]
    },
    {
     "name": "stdout",
     "output_type": "stream",
     "text": [
      "Saving to ./FarOut_Figures/Sub1MJup/ROXs 42 B.png\n",
      "Target 98: UScoCTIO 108, 3 Myr, 144 pc, kmag=12.5\n"
     ]
    },
    {
     "name": "stderr",
     "output_type": "stream",
     "text": [
      "/Users/connorvancil/Desktop/AstroResearch/contraster/testing/models.py:89: VisibleDeprecationWarning: Creating an ndarray from ragged nested sequences (which is a list-or-tuple of lists-or-tuples-or ndarrays with different lengths or shapes) is deprecated. If you meant to do this, you must specify 'dtype=object' when creating the ndarray.\n",
      "  return np.array(masses)[sorted_by_mass], np.array(age_list)[sorted_by_mass], np.array(mag_list)[sorted_by_mass]\n"
     ]
    },
    {
     "name": "stdout",
     "output_type": "stream",
     "text": [
      "Saving to ./FarOut_Figures/Sub1MJup/UScoCTIO 108.png\n",
      "Target 99: HD 144844, 10 Myr, 146 pc, kmag=5.7\n"
     ]
    },
    {
     "name": "stderr",
     "output_type": "stream",
     "text": [
      "/Users/connorvancil/Desktop/AstroResearch/contraster/testing/models.py:89: VisibleDeprecationWarning: Creating an ndarray from ragged nested sequences (which is a list-or-tuple of lists-or-tuples-or ndarrays with different lengths or shapes) is deprecated. If you meant to do this, you must specify 'dtype=object' when creating the ndarray.\n",
      "  return np.array(masses)[sorted_by_mass], np.array(age_list)[sorted_by_mass], np.array(mag_list)[sorted_by_mass]\n"
     ]
    },
    {
     "name": "stdout",
     "output_type": "stream",
     "text": [
      "Saving to ./FarOut_Figures/Sub5MJup/HD 144844.png\n",
      "Target 100: TOI-1431, 290 Myr, 149 pc, kmag=7.4\n"
     ]
    },
    {
     "name": "stderr",
     "output_type": "stream",
     "text": [
      "/Users/connorvancil/Desktop/AstroResearch/contraster/testing/models.py:89: VisibleDeprecationWarning: Creating an ndarray from ragged nested sequences (which is a list-or-tuple of lists-or-tuples-or ndarrays with different lengths or shapes) is deprecated. If you meant to do this, you must specify 'dtype=object' when creating the ndarray.\n",
      "  return np.array(masses)[sorted_by_mass], np.array(age_list)[sorted_by_mass], np.array(mag_list)[sorted_by_mass]\n",
      "/Users/connorvancil/Desktop/AstroResearch/contraster/testing/models.py:319: RuntimeWarning: Mean of empty slice\n",
      "  masses = np.nanmean(np.vstack([atmo_mass_interp,bex_mass_interp]),axis=0)\n"
     ]
    },
    {
     "name": "stdout",
     "output_type": "stream",
     "text": [
      "Saving to ./FarOut_Figures/Sub10MJup/TOI-1431.png\n",
      "Target 101: GQ Lup, 1 Myr, 151 pc, kmag=7.1\n"
     ]
    },
    {
     "name": "stderr",
     "output_type": "stream",
     "text": [
      "/Users/connorvancil/Desktop/AstroResearch/contraster/testing/models.py:89: VisibleDeprecationWarning: Creating an ndarray from ragged nested sequences (which is a list-or-tuple of lists-or-tuples-or ndarrays with different lengths or shapes) is deprecated. If you meant to do this, you must specify 'dtype=object' when creating the ndarray.\n",
      "  return np.array(masses)[sorted_by_mass], np.array(age_list)[sorted_by_mass], np.array(mag_list)[sorted_by_mass]\n"
     ]
    },
    {
     "name": "stdout",
     "output_type": "stream",
     "text": [
      "Saving to ./FarOut_Figures/Sub1MJup/GQ Lup.png\n",
      "Target 102: TOI-942, 90 Myr, 153 pc, kmag=9.6\n"
     ]
    },
    {
     "name": "stderr",
     "output_type": "stream",
     "text": [
      "/Users/connorvancil/Desktop/AstroResearch/contraster/testing/models.py:89: VisibleDeprecationWarning: Creating an ndarray from ragged nested sequences (which is a list-or-tuple of lists-or-tuples-or ndarrays with different lengths or shapes) is deprecated. If you meant to do this, you must specify 'dtype=object' when creating the ndarray.\n",
      "  return np.array(masses)[sorted_by_mass], np.array(age_list)[sorted_by_mass], np.array(mag_list)[sorted_by_mass]\n"
     ]
    },
    {
     "name": "stdout",
     "output_type": "stream",
     "text": [
      "Saving to ./FarOut_Figures/Sub1MJup/TOI-942.png\n",
      "Target 103: Kepler-411, 212 Myr, 154 pc, kmag=10.1\n"
     ]
    },
    {
     "name": "stderr",
     "output_type": "stream",
     "text": [
      "/Users/connorvancil/Desktop/AstroResearch/contraster/testing/models.py:89: VisibleDeprecationWarning: Creating an ndarray from ragged nested sequences (which is a list-or-tuple of lists-or-tuples-or ndarrays with different lengths or shapes) is deprecated. If you meant to do this, you must specify 'dtype=object' when creating the ndarray.\n",
      "  return np.array(masses)[sorted_by_mass], np.array(age_list)[sorted_by_mass], np.array(mag_list)[sorted_by_mass]\n"
     ]
    },
    {
     "name": "stdout",
     "output_type": "stream",
     "text": [
      "Saving to ./FarOut_Figures/Sub5MJup/Kepler-411.png\n",
      "Target 104: CI Tau, 3 Myr, 158 pc, kmag=7.8\n"
     ]
    },
    {
     "name": "stderr",
     "output_type": "stream",
     "text": [
      "/Users/connorvancil/Desktop/AstroResearch/contraster/testing/models.py:89: VisibleDeprecationWarning: Creating an ndarray from ragged nested sequences (which is a list-or-tuple of lists-or-tuples-or ndarrays with different lengths or shapes) is deprecated. If you meant to do this, you must specify 'dtype=object' when creating the ndarray.\n",
      "  return np.array(masses)[sorted_by_mass], np.array(age_list)[sorted_by_mass], np.array(mag_list)[sorted_by_mass]\n"
     ]
    },
    {
     "name": "stdout",
     "output_type": "stream",
     "text": [
      "Saving to ./FarOut_Figures/Sub1MJup/CI Tau.png\n",
      "Target 105: WASP-14, 750 Myr, 162 pc, kmag=8.6\n"
     ]
    },
    {
     "name": "stderr",
     "output_type": "stream",
     "text": [
      "/Users/connorvancil/Desktop/AstroResearch/contraster/testing/models.py:89: VisibleDeprecationWarning: Creating an ndarray from ragged nested sequences (which is a list-or-tuple of lists-or-tuples-or ndarrays with different lengths or shapes) is deprecated. If you meant to do this, you must specify 'dtype=object' when creating the ndarray.\n",
      "  return np.array(masses)[sorted_by_mass], np.array(age_list)[sorted_by_mass], np.array(mag_list)[sorted_by_mass]\n",
      "/Users/connorvancil/Desktop/AstroResearch/contraster/testing/models.py:319: RuntimeWarning: Mean of empty slice\n",
      "  masses = np.nanmean(np.vstack([atmo_mass_interp,bex_mass_interp]),axis=0)\n"
     ]
    },
    {
     "name": "stdout",
     "output_type": "stream",
     "text": [
      "Saving to ./FarOut_Figures/Sub10MJup/WASP-14.png\n",
      "Target 106: AB Aur, 3 Myr, 162 pc, kmag=4.2\n"
     ]
    },
    {
     "name": "stderr",
     "output_type": "stream",
     "text": [
      "/Users/connorvancil/Desktop/AstroResearch/contraster/testing/models.py:89: VisibleDeprecationWarning: Creating an ndarray from ragged nested sequences (which is a list-or-tuple of lists-or-tuples-or ndarrays with different lengths or shapes) is deprecated. If you meant to do this, you must specify 'dtype=object' when creating the ndarray.\n",
      "  return np.array(masses)[sorted_by_mass], np.array(age_list)[sorted_by_mass], np.array(mag_list)[sorted_by_mass]\n",
      "/Users/connorvancil/Desktop/AstroResearch/contraster/testing/models.py:319: RuntimeWarning: Mean of empty slice\n",
      "  masses = np.nanmean(np.vstack([atmo_mass_interp,bex_mass_interp]),axis=0)\n"
     ]
    },
    {
     "name": "stdout",
     "output_type": "stream",
     "text": [
      "Saving to ./FarOut_Figures/Sub5MJup/AB Aur.png\n",
      "Target 107: XO-1, 900 Myr, 164 pc, kmag=9.5\n"
     ]
    },
    {
     "name": "stderr",
     "output_type": "stream",
     "text": [
      "/Users/connorvancil/Desktop/AstroResearch/contraster/testing/models.py:89: VisibleDeprecationWarning: Creating an ndarray from ragged nested sequences (which is a list-or-tuple of lists-or-tuples-or ndarrays with different lengths or shapes) is deprecated. If you meant to do this, you must specify 'dtype=object' when creating the ndarray.\n",
      "  return np.array(masses)[sorted_by_mass], np.array(age_list)[sorted_by_mass], np.array(mag_list)[sorted_by_mass]\n",
      "/Users/connorvancil/Desktop/AstroResearch/contraster/testing/models.py:319: RuntimeWarning: Mean of empty slice\n",
      "  masses = np.nanmean(np.vstack([atmo_mass_interp,bex_mass_interp]),axis=0)\n"
     ]
    },
    {
     "name": "stdout",
     "output_type": "stream",
     "text": [
      "Saving to ./FarOut_Figures/Sub5MJup/XO-1.png\n",
      "Target 108: MASCARA-4, 800 Myr, 171 pc, kmag=7.8\n"
     ]
    },
    {
     "name": "stderr",
     "output_type": "stream",
     "text": [
      "/Users/connorvancil/Desktop/AstroResearch/contraster/testing/models.py:89: VisibleDeprecationWarning: Creating an ndarray from ragged nested sequences (which is a list-or-tuple of lists-or-tuples-or ndarrays with different lengths or shapes) is deprecated. If you meant to do this, you must specify 'dtype=object' when creating the ndarray.\n",
      "  return np.array(masses)[sorted_by_mass], np.array(age_list)[sorted_by_mass], np.array(mag_list)[sorted_by_mass]\n",
      "/Users/connorvancil/Desktop/AstroResearch/contraster/testing/models.py:319: RuntimeWarning: Mean of empty slice\n",
      "  masses = np.nanmean(np.vstack([atmo_mass_interp,bex_mass_interp]),axis=0)\n"
     ]
    },
    {
     "name": "stdout",
     "output_type": "stream",
     "text": [
      "Saving to ./FarOut_Figures/Others/MASCARA-4.png\n",
      "Target 109: WASP-52, 400 Myr, 175 pc, kmag=10.1\n"
     ]
    },
    {
     "name": "stderr",
     "output_type": "stream",
     "text": [
      "/Users/connorvancil/Desktop/AstroResearch/contraster/testing/models.py:89: VisibleDeprecationWarning: Creating an ndarray from ragged nested sequences (which is a list-or-tuple of lists-or-tuples-or ndarrays with different lengths or shapes) is deprecated. If you meant to do this, you must specify 'dtype=object' when creating the ndarray.\n",
      "  return np.array(masses)[sorted_by_mass], np.array(age_list)[sorted_by_mass], np.array(mag_list)[sorted_by_mass]\n",
      "/Users/connorvancil/Desktop/AstroResearch/contraster/testing/models.py:319: RuntimeWarning: Mean of empty slice\n",
      "  masses = np.nanmean(np.vstack([atmo_mass_interp,bex_mass_interp]),axis=0)\n"
     ]
    },
    {
     "name": "stdout",
     "output_type": "stream",
     "text": [
      "Saving to ./FarOut_Figures/Sub5MJup/WASP-52.png\n",
      "Target 110: WASP-62, 800 Myr, 176 pc, kmag=8.9\n"
     ]
    },
    {
     "name": "stderr",
     "output_type": "stream",
     "text": [
      "/Users/connorvancil/Desktop/AstroResearch/contraster/testing/models.py:89: VisibleDeprecationWarning: Creating an ndarray from ragged nested sequences (which is a list-or-tuple of lists-or-tuples-or ndarrays with different lengths or shapes) is deprecated. If you meant to do this, you must specify 'dtype=object' when creating the ndarray.\n",
      "  return np.array(masses)[sorted_by_mass], np.array(age_list)[sorted_by_mass], np.array(mag_list)[sorted_by_mass]\n",
      "/Users/connorvancil/Desktop/AstroResearch/contraster/testing/models.py:319: RuntimeWarning: Mean of empty slice\n",
      "  masses = np.nanmean(np.vstack([atmo_mass_interp,bex_mass_interp]),axis=0)\n"
     ]
    },
    {
     "name": "stdout",
     "output_type": "stream",
     "text": [
      "Saving to ./FarOut_Figures/Sub10MJup/WASP-62.png\n",
      "Target 111: K2-95, 790 Myr, 180 pc, kmag=12.4\n"
     ]
    },
    {
     "name": "stderr",
     "output_type": "stream",
     "text": [
      "/Users/connorvancil/Desktop/AstroResearch/contraster/testing/models.py:89: VisibleDeprecationWarning: Creating an ndarray from ragged nested sequences (which is a list-or-tuple of lists-or-tuples-or ndarrays with different lengths or shapes) is deprecated. If you meant to do this, you must specify 'dtype=object' when creating the ndarray.\n",
      "  return np.array(masses)[sorted_by_mass], np.array(age_list)[sorted_by_mass], np.array(mag_list)[sorted_by_mass]\n",
      "/Users/connorvancil/Desktop/AstroResearch/contraster/testing/models.py:319: RuntimeWarning: Mean of empty slice\n",
      "  masses = np.nanmean(np.vstack([atmo_mass_interp,bex_mass_interp]),axis=0)\n"
     ]
    },
    {
     "name": "stdout",
     "output_type": "stream",
     "text": [
      "Saving to ./FarOut_Figures/Sub5MJup/K2-95.png\n",
      "Target 112: K2-95, 790 Myr, 180 pc, kmag=12.4\n"
     ]
    },
    {
     "name": "stderr",
     "output_type": "stream",
     "text": [
      "/Users/connorvancil/Desktop/AstroResearch/contraster/testing/models.py:89: VisibleDeprecationWarning: Creating an ndarray from ragged nested sequences (which is a list-or-tuple of lists-or-tuples-or ndarrays with different lengths or shapes) is deprecated. If you meant to do this, you must specify 'dtype=object' when creating the ndarray.\n",
      "  return np.array(masses)[sorted_by_mass], np.array(age_list)[sorted_by_mass], np.array(mag_list)[sorted_by_mass]\n",
      "/Users/connorvancil/Desktop/AstroResearch/contraster/testing/models.py:319: RuntimeWarning: Mean of empty slice\n",
      "  masses = np.nanmean(np.vstack([atmo_mass_interp,bex_mass_interp]),axis=0)\n"
     ]
    },
    {
     "name": "stdout",
     "output_type": "stream",
     "text": [
      "Saving to ./FarOut_Figures/Sub5MJup/K2-95.png\n",
      "Target 113: Cl* NGC 2632 JC 278, 578 Myr, 183 pc, kmag=10.2\n"
     ]
    },
    {
     "name": "stderr",
     "output_type": "stream",
     "text": [
      "/Users/connorvancil/Desktop/AstroResearch/contraster/testing/models.py:89: VisibleDeprecationWarning: Creating an ndarray from ragged nested sequences (which is a list-or-tuple of lists-or-tuples-or ndarrays with different lengths or shapes) is deprecated. If you meant to do this, you must specify 'dtype=object' when creating the ndarray.\n",
      "  return np.array(masses)[sorted_by_mass], np.array(age_list)[sorted_by_mass], np.array(mag_list)[sorted_by_mass]\n",
      "/Users/connorvancil/Desktop/AstroResearch/contraster/testing/models.py:319: RuntimeWarning: Mean of empty slice\n",
      "  masses = np.nanmean(np.vstack([atmo_mass_interp,bex_mass_interp]),axis=0)\n"
     ]
    },
    {
     "name": "stdout",
     "output_type": "stream",
     "text": [
      "Saving to ./FarOut_Figures/Sub5MJup/Cl* NGC 2632 JC 278.png\n",
      "Target 114: HD 97048, 3 Myr, 184 pc, kmag=5.9\n"
     ]
    },
    {
     "name": "stderr",
     "output_type": "stream",
     "text": [
      "/Users/connorvancil/Desktop/AstroResearch/contraster/testing/models.py:89: VisibleDeprecationWarning: Creating an ndarray from ragged nested sequences (which is a list-or-tuple of lists-or-tuples-or ndarrays with different lengths or shapes) is deprecated. If you meant to do this, you must specify 'dtype=object' when creating the ndarray.\n",
      "  return np.array(masses)[sorted_by_mass], np.array(age_list)[sorted_by_mass], np.array(mag_list)[sorted_by_mass]\n",
      "/Users/connorvancil/Desktop/AstroResearch/contraster/testing/models.py:319: RuntimeWarning: Mean of empty slice\n",
      "  masses = np.nanmean(np.vstack([atmo_mass_interp,bex_mass_interp]),axis=0)\n"
     ]
    },
    {
     "name": "stdout",
     "output_type": "stream",
     "text": [
      "Saving to ./FarOut_Figures/Sub5MJup/HD 97048.png\n",
      "Target 115: EPIC 211822797, 790 Myr, 186 pc, kmag=11.4\n"
     ]
    },
    {
     "name": "stderr",
     "output_type": "stream",
     "text": [
      "/Users/connorvancil/Desktop/AstroResearch/contraster/testing/models.py:89: VisibleDeprecationWarning: Creating an ndarray from ragged nested sequences (which is a list-or-tuple of lists-or-tuples-or ndarrays with different lengths or shapes) is deprecated. If you meant to do this, you must specify 'dtype=object' when creating the ndarray.\n",
      "  return np.array(masses)[sorted_by_mass], np.array(age_list)[sorted_by_mass], np.array(mag_list)[sorted_by_mass]\n",
      "/Users/connorvancil/Desktop/AstroResearch/contraster/testing/models.py:319: RuntimeWarning: Mean of empty slice\n",
      "  masses = np.nanmean(np.vstack([atmo_mass_interp,bex_mass_interp]),axis=0)\n"
     ]
    },
    {
     "name": "stdout",
     "output_type": "stream",
     "text": [
      "Saving to ./FarOut_Figures/Sub5MJup/EPIC 211822797.png\n",
      "Target 116: K2-102, 790 Myr, 188 pc, kmag=10.6\n"
     ]
    },
    {
     "name": "stderr",
     "output_type": "stream",
     "text": [
      "/Users/connorvancil/Desktop/AstroResearch/contraster/testing/models.py:89: VisibleDeprecationWarning: Creating an ndarray from ragged nested sequences (which is a list-or-tuple of lists-or-tuples-or ndarrays with different lengths or shapes) is deprecated. If you meant to do this, you must specify 'dtype=object' when creating the ndarray.\n",
      "  return np.array(masses)[sorted_by_mass], np.array(age_list)[sorted_by_mass], np.array(mag_list)[sorted_by_mass]\n",
      "/Users/connorvancil/Desktop/AstroResearch/contraster/testing/models.py:319: RuntimeWarning: Mean of empty slice\n",
      "  masses = np.nanmean(np.vstack([atmo_mass_interp,bex_mass_interp]),axis=0)\n"
     ]
    },
    {
     "name": "stdout",
     "output_type": "stream",
     "text": [
      "Saving to ./FarOut_Figures/Sub5MJup/K2-102.png\n",
      "Target 117: K2-101, 790 Myr, 188 pc, kmag=10.5\n"
     ]
    },
    {
     "name": "stderr",
     "output_type": "stream",
     "text": [
      "/Users/connorvancil/Desktop/AstroResearch/contraster/testing/models.py:89: VisibleDeprecationWarning: Creating an ndarray from ragged nested sequences (which is a list-or-tuple of lists-or-tuples-or ndarrays with different lengths or shapes) is deprecated. If you meant to do this, you must specify 'dtype=object' when creating the ndarray.\n",
      "  return np.array(masses)[sorted_by_mass], np.array(age_list)[sorted_by_mass], np.array(mag_list)[sorted_by_mass]\n",
      "/Users/connorvancil/Desktop/AstroResearch/contraster/testing/models.py:319: RuntimeWarning: Mean of empty slice\n",
      "  masses = np.nanmean(np.vstack([atmo_mass_interp,bex_mass_interp]),axis=0)\n"
     ]
    },
    {
     "name": "stdout",
     "output_type": "stream",
     "text": [
      "Saving to ./FarOut_Figures/Sub5MJup/K2-101.png\n",
      "Target 118: K2-100, 750 Myr, 189 pc, kmag=9.2\n"
     ]
    },
    {
     "name": "stderr",
     "output_type": "stream",
     "text": [
      "/Users/connorvancil/Desktop/AstroResearch/contraster/testing/models.py:89: VisibleDeprecationWarning: Creating an ndarray from ragged nested sequences (which is a list-or-tuple of lists-or-tuples-or ndarrays with different lengths or shapes) is deprecated. If you meant to do this, you must specify 'dtype=object' when creating the ndarray.\n",
      "  return np.array(masses)[sorted_by_mass], np.array(age_list)[sorted_by_mass], np.array(mag_list)[sorted_by_mass]\n",
      "/Users/connorvancil/Desktop/AstroResearch/contraster/testing/models.py:319: RuntimeWarning: Mean of empty slice\n",
      "  masses = np.nanmean(np.vstack([atmo_mass_interp,bex_mass_interp]),axis=0)\n"
     ]
    },
    {
     "name": "stdout",
     "output_type": "stream",
     "text": [
      "Saving to ./FarOut_Figures/Sub10MJup/K2-100.png\n",
      "Target 119: K2-104, 790 Myr, 189 pc, kmag=12.0\n"
     ]
    },
    {
     "name": "stderr",
     "output_type": "stream",
     "text": [
      "/Users/connorvancil/Desktop/AstroResearch/contraster/testing/models.py:89: VisibleDeprecationWarning: Creating an ndarray from ragged nested sequences (which is a list-or-tuple of lists-or-tuples-or ndarrays with different lengths or shapes) is deprecated. If you meant to do this, you must specify 'dtype=object' when creating the ndarray.\n",
      "  return np.array(masses)[sorted_by_mass], np.array(age_list)[sorted_by_mass], np.array(mag_list)[sorted_by_mass]\n",
      "/Users/connorvancil/Desktop/AstroResearch/contraster/testing/models.py:319: RuntimeWarning: Mean of empty slice\n",
      "  masses = np.nanmean(np.vstack([atmo_mass_interp,bex_mass_interp]),axis=0)\n"
     ]
    },
    {
     "name": "stdout",
     "output_type": "stream",
     "text": [
      "Saving to ./FarOut_Figures/Sub5MJup/K2-104.png\n",
      "Target 120: CHXR 73, 2 Myr, 190 pc, kmag=10.7\n"
     ]
    },
    {
     "name": "stderr",
     "output_type": "stream",
     "text": [
      "/Users/connorvancil/Desktop/AstroResearch/contraster/testing/models.py:89: VisibleDeprecationWarning: Creating an ndarray from ragged nested sequences (which is a list-or-tuple of lists-or-tuples-or ndarrays with different lengths or shapes) is deprecated. If you meant to do this, you must specify 'dtype=object' when creating the ndarray.\n",
      "  return np.array(masses)[sorted_by_mass], np.array(age_list)[sorted_by_mass], np.array(mag_list)[sorted_by_mass]\n"
     ]
    },
    {
     "name": "stdout",
     "output_type": "stream",
     "text": [
      "Saving to ./FarOut_Figures/Sub1MJup/CHXR 73.png\n",
      "Target 121: CT Cha, 2 Myr, 191 pc, kmag=8.7\n"
     ]
    },
    {
     "name": "stderr",
     "output_type": "stream",
     "text": [
      "/Users/connorvancil/Desktop/AstroResearch/contraster/testing/models.py:89: VisibleDeprecationWarning: Creating an ndarray from ragged nested sequences (which is a list-or-tuple of lists-or-tuples-or ndarrays with different lengths or shapes) is deprecated. If you meant to do this, you must specify 'dtype=object' when creating the ndarray.\n",
      "  return np.array(masses)[sorted_by_mass], np.array(age_list)[sorted_by_mass], np.array(mag_list)[sorted_by_mass]\n"
     ]
    },
    {
     "name": "stdout",
     "output_type": "stream",
     "text": [
      "Saving to ./FarOut_Figures/Sub1MJup/CT Cha.png\n",
      "Target 122: Kepler-63, 210 Myr, 194 pc, kmag=10.0\n"
     ]
    },
    {
     "name": "stderr",
     "output_type": "stream",
     "text": [
      "/Users/connorvancil/Desktop/AstroResearch/contraster/testing/models.py:89: VisibleDeprecationWarning: Creating an ndarray from ragged nested sequences (which is a list-or-tuple of lists-or-tuples-or ndarrays with different lengths or shapes) is deprecated. If you meant to do this, you must specify 'dtype=object' when creating the ndarray.\n",
      "  return np.array(masses)[sorted_by_mass], np.array(age_list)[sorted_by_mass], np.array(mag_list)[sorted_by_mass]\n",
      "/Users/connorvancil/Desktop/AstroResearch/contraster/testing/models.py:319: RuntimeWarning: Mean of empty slice\n",
      "  masses = np.nanmean(np.vstack([atmo_mass_interp,bex_mass_interp]),axis=0)\n"
     ]
    },
    {
     "name": "stdout",
     "output_type": "stream",
     "text": [
      "Saving to ./FarOut_Figures/Sub5MJup/Kepler-63.png\n",
      "Target 123: K2-105, 600 Myr, 198 pc, kmag=10.1\n"
     ]
    },
    {
     "name": "stderr",
     "output_type": "stream",
     "text": [
      "/Users/connorvancil/Desktop/AstroResearch/contraster/testing/models.py:89: VisibleDeprecationWarning: Creating an ndarray from ragged nested sequences (which is a list-or-tuple of lists-or-tuples-or ndarrays with different lengths or shapes) is deprecated. If you meant to do this, you must specify 'dtype=object' when creating the ndarray.\n",
      "  return np.array(masses)[sorted_by_mass], np.array(age_list)[sorted_by_mass], np.array(mag_list)[sorted_by_mass]\n",
      "/Users/connorvancil/Desktop/AstroResearch/contraster/testing/models.py:319: RuntimeWarning: Mean of empty slice\n",
      "  masses = np.nanmean(np.vstack([atmo_mass_interp,bex_mass_interp]),axis=0)\n"
     ]
    },
    {
     "name": "stdout",
     "output_type": "stream",
     "text": [
      "Saving to ./FarOut_Figures/Sub5MJup/K2-105.png\n",
      "Target 124: WASP-101, 900 Myr, 201 pc, kmag=9.1\n"
     ]
    },
    {
     "name": "stderr",
     "output_type": "stream",
     "text": [
      "/Users/connorvancil/Desktop/AstroResearch/contraster/testing/models.py:89: VisibleDeprecationWarning: Creating an ndarray from ragged nested sequences (which is a list-or-tuple of lists-or-tuples-or ndarrays with different lengths or shapes) is deprecated. If you meant to do this, you must specify 'dtype=object' when creating the ndarray.\n",
      "  return np.array(masses)[sorted_by_mass], np.array(age_list)[sorted_by_mass], np.array(mag_list)[sorted_by_mass]\n",
      "/Users/connorvancil/Desktop/AstroResearch/contraster/testing/models.py:319: RuntimeWarning: Mean of empty slice\n",
      "  masses = np.nanmean(np.vstack([atmo_mass_interp,bex_mass_interp]),axis=0)\n"
     ]
    },
    {
     "name": "stdout",
     "output_type": "stream",
     "text": [
      "Saving to ./FarOut_Figures/Sub10MJup/WASP-101.png\n",
      "Target 125: KELT-9, 300 Myr, 204 pc, kmag=7.5\n"
     ]
    },
    {
     "name": "stderr",
     "output_type": "stream",
     "text": [
      "/Users/connorvancil/Desktop/AstroResearch/contraster/testing/models.py:89: VisibleDeprecationWarning: Creating an ndarray from ragged nested sequences (which is a list-or-tuple of lists-or-tuples-or ndarrays with different lengths or shapes) is deprecated. If you meant to do this, you must specify 'dtype=object' when creating the ndarray.\n",
      "  return np.array(masses)[sorted_by_mass], np.array(age_list)[sorted_by_mass], np.array(mag_list)[sorted_by_mass]\n",
      "/Users/connorvancil/Desktop/AstroResearch/contraster/testing/models.py:319: RuntimeWarning: Mean of empty slice\n",
      "  masses = np.nanmean(np.vstack([atmo_mass_interp,bex_mass_interp]),axis=0)\n"
     ]
    },
    {
     "name": "stdout",
     "output_type": "stream",
     "text": [
      "Saving to ./FarOut_Figures/Sub10MJup/KELT-9.png\n",
      "Target 126: WASP-25, 100 Myr, 211 pc, kmag=10.2\n"
     ]
    },
    {
     "name": "stderr",
     "output_type": "stream",
     "text": [
      "/Users/connorvancil/Desktop/AstroResearch/contraster/testing/models.py:89: VisibleDeprecationWarning: Creating an ndarray from ragged nested sequences (which is a list-or-tuple of lists-or-tuples-or ndarrays with different lengths or shapes) is deprecated. If you meant to do this, you must specify 'dtype=object' when creating the ndarray.\n",
      "  return np.array(masses)[sorted_by_mass], np.array(age_list)[sorted_by_mass], np.array(mag_list)[sorted_by_mass]\n"
     ]
    },
    {
     "name": "stdout",
     "output_type": "stream",
     "text": [
      "Saving to ./FarOut_Figures/Sub1MJup/WASP-25.png\n",
      "Target 127: WASP-139, 500 Myr, 212 pc, kmag=10.5\n"
     ]
    },
    {
     "name": "stderr",
     "output_type": "stream",
     "text": [
      "/Users/connorvancil/Desktop/AstroResearch/contraster/testing/models.py:89: VisibleDeprecationWarning: Creating an ndarray from ragged nested sequences (which is a list-or-tuple of lists-or-tuples-or ndarrays with different lengths or shapes) is deprecated. If you meant to do this, you must specify 'dtype=object' when creating the ndarray.\n",
      "  return np.array(masses)[sorted_by_mass], np.array(age_list)[sorted_by_mass], np.array(mag_list)[sorted_by_mass]\n",
      "/Users/connorvancil/Desktop/AstroResearch/contraster/testing/models.py:319: RuntimeWarning: Mean of empty slice\n",
      "  masses = np.nanmean(np.vstack([atmo_mass_interp,bex_mass_interp]),axis=0)\n"
     ]
    },
    {
     "name": "stdout",
     "output_type": "stream",
     "text": [
      "Saving to ./FarOut_Figures/Sub5MJup/WASP-139.png\n",
      "Target 128: CoRoT-2, 600 Myr, 213 pc, kmag=10.3\n"
     ]
    },
    {
     "name": "stderr",
     "output_type": "stream",
     "text": [
      "/Users/connorvancil/Desktop/AstroResearch/contraster/testing/models.py:89: VisibleDeprecationWarning: Creating an ndarray from ragged nested sequences (which is a list-or-tuple of lists-or-tuples-or ndarrays with different lengths or shapes) is deprecated. If you meant to do this, you must specify 'dtype=object' when creating the ndarray.\n",
      "  return np.array(masses)[sorted_by_mass], np.array(age_list)[sorted_by_mass], np.array(mag_list)[sorted_by_mass]\n",
      "/Users/connorvancil/Desktop/AstroResearch/contraster/testing/models.py:319: RuntimeWarning: Mean of empty slice\n",
      "  masses = np.nanmean(np.vstack([atmo_mass_interp,bex_mass_interp]),axis=0)\n"
     ]
    },
    {
     "name": "stdout",
     "output_type": "stream",
     "text": [
      "Saving to ./FarOut_Figures/Sub5MJup/CoRoT-2.png\n",
      "Target 129: KELT-17, 650 Myr, 226 pc, kmag=8.6\n"
     ]
    },
    {
     "name": "stderr",
     "output_type": "stream",
     "text": [
      "/Users/connorvancil/Desktop/AstroResearch/contraster/testing/models.py:89: VisibleDeprecationWarning: Creating an ndarray from ragged nested sequences (which is a list-or-tuple of lists-or-tuples-or ndarrays with different lengths or shapes) is deprecated. If you meant to do this, you must specify 'dtype=object' when creating the ndarray.\n",
      "  return np.array(masses)[sorted_by_mass], np.array(age_list)[sorted_by_mass], np.array(mag_list)[sorted_by_mass]\n",
      "/Users/connorvancil/Desktop/AstroResearch/contraster/testing/models.py:319: RuntimeWarning: Mean of empty slice\n",
      "  masses = np.nanmean(np.vstack([atmo_mass_interp,bex_mass_interp]),axis=0)\n"
     ]
    },
    {
     "name": "stdout",
     "output_type": "stream",
     "text": [
      "Saving to ./FarOut_Figures/Sub10MJup/KELT-17.png\n",
      "Target 130: TrES-3, 900 Myr, 231 pc, kmag=--\n"
     ]
    },
    {
     "name": "stderr",
     "output_type": "stream",
     "text": [
      "<ipython-input-47-ebbd80bc88e5>:10: FutureWarning: Format strings passed to MaskedConstant are ignored, but in future may error or produce different behavior\n",
      "  print(\"Target {}: {}, {} Myr, {:.0f} pc, kmag={:.1f}\".format(i,target,age,distance,kmag))\n",
      "/Users/connorvancil/Desktop/AstroResearch/contraster/testing/models.py:89: VisibleDeprecationWarning: Creating an ndarray from ragged nested sequences (which is a list-or-tuple of lists-or-tuples-or ndarrays with different lengths or shapes) is deprecated. If you meant to do this, you must specify 'dtype=object' when creating the ndarray.\n",
      "  return np.array(masses)[sorted_by_mass], np.array(age_list)[sorted_by_mass], np.array(mag_list)[sorted_by_mass]\n",
      "/Users/connorvancil/Desktop/AstroResearch/contraster/testing/models.py:319: RuntimeWarning: Mean of empty slice\n",
      "  masses = np.nanmean(np.vstack([atmo_mass_interp,bex_mass_interp]),axis=0)\n",
      "<ipython-input-47-ebbd80bc88e5>:49: FutureWarning: Format strings passed to MaskedConstant are ignored, but in future may error or produce different behavior\n",
      "  plt.title(\"{}, {} Myr, {} pc, kmag={:.1f}, Mass at 1arcsec: {:.1f}\".format(target,age,distance,kmag,mass_limits[23]))\n"
     ]
    },
    {
     "name": "stdout",
     "output_type": "stream",
     "text": [
      "Saving to ./FarOut_Figures/Others/TrES-3.png\n",
      "Target 131: Kepler-352, 600 Myr, 253 pc, kmag=11.1\n"
     ]
    },
    {
     "name": "stderr",
     "output_type": "stream",
     "text": [
      "/Users/connorvancil/Desktop/AstroResearch/contraster/testing/models.py:89: VisibleDeprecationWarning: Creating an ndarray from ragged nested sequences (which is a list-or-tuple of lists-or-tuples-or ndarrays with different lengths or shapes) is deprecated. If you meant to do this, you must specify 'dtype=object' when creating the ndarray.\n",
      "  return np.array(masses)[sorted_by_mass], np.array(age_list)[sorted_by_mass], np.array(mag_list)[sorted_by_mass]\n",
      "/Users/connorvancil/Desktop/AstroResearch/contraster/testing/models.py:319: RuntimeWarning: Mean of empty slice\n",
      "  masses = np.nanmean(np.vstack([atmo_mass_interp,bex_mass_interp]),axis=0)\n"
     ]
    },
    {
     "name": "stdout",
     "output_type": "stream",
     "text": [
      "Saving to ./FarOut_Figures/Sub5MJup/Kepler-352.png\n",
      "Target 132: KOI-7368, 36 Myr, 265 pc, kmag=10.8\n"
     ]
    },
    {
     "name": "stderr",
     "output_type": "stream",
     "text": [
      "/Users/connorvancil/Desktop/AstroResearch/contraster/testing/models.py:89: VisibleDeprecationWarning: Creating an ndarray from ragged nested sequences (which is a list-or-tuple of lists-or-tuples-or ndarrays with different lengths or shapes) is deprecated. If you meant to do this, you must specify 'dtype=object' when creating the ndarray.\n",
      "  return np.array(masses)[sorted_by_mass], np.array(age_list)[sorted_by_mass], np.array(mag_list)[sorted_by_mass]\n"
     ]
    },
    {
     "name": "stdout",
     "output_type": "stream",
     "text": [
      "Saving to ./FarOut_Figures/Sub1MJup/KOI-7368.png\n",
      "Target 133: HD 81817, 150 Myr, 269 pc, kmag=0.8\n"
     ]
    },
    {
     "name": "stderr",
     "output_type": "stream",
     "text": [
      "/Users/connorvancil/Desktop/AstroResearch/contraster/testing/models.py:89: VisibleDeprecationWarning: Creating an ndarray from ragged nested sequences (which is a list-or-tuple of lists-or-tuples-or ndarrays with different lengths or shapes) is deprecated. If you meant to do this, you must specify 'dtype=object' when creating the ndarray.\n",
      "  return np.array(masses)[sorted_by_mass], np.array(age_list)[sorted_by_mass], np.array(mag_list)[sorted_by_mass]\n",
      "/Users/connorvancil/Desktop/AstroResearch/contraster/testing/models.py:319: RuntimeWarning: Mean of empty slice\n",
      "  masses = np.nanmean(np.vstack([atmo_mass_interp,bex_mass_interp]),axis=0)\n"
     ]
    },
    {
     "name": "stdout",
     "output_type": "stream",
     "text": [
      "Saving to ./FarOut_Figures/Others/HD 81817.png\n",
      "Target 134: KOI-7913, 36 Myr, 271 pc, kmag=--\n"
     ]
    },
    {
     "name": "stderr",
     "output_type": "stream",
     "text": [
      "<ipython-input-47-ebbd80bc88e5>:10: FutureWarning: Format strings passed to MaskedConstant are ignored, but in future may error or produce different behavior\n",
      "  print(\"Target {}: {}, {} Myr, {:.0f} pc, kmag={:.1f}\".format(i,target,age,distance,kmag))\n",
      "/Users/connorvancil/Desktop/AstroResearch/contraster/testing/models.py:89: VisibleDeprecationWarning: Creating an ndarray from ragged nested sequences (which is a list-or-tuple of lists-or-tuples-or ndarrays with different lengths or shapes) is deprecated. If you meant to do this, you must specify 'dtype=object' when creating the ndarray.\n",
      "  return np.array(masses)[sorted_by_mass], np.array(age_list)[sorted_by_mass], np.array(mag_list)[sorted_by_mass]\n",
      "/Users/connorvancil/Desktop/AstroResearch/contraster/testing/models.py:319: RuntimeWarning: Mean of empty slice\n",
      "  masses = np.nanmean(np.vstack([atmo_mass_interp,bex_mass_interp]),axis=0)\n",
      "<ipython-input-47-ebbd80bc88e5>:49: FutureWarning: Format strings passed to MaskedConstant are ignored, but in future may error or produce different behavior\n",
      "  plt.title(\"{}, {} Myr, {} pc, kmag={:.1f}, Mass at 1arcsec: {:.1f}\".format(target,age,distance,kmag,mass_limits[23]))\n"
     ]
    },
    {
     "name": "stdout",
     "output_type": "stream",
     "text": [
      "Saving to ./FarOut_Figures/Others/KOI-7913.png\n",
      "Target 135: HD 56414, 420 Myr, 272 pc, kmag=8.8\n"
     ]
    },
    {
     "name": "stderr",
     "output_type": "stream",
     "text": [
      "/Users/connorvancil/Desktop/AstroResearch/contraster/testing/models.py:89: VisibleDeprecationWarning: Creating an ndarray from ragged nested sequences (which is a list-or-tuple of lists-or-tuples-or ndarrays with different lengths or shapes) is deprecated. If you meant to do this, you must specify 'dtype=object' when creating the ndarray.\n",
      "  return np.array(masses)[sorted_by_mass], np.array(age_list)[sorted_by_mass], np.array(mag_list)[sorted_by_mass]\n",
      "/Users/connorvancil/Desktop/AstroResearch/contraster/testing/models.py:319: RuntimeWarning: Mean of empty slice\n",
      "  masses = np.nanmean(np.vstack([atmo_mass_interp,bex_mass_interp]),axis=0)\n"
     ]
    },
    {
     "name": "stdout",
     "output_type": "stream",
     "text": [
      "Saving to ./FarOut_Figures/Sub10MJup/HD 56414.png\n",
      "Target 136: WASP-135, 600 Myr, 298 pc, kmag=11.0\n"
     ]
    },
    {
     "name": "stderr",
     "output_type": "stream",
     "text": [
      "/Users/connorvancil/Desktop/AstroResearch/contraster/testing/models.py:89: VisibleDeprecationWarning: Creating an ndarray from ragged nested sequences (which is a list-or-tuple of lists-or-tuples-or ndarrays with different lengths or shapes) is deprecated. If you meant to do this, you must specify 'dtype=object' when creating the ndarray.\n",
      "  return np.array(masses)[sorted_by_mass], np.array(age_list)[sorted_by_mass], np.array(mag_list)[sorted_by_mass]\n",
      "/Users/connorvancil/Desktop/AstroResearch/contraster/testing/models.py:319: RuntimeWarning: Mean of empty slice\n",
      "  masses = np.nanmean(np.vstack([atmo_mass_interp,bex_mass_interp]),axis=0)\n"
     ]
    },
    {
     "name": "stdout",
     "output_type": "stream",
     "text": [
      "Saving to ./FarOut_Figures/Sub5MJup/WASP-135.png\n",
      "Target 137: Kepler-1312, 400 Myr, 299 pc, kmag=10.9\n"
     ]
    },
    {
     "name": "stderr",
     "output_type": "stream",
     "text": [
      "/Users/connorvancil/Desktop/AstroResearch/contraster/testing/models.py:89: VisibleDeprecationWarning: Creating an ndarray from ragged nested sequences (which is a list-or-tuple of lists-or-tuples-or ndarrays with different lengths or shapes) is deprecated. If you meant to do this, you must specify 'dtype=object' when creating the ndarray.\n",
      "  return np.array(masses)[sorted_by_mass], np.array(age_list)[sorted_by_mass], np.array(mag_list)[sorted_by_mass]\n",
      "/Users/connorvancil/Desktop/AstroResearch/contraster/testing/models.py:319: RuntimeWarning: Mean of empty slice\n",
      "  masses = np.nanmean(np.vstack([atmo_mass_interp,bex_mass_interp]),axis=0)\n"
     ]
    },
    {
     "name": "stdout",
     "output_type": "stream",
     "text": [
      "Saving to ./FarOut_Figures/Sub5MJup/Kepler-1312.png\n"
     ]
    }
   ],
   "source": [
    "full_detection_list = []\n",
    "\n",
    "for i, target in enumerate(targets):\n",
    "\n",
    "    age = target_dict[target][1]\n",
    "    distance = target_dict[target][0]\n",
    "\n",
    "    kmag,spt = simbad_vals[target]\n",
    "\n",
    "    print(\"Target {}: {}, {} Myr, {:.0f} pc, kmag={:.1f}\".format(i,target,age,distance,kmag))\n",
    "\n",
    "    for filter_name in filter_list:\n",
    "        \n",
    "        instrument = configs[filter_name]['instrument']\n",
    "        instrument_mask = configs[filter_name]['instrument_mask']\n",
    "\n",
    "        jwst_mag = get_jwst_mag(spt,kmag,instrument,filter_name,filter_dir=\"./\",jwst_mask=instrument_mask,\n",
    "                    norm_filter='bessel_k').value\n",
    "\n",
    "        contrast_curves=read_contrast_curves()\n",
    "        sep,companion_mags=companion_detection_limit(jwst_mag,filter_name,contrast_curves,plot=False);\n",
    "\n",
    "        good_seps = sep[np.where(np.isfinite(companion_mags))]\n",
    "\n",
    "        model_dir = base_model_dir+model_instrument_directories.get(instrument.lower())\n",
    "        \n",
    "        if instrument.lower () == \"nircam\":\n",
    "            model_dir+=model_nircam_mask_directories.get(instrument_mask.lower())\n",
    "\n",
    "        if age < max_bex_age:\n",
    "            mass_limits = generate_mass_curve(age,distance,companion_mags,filter_name,sep,model_dir,bex_model_filename=bex_file,\n",
    "                            plot=False)\n",
    "        else: \n",
    "            mass_limits = generate_mass_curve(age,distance,companion_mags,filter_name,sep,model_dir,\n",
    "                            plot=False)\n",
    "        onearc_mass=mass_limits[23]\n",
    "\n",
    "        if ((onearc_mass <= 10) and (onearc_mass > 5)):\n",
    "            figure_directory = figure_base_directory + 'Sub10MJup/'\n",
    "        elif ((onearc_mass) <=5 and  (onearc_mass >1)):\n",
    "            figure_directory = figure_base_directory + 'Sub5MJup/'\n",
    "        elif onearc_mass <=1:\n",
    "            figure_directory = figure_base_directory + 'Sub1MJup/'\n",
    "        else:\n",
    "            figure_directory = figure_base_directory + 'Others/'\n",
    "\n",
    "    fig,axis = plt.subplots(1,1,figsize=(12,5))\n",
    "    plt.semilogy(sep,mass_limits,label=filter_name)\n",
    "    plt.title(\"{}, {} Myr, {} pc, kmag={:.1f}, Mass at 1arcsec: {:.1f}\".format(target,age,distance,kmag,mass_limits[23]))\n",
    "\n",
    "    ymin, ymax = axis.get_ylim()\n",
    "\n",
    "    plt.xlabel(\"Separation (arcseconds)\")\n",
    "    plt.ylabel(r\"Mass Limit ($M_{Jup}$)\")\n",
    "    plt.savefig(figure_directory+target+\".png\",dpi=200)\n",
    "    print(\"Saving to {}\".format(figure_directory+target+\".png\"))\n",
    "    plt.close()"
   ]
  }
 ],
 "metadata": {
  "kernelspec": {
   "display_name": "Python 3.8.8 ('base')",
   "language": "python",
   "name": "python3"
  },
  "language_info": {
   "codemirror_mode": {
    "name": "ipython",
    "version": 3
   },
   "file_extension": ".py",
   "mimetype": "text/x-python",
   "name": "python",
   "nbconvert_exporter": "python",
   "pygments_lexer": "ipython3",
   "version": "3.8.8"
  },
  "orig_nbformat": 4,
  "vscode": {
   "interpreter": {
    "hash": "40d3a090f54c6569ab1632332b64b2c03c39dcf918b08424e98f38b5ae0af88f"
   }
  }
 },
 "nbformat": 4,
 "nbformat_minor": 2
}
