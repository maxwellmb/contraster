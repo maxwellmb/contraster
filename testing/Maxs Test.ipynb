{
 "cells": [
  {
   "cell_type": "markdown",
   "metadata": {},
   "source": [
    "Let's test things out on a single target: K2-33"
   ]
  },
  {
   "cell_type": "code",
   "execution_count": 1,
   "metadata": {},
   "outputs": [],
   "source": [
    "age = 7 #Myr\n",
    "distance = 142.8 #pc\n",
    "spt = \"M2V\"\n",
    "kmag = 10.1"
   ]
  },
  {
   "cell_type": "code",
   "execution_count": 2,
   "metadata": {},
   "outputs": [],
   "source": [
    "#First let's try to get the JWST mag in a given filter"
   ]
  },
  {
   "cell_type": "code",
   "execution_count": 3,
   "metadata": {},
   "outputs": [],
   "source": [
    "from jwst import *"
   ]
  },
  {
   "cell_type": "code",
   "execution_count": 11,
   "metadata": {},
   "outputs": [
    {
     "name": "stdout",
     "output_type": "stream",
     "text": [
      "9.793580328041326 VEGAMAG\n"
     ]
    }
   ],
   "source": [
    "instrument='nircam'\n",
    "instrument_mask = 'mask335r'\n",
    "jwst_filt = 'f410m'\n",
    "tst = get_jwst_mag(spt,kmag,instrument,jwst_filt,filter_dir=\"./\",jwst_mask=instrument_mask,\n",
    "                norm_filter='bessel_k')\n",
    "print(tst)"
   ]
  },
  {
   "cell_type": "markdown",
   "metadata": {},
   "source": [
    "That seems reasonable!"
   ]
  },
  {
   "cell_type": "code",
   "execution_count": null,
   "metadata": {},
   "outputs": [],
   "source": []
  }
 ],
 "metadata": {
  "kernelspec": {
   "display_name": "Python 3.7.13 ('base')",
   "language": "python",
   "name": "python3"
  },
  "language_info": {
   "codemirror_mode": {
    "name": "ipython",
    "version": 3
   },
   "file_extension": ".py",
   "mimetype": "text/x-python",
   "name": "python",
   "nbconvert_exporter": "python",
   "pygments_lexer": "ipython3",
   "version": "3.7.13"
  },
  "orig_nbformat": 4,
  "vscode": {
   "interpreter": {
    "hash": "0e7c2ea555855c9f57c4db6d48e17646d00561a8825fd834da410fe010272520"
   }
  }
 },
 "nbformat": 4,
 "nbformat_minor": 2
}
